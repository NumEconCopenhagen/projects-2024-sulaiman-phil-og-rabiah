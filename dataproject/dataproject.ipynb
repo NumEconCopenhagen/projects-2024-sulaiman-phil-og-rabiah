{
 "cells": [
  {
   "cell_type": "markdown",
   "metadata": {},
   "source": [
    "# Inflation, Unemploymet and Real GDP"
   ]
  },
  {
   "cell_type": "markdown",
   "metadata": {},
   "source": [
    "The goal of this project is to analyze the employment rates of men and women across various industries. We intend to present both the overall employment figures and highlight differences within specific sectors. Our objective is to identify sectors where one gender is predominant over the other and vice versa. Additionally, we aim to examine employment growth rates over time and assess how external factors, such as the 2020 pandemic, have impacted workforce dynamics. Through this analysis, we seek to gain insights into gender representation in the labor market and understand the effects of external events on employment trends."
   ]
  },
  {
   "cell_type": "markdown",
   "metadata": {},
   "source": [
    "Imports and load of relevant libraries"
   ]
  },
  {
   "cell_type": "code",
   "execution_count": 1,
   "metadata": {},
   "outputs": [],
   "source": [
    "import pandas as pd\n",
    "import numpy as np\n",
    "import matplotlib.pyplot as plt\n",
    "import ipywidgets as widgets\n",
    "from matplotlib_venn import venn2\n",
    "import datetime\n",
    "import pandas_datareader # install with `pip install pandas-datareader`\n",
    "from dstapi import DstApi # install with `pip install git+https://github.com/alemartinello/dstapi`\n",
    "\n",
    "# autoreload modules when code is run\n",
    "%load_ext autoreload\n",
    "%autoreload 2\n",
    "\n",
    "# user written modules\n",
    "import dataproject as dp\n",
    "\n",
    "#If you dont have the content below, remove the hashtag and install them\n",
    "\n",
    "# pip install pandas-datareader\n",
    "# %pip install git+https://github.com/alemartinello/dstapi\n",
    "# %pip install pandas-datareader\n",
    "\n",
    "plt.rcParams.update({\"axes.grid\":True,\"grid.color\":\"black\",\"grid.alpha\":\"0.25\",\"grid.linestyle\":\"--\"})\n",
    "plt.rcParams.update({'font.size': 14})"
   ]
  },
  {
   "cell_type": "markdown",
   "metadata": {},
   "source": [
    "## Importing inflation data from Denmark Statistics"
   ]
  },
  {
   "cell_type": "markdown",
   "metadata": {},
   "source": [
    "We consider the following dictionary definitions wrt. table PRIS111"
   ]
  },
  {
   "cell_type": "code",
   "execution_count": 2,
   "metadata": {},
   "outputs": [],
   "source": [
    "columns_dict = {}\n",
    "columns_dict['VAREGR'] = 'variable'\n",
    "columns_dict['ENHED'] = 'unit'\n",
    "columns_dict['TID'] = 'Year'\n",
    "columns_dict['INDHOLD'] = 'Inflation rate'\n",
    "\n",
    "var_dict = {} # var is for variable\n",
    "var_dict['00 Consumer price index, total'] = 'Y'\n",
    "\n",
    "\n",
    "unit_dict = {}\n",
    "unit_dict['Index'] = 'Indexnumber'\n",
    "unit_dict['Percentage change compared to previous month (per cent)'] = 'pct month'\n",
    "unit_dict['Percentage change compared to same month the year before (per cent)'] = 'pct year'"
   ]
  },
  {
   "cell_type": "code",
   "execution_count": 3,
   "metadata": {},
   "outputs": [],
   "source": [
    "# Importing inflation data via Api.  \n",
    "PRIS111_api = DstApi('PRIS111') \n",
    "params = PRIS111_api._define_base_params(language='en')\n",
    "\n",
    "PRIS111 = PRIS111_api.get_data(params)"
   ]
  },
  {
   "cell_type": "code",
   "execution_count": 4,
   "metadata": {},
   "outputs": [],
   "source": [
    "# Renaming columns of the DataFrame PRIS111. \n",
    "PRIS111.rename(columns=columns_dict,inplace=True)\n",
    "\n",
    "# Looping over the var dictionary.\n",
    "for key,value in var_dict.items():\n",
    "    PRIS111.variable.replace(key,value,inplace=True)\n",
    "\n",
    "# Looping over the unit dictionary.\n",
    "for key,value in unit_dict.items():\n",
    "    PRIS111.unit.replace(key,value,inplace=True)\n"
   ]
  },
  {
   "cell_type": "code",
   "execution_count": 5,
   "metadata": {},
   "outputs": [],
   "source": [
    "# Only keep rows where the variable is in `[Y]`. Afterwards convert the `value` column to a float.\n",
    "\n",
    "# Ensuring 'year' is a string before applying string methods\n",
    "PRIS111['Year'] = PRIS111['Year'].astype(str)\n",
    "\n",
    "# Filter based on 'variable' values\n",
    "var_vals = var_dict.values()\n",
    "I_var = PRIS111['variable'].isin(var_vals)\n",
    "PRIS111 = PRIS111[I_var]\n",
    "\n",
    "# Grouping variables\n",
    "# PRIS111.groupby(['variable','unit']).describe()"
   ]
  },
  {
   "cell_type": "markdown",
   "metadata": {},
   "source": [
    "## Exploring data set"
   ]
  },
  {
   "cell_type": "code",
   "execution_count": 6,
   "metadata": {},
   "outputs": [],
   "source": [
    "# Ensuring 'year' is a string before applying string methods\n",
    "PRIS111['Year'] = PRIS111['Year'].astype(str)\n",
    "\n",
    "# Filter based on 'variable' values\n",
    "var_vals = var_dict.values()\n",
    "I_var = PRIS111['variable'].isin(var_vals)\n",
    "PRIS111 = PRIS111[I_var]\n",
    "\n",
    "# Remove rows where 'unit' is either \"Indexnumber\" or \"pct month\"\n",
    "units_to_exclude = ['Indexnumber', 'pct month']\n",
    "I_unit = ~PRIS111['unit'].isin(units_to_exclude)\n",
    "PRIS111 = PRIS111[I_unit]\n",
    "\n",
    "# Filter to keep only rows where 'year' ends with \"M12\", then remove the \"M12\" part\n",
    "I_year_suffix = PRIS111['Year'].str.endswith(\"M12\")\n",
    "PRIS111 = PRIS111[I_year_suffix]\n",
    "PRIS111['Year'] = PRIS111['Year'].str.replace('M12', '')\n",
    "\n",
    "# Convert 'year' back to integer for proper comparison and sorting\n",
    "PRIS111['Year'] = PRIS111['Year'].astype(int)\n",
    "\n",
    "# Exclude rows before \"2007\" and the year \"2023\"\n",
    "PRIS111 = PRIS111[(PRIS111['Year'] >= 2007) & (PRIS111['Year'] != 2023)]\n",
    "\n",
    "# Sort the DataFrame by 'year' in ascending order\n",
    "PRIS111 = PRIS111.sort_values(by='Year')\n",
    "\n",
    "# PRIS111\n"
   ]
  },
  {
   "cell_type": "markdown",
   "metadata": {},
   "source": [
    "## Merge inflation- and unemployment data from Denmark Statistics"
   ]
  },
  {
   "cell_type": "markdown",
   "metadata": {},
   "source": [
    "We merge with AULP01: Unemployment"
   ]
  },
  {
   "cell_type": "code",
   "execution_count": 7,
   "metadata": {},
   "outputs": [],
   "source": [
    "FT_api = DstApi('AULP01')\n",
    "params = FT_api._define_base_params(language='en')\n",
    "params['variables'][0]['values'] = ['000']\n",
    "params['variables'][1]['values'] = ['TOT']\n",
    "params['variables'][2]['values'] = ['TOT']\n",
    "params['variables'][3]['values'] = ['2007','2008','2009','2010','2011','2012','2013', '2014', '2015', '2016', '2017', '2018', '2019', '2020', '2021', '2022']\n",
    "## 000 is the code for all of Denmark, this can be seen by using: FT_api.variable_levels('HOVEDDELE', language='en')\n",
    "unemp = FT_api.get_data(params=params)\n",
    "\n",
    "unemp.rename(columns={'TID':'Year','INDHOLD':'Unemployment'},inplace=True)\n",
    "unemp =  unemp.loc[:,['Year','Unemployment']]"
   ]
  },
  {
   "cell_type": "code",
   "execution_count": 8,
   "metadata": {},
   "outputs": [],
   "source": [
    "# hint, merged = pd.merge(?,?,how='?',on=[?])\n",
    "# merged_true.tail(10)\n",
    "\n",
    "# Merge the DataFrames\n",
    "#merged = pd.merge(PRIS111, unemp, how='left', on=['year'])\n",
    "\n",
    "# Display the tail of the new DataFrame\n",
    "# merged.tail(20)\n",
    "\n",
    "# We merge our two dataframes inflation (PRIS111) and Unemployment (unemp)\n",
    "merged = pd.merge(PRIS111, unemp, how='left', on='Year')\n",
    "\n",
    "Combined_data = merged[['Year', 'Inflation rate', 'Unemployment']]"
   ]
  },
  {
   "cell_type": "code",
   "execution_count": 9,
   "metadata": {},
   "outputs": [
    {
     "data": {
      "text/html": [
       "<div>\n",
       "<style scoped>\n",
       "    .dataframe tbody tr th:only-of-type {\n",
       "        vertical-align: middle;\n",
       "    }\n",
       "\n",
       "    .dataframe tbody tr th {\n",
       "        vertical-align: top;\n",
       "    }\n",
       "\n",
       "    .dataframe thead th {\n",
       "        text-align: right;\n",
       "    }\n",
       "</style>\n",
       "<table border=\"1\" class=\"dataframe\">\n",
       "  <thead>\n",
       "    <tr style=\"text-align: right;\">\n",
       "      <th></th>\n",
       "      <th>Year</th>\n",
       "      <th>Inflation rate</th>\n",
       "      <th>Unemployment</th>\n",
       "    </tr>\n",
       "  </thead>\n",
       "  <tbody>\n",
       "    <tr>\n",
       "      <th>0</th>\n",
       "      <td>2007</td>\n",
       "      <td>2.3</td>\n",
       "      <td>3.6</td>\n",
       "    </tr>\n",
       "    <tr>\n",
       "      <th>1</th>\n",
       "      <td>2008</td>\n",
       "      <td>2.4</td>\n",
       "      <td>2.6</td>\n",
       "    </tr>\n",
       "  </tbody>\n",
       "</table>\n",
       "</div>"
      ],
      "text/plain": [
       "   Year Inflation rate Unemployment\n",
       "0  2007            2.3          3.6\n",
       "1  2008            2.4          2.6"
      ]
     },
     "execution_count": 9,
     "metadata": {},
     "output_type": "execute_result"
    }
   ],
   "source": [
    "Combined_data.head(2)"
   ]
  },
  {
   "cell_type": "markdown",
   "metadata": {},
   "source": [
    "## Real GDP for Denmark"
   ]
  },
  {
   "cell_type": "code",
   "execution_count": 10,
   "metadata": {},
   "outputs": [],
   "source": [
    "# Importing data from CSV file 'Real GDP'\n",
    "GDP = pd.read_csv('GDP new1.csv',delimiter=';')"
   ]
  },
  {
   "cell_type": "markdown",
   "metadata": {},
   "source": [
    "## Display the data set"
   ]
  },
  {
   "cell_type": "code",
   "execution_count": 11,
   "metadata": {},
   "outputs": [
    {
     "data": {
      "text/html": [
       "<div>\n",
       "<style scoped>\n",
       "    .dataframe tbody tr th:only-of-type {\n",
       "        vertical-align: middle;\n",
       "    }\n",
       "\n",
       "    .dataframe tbody tr th {\n",
       "        vertical-align: top;\n",
       "    }\n",
       "\n",
       "    .dataframe thead th {\n",
       "        text-align: right;\n",
       "    }\n",
       "</style>\n",
       "<table border=\"1\" class=\"dataframe\">\n",
       "  <thead>\n",
       "    <tr style=\"text-align: right;\">\n",
       "      <th></th>\n",
       "      <th>Year</th>\n",
       "      <th>Real GDP</th>\n",
       "    </tr>\n",
       "  </thead>\n",
       "  <tbody>\n",
       "    <tr>\n",
       "      <th>0</th>\n",
       "      <td>2007</td>\n",
       "      <td>1879.0</td>\n",
       "    </tr>\n",
       "    <tr>\n",
       "      <th>1</th>\n",
       "      <td>2008</td>\n",
       "      <td>1869.4</td>\n",
       "    </tr>\n",
       "    <tr>\n",
       "      <th>2</th>\n",
       "      <td>2009</td>\n",
       "      <td>1777.7</td>\n",
       "    </tr>\n",
       "    <tr>\n",
       "      <th>3</th>\n",
       "      <td>2010</td>\n",
       "      <td>1810.9</td>\n",
       "    </tr>\n",
       "    <tr>\n",
       "      <th>4</th>\n",
       "      <td>2011</td>\n",
       "      <td>1835.1</td>\n",
       "    </tr>\n",
       "    <tr>\n",
       "      <th>5</th>\n",
       "      <td>2012</td>\n",
       "      <td>1839.3</td>\n",
       "    </tr>\n",
       "    <tr>\n",
       "      <th>6</th>\n",
       "      <td>2013</td>\n",
       "      <td>1856.5</td>\n",
       "    </tr>\n",
       "    <tr>\n",
       "      <th>7</th>\n",
       "      <td>2014</td>\n",
       "      <td>1886.5</td>\n",
       "    </tr>\n",
       "    <tr>\n",
       "      <th>8</th>\n",
       "      <td>2015</td>\n",
       "      <td>1930.7</td>\n",
       "    </tr>\n",
       "    <tr>\n",
       "      <th>9</th>\n",
       "      <td>2016</td>\n",
       "      <td>1993.4</td>\n",
       "    </tr>\n",
       "  </tbody>\n",
       "</table>\n",
       "</div>"
      ],
      "text/plain": [
       "   Year  Real GDP\n",
       "0  2007    1879.0\n",
       "1  2008    1869.4\n",
       "2  2009    1777.7\n",
       "3  2010    1810.9\n",
       "4  2011    1835.1\n",
       "5  2012    1839.3\n",
       "6  2013    1856.5\n",
       "7  2014    1886.5\n",
       "8  2015    1930.7\n",
       "9  2016    1993.4"
      ]
     },
     "execution_count": 11,
     "metadata": {},
     "output_type": "execute_result"
    }
   ],
   "source": [
    "#Here we display the data to see the values for Real GDP\n",
    "GDP.head(10)"
   ]
  },
  {
   "cell_type": "code",
   "execution_count": 12,
   "metadata": {},
   "outputs": [
    {
     "data": {
      "text/html": [
       "<div>\n",
       "<style scoped>\n",
       "    .dataframe tbody tr th:only-of-type {\n",
       "        vertical-align: middle;\n",
       "    }\n",
       "\n",
       "    .dataframe tbody tr th {\n",
       "        vertical-align: top;\n",
       "    }\n",
       "\n",
       "    .dataframe thead th {\n",
       "        text-align: right;\n",
       "    }\n",
       "</style>\n",
       "<table border=\"1\" class=\"dataframe\">\n",
       "  <thead>\n",
       "    <tr style=\"text-align: right;\">\n",
       "      <th></th>\n",
       "      <th>Year</th>\n",
       "      <th>Inflation rate</th>\n",
       "      <th>Unemployment</th>\n",
       "    </tr>\n",
       "  </thead>\n",
       "  <tbody>\n",
       "    <tr>\n",
       "      <th>0</th>\n",
       "      <td>2007</td>\n",
       "      <td>2.3</td>\n",
       "      <td>3.6</td>\n",
       "    </tr>\n",
       "    <tr>\n",
       "      <th>1</th>\n",
       "      <td>2008</td>\n",
       "      <td>2.4</td>\n",
       "      <td>2.6</td>\n",
       "    </tr>\n",
       "  </tbody>\n",
       "</table>\n",
       "</div>"
      ],
      "text/plain": [
       "   Year Inflation rate Unemployment\n",
       "0  2007            2.3          3.6\n",
       "1  2008            2.4          2.6"
      ]
     },
     "execution_count": 12,
     "metadata": {},
     "output_type": "execute_result"
    }
   ],
   "source": [
    "# We display our combined data for the inflation- and unemployment rate. \n",
    "Combined_data.head(2)"
   ]
  },
  {
   "cell_type": "markdown",
   "metadata": {},
   "source": [
    "We combine all three dataframes Real GDP with inflation rate and unemployment rate"
   ]
  },
  {
   "cell_type": "code",
   "execution_count": 13,
   "metadata": {},
   "outputs": [
    {
     "data": {
      "text/html": [
       "<div>\n",
       "<style scoped>\n",
       "    .dataframe tbody tr th:only-of-type {\n",
       "        vertical-align: middle;\n",
       "    }\n",
       "\n",
       "    .dataframe tbody tr th {\n",
       "        vertical-align: top;\n",
       "    }\n",
       "\n",
       "    .dataframe thead th {\n",
       "        text-align: right;\n",
       "    }\n",
       "</style>\n",
       "<table border=\"1\" class=\"dataframe\">\n",
       "  <thead>\n",
       "    <tr style=\"text-align: right;\">\n",
       "      <th></th>\n",
       "      <th>Year</th>\n",
       "      <th>Inflation rate</th>\n",
       "      <th>Unemployment</th>\n",
       "      <th>Real GDP</th>\n",
       "    </tr>\n",
       "  </thead>\n",
       "  <tbody>\n",
       "    <tr>\n",
       "      <th>0</th>\n",
       "      <td>2007</td>\n",
       "      <td>2.3</td>\n",
       "      <td>3.6</td>\n",
       "      <td>1879.0</td>\n",
       "    </tr>\n",
       "    <tr>\n",
       "      <th>1</th>\n",
       "      <td>2008</td>\n",
       "      <td>2.4</td>\n",
       "      <td>2.6</td>\n",
       "      <td>1869.4</td>\n",
       "    </tr>\n",
       "    <tr>\n",
       "      <th>2</th>\n",
       "      <td>2009</td>\n",
       "      <td>1.4</td>\n",
       "      <td>4.8</td>\n",
       "      <td>1777.7</td>\n",
       "    </tr>\n",
       "    <tr>\n",
       "      <th>3</th>\n",
       "      <td>2010</td>\n",
       "      <td>2.8</td>\n",
       "      <td>6.1</td>\n",
       "      <td>1810.9</td>\n",
       "    </tr>\n",
       "    <tr>\n",
       "      <th>4</th>\n",
       "      <td>2011</td>\n",
       "      <td>2.4</td>\n",
       "      <td>6.0</td>\n",
       "      <td>1835.1</td>\n",
       "    </tr>\n",
       "  </tbody>\n",
       "</table>\n",
       "</div>"
      ],
      "text/plain": [
       "   Year Inflation rate Unemployment  Real GDP\n",
       "0  2007            2.3          3.6    1879.0\n",
       "1  2008            2.4          2.6    1869.4\n",
       "2  2009            1.4          4.8    1777.7\n",
       "3  2010            2.8          6.1    1810.9\n",
       "4  2011            2.4          6.0    1835.1"
      ]
     },
     "execution_count": 13,
     "metadata": {},
     "output_type": "execute_result"
    }
   ],
   "source": [
    "# We join/ merge our dataframe real GDP with our combined data which contains dataframe inflation- and unemployment rate. \n",
    "merging = pd.merge(GDP, Combined_data, how='left', on=['Year'])\n",
    "\n",
    "Combined_data1 = merging[[\"Year\", \"Inflation rate\", \"Unemployment\", \"Real GDP\"]]\n",
    "Combined_data1.head(5)"
   ]
  },
  {
   "cell_type": "code",
   "execution_count": 14,
   "metadata": {},
   "outputs": [],
   "source": [
    "# We convert 'Year' column to integer if it's stored as string. \n",
    "Combined_data1['Year'] = pd.to_numeric(Combined_data1['Year'], errors='coerce')\n",
    "# Here we do the same. Converting 'Real GDP', 'Inflation rate' and 'Unemployment' to a numeric type. \n",
    "Combined_data1['Real GDP'] = pd.to_numeric(Combined_data1['Real GDP'], errors='coerce')\n",
    "Combined_data1['Inflation rate'] = pd.to_numeric(Combined_data1['Inflation rate'], errors='coerce')\n",
    "Combined_data1['Unemployment'] = pd.to_numeric(Combined_data1['Unemployment'], errors='coerce')\n"
   ]
  },
  {
   "cell_type": "code",
   "execution_count": 29,
   "metadata": {},
   "outputs": [
    {
     "data": {
      "image/png": "[encoded data removed]",
      "text/plain": [
       "<Figure size 1000x400 with 1 Axes>"
      ]
     },
     "metadata": {},
     "output_type": "display_data"
    }
   ],
   "source": [
    "# We sort our dataframe 'Combined data' by the 'Year' column\n",
    "Combined_data1.sort_values(by='Year', inplace=True)\n",
    "\n",
    "# Plotting the graph for Real GDP\n",
    "plt.figure(figsize=(10, 4))\n",
    "plt.plot(GDP['Year'], GDP['Real GDP'], marker='o', color='blue')\n",
    "plt.ylabel('Real GDP (Mia. kr.)')\n",
    "plt.title('Real GDP Over Time in Denmark')\n",
    "plt.xlabel('Year')\n",
    "plt.grid(True)  # Add gridlines\n",
    "plt.tight_layout()\n",
    "plt.show()"
   ]
  },
  {
   "cell_type": "markdown",
   "metadata": {},
   "source": [
    "The graph above shows the development of GDP from 2007 to 2023. In the graph, we can divide it into the following sub-periods. From 2007 to 2009, there is a significant decline, which is due to the financial crisis. GDP decreases by 100 billions DKK. Next, there is a trend of a significant increase in GDP from 2009 to 2019. GDP increases by 344 billions DKK. From 2019 to 2020, there is a slight decrease in GDP due to COVID-19 and decreases by 51.4 billions DKK. The curve is increasing again from 2020 onwards until 2023."
   ]
  },
  {
   "cell_type": "markdown",
   "metadata": {},
   "source": [
    "## Analyzing the data"
   ]
  },
  {
   "cell_type": "code",
   "execution_count": 16,
   "metadata": {},
   "outputs": [
    {
     "name": "stdout",
     "output_type": "stream",
     "text": [
      "Average Unemployment Rate: 4.43\n",
      "Average Inflation Rate: 1.89\n"
     ]
    }
   ],
   "source": [
    "# We calculate average Unemployment Rate\n",
    "average_unemp = Combined_data1['Unemployment'].mean()\n",
    "\n",
    "# Doing the same. Calculate average Inflation Rate\n",
    "average_inf = Combined_data1['Inflation rate'].mean()\n",
    "\n",
    "# Printing the results making sure it only prints 2 decimals.  \n",
    "print(\"Average Unemployment Rate:\", round(average_unemp,2))\n",
    "print(\"Average Inflation Rate:\", round(average_inf,2))\n",
    "\n"
   ]
  },
  {
   "cell_type": "markdown",
   "metadata": {},
   "source": [
    "Here we see that the average unemployment rate and the inflation rate for the period 2007-2022 are 4.43 pct. and 1.89 pct."
   ]
  },
  {
   "cell_type": "code",
   "execution_count": 22,
   "metadata": {},
   "outputs": [
    {
     "name": "stdout",
     "output_type": "stream",
     "text": [
      "Correlation between GDP and Inflation Rate: 0.41\n"
     ]
    }
   ],
   "source": [
    "#Calculating the correlation between Real GDP and Inflation\n",
    "corr_GDP_inf = Combined_data1['Real GDP'].corr(Combined_data1['Inflation rate'])\n",
    "print(\"Correlation between GDP and Inflation Rate:\", round(corr_GDP_inf,2))"
   ]
  },
  {
   "cell_type": "markdown",
   "metadata": {},
   "source": [
    "The data shows a positive correlation between real GDP and the inflation rate. According to the Phillips curve, inflation rises as demand for labor increases. In this scenario, workers can demand higher wages, resulting in higher production prices. This, in turn, leads to an increase in capital and labor, resulting in a higher real GDP."
   ]
  },
  {
   "cell_type": "code",
   "execution_count": 23,
   "metadata": {},
   "outputs": [
    {
     "name": "stdout",
     "output_type": "stream",
     "text": [
      "Correlation coefficient between Real GDP and Unemployment: -0.65\n"
     ]
    }
   ],
   "source": [
    "#Calculate the correlation between Real GDP and unemployment rates.\n",
    "\n",
    "corr_GDP_unemp = Combined_data1['Unemployment'].corr(Combined_data1['Real GDP'])\n",
    "\n",
    "# Print the correlation coefficient\n",
    "print(\"Correlation coefficient between Real GDP and Unemployment:\", round(corr_GDP_unemp,2))"
   ]
  },
  {
   "cell_type": "markdown",
   "metadata": {},
   "source": [
    "We see a positive correlation between Real GDP and Unemployment. As Real GDP increases, Unemployment tends to decrease, and vice versa. Due the Phillips curve there is an inverse relationship between inflation and unemployment in the short run. When the economy is performing well and Real GDP is increasing, there tends to be higher demand for goods and services, leading to increased production and employment opportunities. As more people find jobs, the unemployment rate decreases. Conversely, during economic downturns, Real GDP decreases, leading to lower demand for goods and services and, consequently, higher unemployment rates. "
   ]
  },
  {
   "cell_type": "code",
   "execution_count": 24,
   "metadata": {},
   "outputs": [
    {
     "name": "stdout",
     "output_type": "stream",
     "text": [
      "Correlation coefficient between Inflation rate and Unemployment rate: -0.39\n"
     ]
    }
   ],
   "source": [
    "# Calculate the correlation between inflation rates and unemployment rates\n",
    "corr_inf_unemp = Combined_data1['Inflation rate'].corr(Combined_data1['Unemployment'])\n",
    "\n",
    "# Print the correlation coefficient\n",
    "print(\"Correlation coefficient between Inflation rate and Unemployment rate:\", round(corr_inf_unemp,2))"
   ]
  },
  {
   "cell_type": "markdown",
   "metadata": {},
   "source": [
    "A negative correlation between inflation and unemployment is observed to be -0.39. As described above, according to the Phillips curve, high inflation will lead to low unemployment. This is attributed to several factors, but the primary explanation lies in the increased demand for labor in the labor market. More individuals are employed, and as a result, businesses can offer higher wages to employees, resulting in low unemployment. It should be noted that there are multiple factors at play. This is a simplified version/explanation."
   ]
  },
  {
   "cell_type": "code",
   "execution_count": 28,
   "metadata": {},
   "outputs": [
    {
     "name": "stdout",
     "output_type": "stream",
     "text": [
      "    Year  GDP_growth\n",
      "1   2008       -0.51\n",
      "2   2009       -4.91\n",
      "3   2010        1.87\n",
      "4   2011        1.34\n",
      "5   2012        0.23\n",
      "6   2013        0.94\n",
      "7   2014        1.62\n",
      "8   2015        2.34\n",
      "9   2016        3.25\n",
      "10  2017        2.82\n",
      "11  2018        1.99\n",
      "12  2019        1.49\n",
      "13  2020       -2.42\n",
      "14  2021        6.84\n",
      "15  2022        2.73\n",
      "16  2023        1.89\n"
     ]
    }
   ],
   "source": [
    "# Calculate the annual growth rate of GDP (percentage change in GDP)\n",
    "GDP['GDP_growth'] = GDP['Real GDP'].pct_change() * 100 \n",
    "\n",
    "# Create a new DataFrame with Year and GDP Growth Rate\n",
    "GDP_growth_ = pd.DataFrame({'Year': GDP['Year'], 'GDP_growth': GDP['GDP_growth']})\n",
    "\n",
    "# Drop the first row, 2007, since it will have NaN value for growth rate\n",
    "GDP_growth_ = GDP_growth_.dropna()\n",
    "\n",
    "# Print the DataFrame with Year and GDP Growth Rate\n",
    "print(round(GDP_growth_,2))"
   ]
  },
  {
   "cell_type": "code",
   "execution_count": 21,
   "metadata": {},
   "outputs": [
    {
     "data": {
      "image/png": "[encoded data removed]",
      "text/plain": [
       "<Figure size 1000x400 with 1 Axes>"
      ]
     },
     "metadata": {},
     "output_type": "display_data"
    }
   ],
   "source": [
    "GDP_growth_.sort_values(by='Year', inplace=True)\n",
    "\n",
    "# Plotting the graph for annual pct. increas in GDP\n",
    "plt.figure(figsize=(10, 4))\n",
    "plt.plot(GDP_growth_['Year'], GDP_growth_['GDP_growth'], marker='o', color='blue')\n",
    "plt.ylabel('GDP growth (pct.)')\n",
    "plt.title('Annual pct. increase in GDP')\n",
    "plt.xlabel('Year')\n",
    "plt.grid(True)  # Add gridlines\n",
    "plt.tight_layout()\n",
    "plt.show()"
   ]
  },
  {
   "cell_type": "markdown",
   "metadata": {},
   "source": [
    "The graph shows the annual percentage increase in GDP. The curve shows significant volatility throughout the period from 2008 to 2023. As previously explained in the figure illustrating Real GDP over time in Denmark, we can highlight 2009, 2020, and 2022. In 2009, a sharp decline of 4.91 percent is observed, attributed to Denmark being hit by the financial crisis. This had serious consequences on the Danish economy, including GDP. From 2009 to 2010, there is an increase of 1.87 percent, which begins to stabilize the economy. In 2020, COVID-19 hits again, impacting the economy and GDP. However, we quickly bring the economy back to a relatively stable level, and in 2021, we see an increase of 6.84 percent. This is the highest increase observed on the graph so far. In 2022, the war in Ukraine begins, affecting several countries due to the high energy and gas prices."
   ]
  }
 ],
 "metadata": {
  "kernelspec": {
   "display_name": "base",
   "language": "python",
   "name": "python3"
  },
  "language_info": {
   "codemirror_mode": {
    "name": "ipython",
    "version": 3
   },
   "file_extension": ".py",
   "mimetype": "text/x-python",
   "name": "python",
   "nbconvert_exporter": "python",
   "pygments_lexer": "ipython3",
   "version": "3.11.7"
  },
  "toc-autonumbering": true,
  "vscode": {
   "interpreter": {
    "hash": "47ef90cdf3004d3f859f1fb202523c65c07ba7c22eefd261b181f4744e2d0403"
   }
  }
 },
 "nbformat": 4,
 "nbformat_minor": 4
}
