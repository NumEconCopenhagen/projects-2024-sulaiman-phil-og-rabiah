{
 "cells": [
  {
   "cell_type": "markdown",
   "metadata": {},
   "source": [
    "# YOUR PROJECT TITLE"
   ]
  },
  {
   "attachments": {},
   "cell_type": "markdown",
   "metadata": {},
   "source": [
    "> **Note the following:** \n",
    "> 1. This is *not* meant to be an example of an actual **data analysis project**, just an example of how to structure such a project.\n",
    "> 1. Remember the general advice on structuring and commenting your code\n",
    "> 1. The `dataproject.py` file includes a function which can be used multiple times in this notebook."
   ]
  },
  {
   "cell_type": "markdown",
   "metadata": {},
   "source": [
    "Imports and set magics:"
   ]
  },
  {
   "cell_type": "code",
   "execution_count": 1,
   "metadata": {},
   "outputs": [
    {
     "name": "stdout",
     "output_type": "stream",
     "text": [
      "Requirement already satisfied: matplotlib-venn in c:\\users\\ejer\\anaconda3\\lib\\site-packages (0.11.10)\n",
      "Requirement already satisfied: matplotlib in c:\\users\\ejer\\anaconda3\\lib\\site-packages (from matplotlib-venn) (3.8.0)\n",
      "Requirement already satisfied: numpy in c:\\users\\ejer\\anaconda3\\lib\\site-packages (from matplotlib-venn) (1.26.3)\n",
      "Requirement already satisfied: scipy in c:\\users\\ejer\\anaconda3\\lib\\site-packages (from matplotlib-venn) (1.11.4)\n",
      "Requirement already satisfied: contourpy>=1.0.1 in c:\\users\\ejer\\anaconda3\\lib\\site-packages (from matplotlib->matplotlib-venn) (1.2.0)\n",
      "Requirement already satisfied: cycler>=0.10 in c:\\users\\ejer\\anaconda3\\lib\\site-packages (from matplotlib->matplotlib-venn) (0.11.0)\n",
      "Requirement already satisfied: fonttools>=4.22.0 in c:\\users\\ejer\\anaconda3\\lib\\site-packages (from matplotlib->matplotlib-venn) (4.25.0)\n",
      "Requirement already satisfied: kiwisolver>=1.0.1 in c:\\users\\ejer\\anaconda3\\lib\\site-packages (from matplotlib->matplotlib-venn) (1.4.4)\n",
      "Requirement already satisfied: packaging>=20.0 in c:\\users\\ejer\\anaconda3\\lib\\site-packages (from matplotlib->matplotlib-venn) (23.1)\n",
      "Requirement already satisfied: pillow>=6.2.0 in c:\\users\\ejer\\anaconda3\\lib\\site-packages (from matplotlib->matplotlib-venn) (10.2.0)\n",
      "Requirement already satisfied: pyparsing>=2.3.1 in c:\\users\\ejer\\anaconda3\\lib\\site-packages (from matplotlib->matplotlib-venn) (3.0.9)\n",
      "Requirement already satisfied: python-dateutil>=2.7 in c:\\users\\ejer\\anaconda3\\lib\\site-packages (from matplotlib->matplotlib-venn) (2.8.2)\n",
      "Requirement already satisfied: six>=1.5 in c:\\users\\ejer\\anaconda3\\lib\\site-packages (from python-dateutil>=2.7->matplotlib->matplotlib-venn) (1.16.0)\n",
      "Note: you may need to restart the kernel to use updated packages.\n"
     ]
    }
   ],
   "source": [
    "pip install matplotlib-venn\n"
   ]
  },
  {
   "cell_type": "code",
   "execution_count": 2,
   "metadata": {},
   "outputs": [
    {
     "name": "stdout",
     "output_type": "stream",
     "text": [
      "Requirement already satisfied: ipywidgets in c:\\users\\ejer\\anaconda3\\lib\\site-packages (8.1.2)\n",
      "Requirement already satisfied: comm>=0.1.3 in c:\\users\\ejer\\anaconda3\\lib\\site-packages (from ipywidgets) (0.2.1)\n",
      "Requirement already satisfied: ipython>=6.1.0 in c:\\users\\ejer\\anaconda3\\lib\\site-packages (from ipywidgets) (8.20.0)\n",
      "Requirement already satisfied: traitlets>=4.3.1 in c:\\users\\ejer\\anaconda3\\lib\\site-packages (from ipywidgets) (5.7.1)\n",
      "Requirement already satisfied: widgetsnbextension~=4.0.10 in c:\\users\\ejer\\anaconda3\\lib\\site-packages (from ipywidgets) (4.0.10)\n",
      "Requirement already satisfied: jupyterlab-widgets~=3.0.10 in c:\\users\\ejer\\anaconda3\\lib\\site-packages (from ipywidgets) (3.0.10)\n",
      "Requirement already satisfied: decorator in c:\\users\\ejer\\anaconda3\\lib\\site-packages (from ipython>=6.1.0->ipywidgets) (5.1.1)\n",
      "Requirement already satisfied: jedi>=0.16 in c:\\users\\ejer\\anaconda3\\lib\\site-packages (from ipython>=6.1.0->ipywidgets) (0.18.1)\n",
      "Requirement already satisfied: matplotlib-inline in c:\\users\\ejer\\anaconda3\\lib\\site-packages (from ipython>=6.1.0->ipywidgets) (0.1.6)\n",
      "Requirement already satisfied: prompt-toolkit<3.1.0,>=3.0.41 in c:\\users\\ejer\\anaconda3\\lib\\site-packages (from ipython>=6.1.0->ipywidgets) (3.0.43)\n",
      "Requirement already satisfied: pygments>=2.4.0 in c:\\users\\ejer\\anaconda3\\lib\\site-packages (from ipython>=6.1.0->ipywidgets) (2.15.1)\n",
      "Requirement already satisfied: stack-data in c:\\users\\ejer\\anaconda3\\lib\\site-packages (from ipython>=6.1.0->ipywidgets) (0.2.0)\n",
      "Requirement already satisfied: colorama in c:\\users\\ejer\\anaconda3\\lib\\site-packages (from ipython>=6.1.0->ipywidgets) (0.4.6)\n",
      "Requirement already satisfied: parso<0.9.0,>=0.8.0 in c:\\users\\ejer\\anaconda3\\lib\\site-packages (from jedi>=0.16->ipython>=6.1.0->ipywidgets) (0.8.3)\n",
      "Requirement already satisfied: wcwidth in c:\\users\\ejer\\anaconda3\\lib\\site-packages (from prompt-toolkit<3.1.0,>=3.0.41->ipython>=6.1.0->ipywidgets) (0.2.5)\n",
      "Requirement already satisfied: executing in c:\\users\\ejer\\anaconda3\\lib\\site-packages (from stack-data->ipython>=6.1.0->ipywidgets) (0.8.3)\n",
      "Requirement already satisfied: asttokens in c:\\users\\ejer\\anaconda3\\lib\\site-packages (from stack-data->ipython>=6.1.0->ipywidgets) (2.0.5)\n",
      "Requirement already satisfied: pure-eval in c:\\users\\ejer\\anaconda3\\lib\\site-packages (from stack-data->ipython>=6.1.0->ipywidgets) (0.2.2)\n",
      "Requirement already satisfied: six in c:\\users\\ejer\\anaconda3\\lib\\site-packages (from asttokens->stack-data->ipython>=6.1.0->ipywidgets) (1.16.0)\n",
      "Note: you may need to restart the kernel to use updated packages.\n"
     ]
    }
   ],
   "source": [
    "pip install ipywidgets"
   ]
  },
  {
   "cell_type": "code",
   "execution_count": 3,
   "metadata": {},
   "outputs": [],
   "source": [
    "import pandas as pd\n",
    "import numpy as np\n",
    "import matplotlib.pyplot as plt\n",
    "import ipywidgets as widgets\n",
    "from matplotlib_venn import venn2\n",
    "\n",
    "# autoreload modules when code is run\n",
    "%load_ext autoreload\n",
    "%autoreload 2\n",
    "\n",
    "# user written modules\n",
    "import dataproject as dp\n"
   ]
  },
  {
   "cell_type": "markdown",
   "metadata": {},
   "source": [
    "# Read and clean data"
   ]
  },
  {
   "cell_type": "code",
   "execution_count": 4,
   "metadata": {},
   "outputs": [
    {
     "name": "stdout",
     "output_type": "stream",
     "text": [
      "Requirement already satisfied: pandas-datareader in c:\\users\\ejer\\anaconda3\\lib\\site-packages (0.10.0)\n",
      "Requirement already satisfied: lxml in c:\\users\\ejer\\anaconda3\\lib\\site-packages (from pandas-datareader) (4.9.3)\n",
      "Requirement already satisfied: pandas>=0.23 in c:\\users\\ejer\\anaconda3\\lib\\site-packages (from pandas-datareader) (2.1.4)\n",
      "Requirement already satisfied: requests>=2.19.0 in c:\\users\\ejer\\anaconda3\\lib\\site-packages (from pandas-datareader) (2.31.0)\n",
      "Requirement already satisfied: numpy<2,>=1.23.2 in c:\\users\\ejer\\anaconda3\\lib\\site-packages (from pandas>=0.23->pandas-datareader) (1.26.3)\n",
      "Requirement already satisfied: python-dateutil>=2.8.2 in c:\\users\\ejer\\anaconda3\\lib\\site-packages (from pandas>=0.23->pandas-datareader) (2.8.2)\n",
      "Requirement already satisfied: pytz>=2020.1 in c:\\users\\ejer\\anaconda3\\lib\\site-packages (from pandas>=0.23->pandas-datareader) (2023.3.post1)\n",
      "Requirement already satisfied: tzdata>=2022.1 in c:\\users\\ejer\\anaconda3\\lib\\site-packages (from pandas>=0.23->pandas-datareader) (2023.3)\n",
      "Requirement already satisfied: charset-normalizer<4,>=2 in c:\\users\\ejer\\anaconda3\\lib\\site-packages (from requests>=2.19.0->pandas-datareader) (2.0.4)\n",
      "Requirement already satisfied: idna<4,>=2.5 in c:\\users\\ejer\\anaconda3\\lib\\site-packages (from requests>=2.19.0->pandas-datareader) (3.4)\n",
      "Requirement already satisfied: urllib3<3,>=1.21.1 in c:\\users\\ejer\\anaconda3\\lib\\site-packages (from requests>=2.19.0->pandas-datareader) (2.0.7)\n",
      "Requirement already satisfied: certifi>=2017.4.17 in c:\\users\\ejer\\anaconda3\\lib\\site-packages (from requests>=2.19.0->pandas-datareader) (2024.2.2)\n",
      "Requirement already satisfied: six>=1.5 in c:\\users\\ejer\\anaconda3\\lib\\site-packages (from python-dateutil>=2.8.2->pandas>=0.23->pandas-datareader) (1.16.0)\n",
      "Note: you may need to restart the kernel to use updated packages.\n"
     ]
    }
   ],
   "source": [
    "pip install pandas-datareader"
   ]
  },
  {
   "cell_type": "markdown",
   "metadata": {},
   "source": [
    "Import your data, either through an API or manually, and load it. "
   ]
  },
  {
   "cell_type": "code",
   "execution_count": 5,
   "metadata": {},
   "outputs": [
    {
     "data": {
      "text/html": [
       "<div>\n",
       "<style scoped>\n",
       "    .dataframe tbody tr th:only-of-type {\n",
       "        vertical-align: middle;\n",
       "    }\n",
       "\n",
       "    .dataframe tbody tr th {\n",
       "        vertical-align: top;\n",
       "    }\n",
       "\n",
       "    .dataframe thead th {\n",
       "        text-align: right;\n",
       "    }\n",
       "</style>\n",
       "<table border=\"1\" class=\"dataframe\">\n",
       "  <thead>\n",
       "    <tr style=\"text-align: right;\">\n",
       "      <th></th>\n",
       "      <th>LAND</th>\n",
       "      <th>TID</th>\n",
       "      <th>INDHOLD</th>\n",
       "    </tr>\n",
       "  </thead>\n",
       "  <tbody>\n",
       "    <tr>\n",
       "      <th>0</th>\n",
       "      <td>Danmark</td>\n",
       "      <td>2013</td>\n",
       "      <td>1.7</td>\n",
       "    </tr>\n",
       "    <tr>\n",
       "      <th>1</th>\n",
       "      <td>Danmark</td>\n",
       "      <td>2014</td>\n",
       "      <td>1.3</td>\n",
       "    </tr>\n",
       "    <tr>\n",
       "      <th>2</th>\n",
       "      <td>Danmark</td>\n",
       "      <td>2015</td>\n",
       "      <td>0.7</td>\n",
       "    </tr>\n",
       "    <tr>\n",
       "      <th>3</th>\n",
       "      <td>Danmark</td>\n",
       "      <td>2016</td>\n",
       "      <td>0.3</td>\n",
       "    </tr>\n",
       "    <tr>\n",
       "      <th>4</th>\n",
       "      <td>Danmark</td>\n",
       "      <td>2017</td>\n",
       "      <td>0.5</td>\n",
       "    </tr>\n",
       "    <tr>\n",
       "      <th>...</th>\n",
       "      <td>...</td>\n",
       "      <td>...</td>\n",
       "      <td>...</td>\n",
       "    </tr>\n",
       "    <tr>\n",
       "      <th>94</th>\n",
       "      <td>Frankrig</td>\n",
       "      <td>2019</td>\n",
       "      <td>0.6</td>\n",
       "    </tr>\n",
       "    <tr>\n",
       "      <th>95</th>\n",
       "      <td>Frankrig</td>\n",
       "      <td>2020</td>\n",
       "      <td>0.7</td>\n",
       "    </tr>\n",
       "    <tr>\n",
       "      <th>96</th>\n",
       "      <td>Frankrig</td>\n",
       "      <td>2021</td>\n",
       "      <td>0.0</td>\n",
       "    </tr>\n",
       "    <tr>\n",
       "      <th>97</th>\n",
       "      <td>Frankrig</td>\n",
       "      <td>2022</td>\n",
       "      <td>3.6</td>\n",
       "    </tr>\n",
       "    <tr>\n",
       "      <th>98</th>\n",
       "      <td>Frankrig</td>\n",
       "      <td>2023</td>\n",
       "      <td>3.3</td>\n",
       "    </tr>\n",
       "  </tbody>\n",
       "</table>\n",
       "<p>99 rows × 3 columns</p>\n",
       "</div>"
      ],
      "text/plain": [
       "        LAND   TID INDHOLD\n",
       "0    Danmark  2013     1.7\n",
       "1    Danmark  2014     1.3\n",
       "2    Danmark  2015     0.7\n",
       "3    Danmark  2016     0.3\n",
       "4    Danmark  2017     0.5\n",
       "..       ...   ...     ...\n",
       "94  Frankrig  2019     0.6\n",
       "95  Frankrig  2020     0.7\n",
       "96  Frankrig  2021     0.0\n",
       "97  Frankrig  2022     3.6\n",
       "98  Frankrig  2023     3.3\n",
       "\n",
       "[99 rows x 3 columns]"
      ]
     },
     "metadata": {},
     "output_type": "display_data"
    }
   ],
   "source": [
    "effective_int = (pd.read_csv('MPK100.csv'))\n",
    "display(effective_int)"
   ]
  },
  {
   "cell_type": "code",
   "execution_count": 6,
   "metadata": {},
   "outputs": [
    {
     "data": {
      "text/html": [
       "<div>\n",
       "<style scoped>\n",
       "    .dataframe tbody tr th:only-of-type {\n",
       "        vertical-align: middle;\n",
       "    }\n",
       "\n",
       "    .dataframe tbody tr th {\n",
       "        vertical-align: top;\n",
       "    }\n",
       "\n",
       "    .dataframe thead th {\n",
       "        text-align: right;\n",
       "    }\n",
       "</style>\n",
       "<table border=\"1\" class=\"dataframe\">\n",
       "  <thead>\n",
       "    <tr style=\"text-align: right;\">\n",
       "      <th></th>\n",
       "      <th>COUNTRY</th>\n",
       "      <th>YEAR</th>\n",
       "      <th>INTEREST RATE</th>\n",
       "    </tr>\n",
       "  </thead>\n",
       "  <tbody>\n",
       "    <tr>\n",
       "      <th>0</th>\n",
       "      <td>Denmark</td>\n",
       "      <td>2013</td>\n",
       "      <td>1.7</td>\n",
       "    </tr>\n",
       "    <tr>\n",
       "      <th>1</th>\n",
       "      <td>Denmark</td>\n",
       "      <td>2014</td>\n",
       "      <td>1.3</td>\n",
       "    </tr>\n",
       "    <tr>\n",
       "      <th>2</th>\n",
       "      <td>Denmark</td>\n",
       "      <td>2015</td>\n",
       "      <td>0.7</td>\n",
       "    </tr>\n",
       "    <tr>\n",
       "      <th>3</th>\n",
       "      <td>Denmark</td>\n",
       "      <td>2016</td>\n",
       "      <td>0.3</td>\n",
       "    </tr>\n",
       "    <tr>\n",
       "      <th>4</th>\n",
       "      <td>Denmark</td>\n",
       "      <td>2017</td>\n",
       "      <td>0.5</td>\n",
       "    </tr>\n",
       "    <tr>\n",
       "      <th>...</th>\n",
       "      <td>...</td>\n",
       "      <td>...</td>\n",
       "      <td>...</td>\n",
       "    </tr>\n",
       "    <tr>\n",
       "      <th>94</th>\n",
       "      <td>France</td>\n",
       "      <td>2019</td>\n",
       "      <td>0.6</td>\n",
       "    </tr>\n",
       "    <tr>\n",
       "      <th>95</th>\n",
       "      <td>France</td>\n",
       "      <td>2020</td>\n",
       "      <td>0.7</td>\n",
       "    </tr>\n",
       "    <tr>\n",
       "      <th>96</th>\n",
       "      <td>France</td>\n",
       "      <td>2021</td>\n",
       "      <td>0.0</td>\n",
       "    </tr>\n",
       "    <tr>\n",
       "      <th>97</th>\n",
       "      <td>France</td>\n",
       "      <td>2022</td>\n",
       "      <td>3.6</td>\n",
       "    </tr>\n",
       "    <tr>\n",
       "      <th>98</th>\n",
       "      <td>France</td>\n",
       "      <td>2023</td>\n",
       "      <td>3.3</td>\n",
       "    </tr>\n",
       "  </tbody>\n",
       "</table>\n",
       "<p>99 rows × 3 columns</p>\n",
       "</div>"
      ],
      "text/plain": [
       "    COUNTRY  YEAR INTEREST RATE\n",
       "0   Denmark  2013           1.7\n",
       "1   Denmark  2014           1.3\n",
       "2   Denmark  2015           0.7\n",
       "3   Denmark  2016           0.3\n",
       "4   Denmark  2017           0.5\n",
       "..      ...   ...           ...\n",
       "94   France  2019           0.6\n",
       "95   France  2020           0.7\n",
       "96   France  2021           0.0\n",
       "97   France  2022           3.6\n",
       "98   France  2023           3.3\n",
       "\n",
       "[99 rows x 3 columns]"
      ]
     },
     "execution_count": 6,
     "metadata": {},
     "output_type": "execute_result"
    }
   ],
   "source": [
    "#Changing names\n",
    "\n",
    "effective_int.rename(columns = {'LAND':'COUNTRY', 'TID':'YEAR','INDHOLD':'INTEREST RATE'}, inplace=True)\n",
    "\n",
    "country_mapping = {\n",
    "    'Danmark': 'Denmark',\n",
    "    'Schweiz': 'Switzerland',\n",
    "    'Tyskland': 'Germany',\n",
    "    'Japan': 'Japan',\n",
    "    'Sverige': 'Sweden',\n",
    "    'Norge': 'Norway',\n",
    "    'Frankrig': 'France'\n",
    "}\n",
    "\n",
    "effective_int['COUNTRY'] = effective_int['COUNTRY'].replace(country_mapping)\n",
    "effective_int.head(99)"
   ]
  },
  {
   "cell_type": "code",
   "execution_count": 7,
   "metadata": {},
   "outputs": [],
   "source": [
    "#rentespænd langfristet\n",
    "\n",
    "# Convert 'INTEREST RATE' column to numeric\n",
    "effective_int['INTEREST RATE'] = pd.to_numeric(effective_int['INTEREST RATE'], errors='coerce')\n",
    "\n",
    "# Filter the DataFrame to extract interest rates for Denmark and Germany\n",
    "denmark_rates = effective_int[effective_int['COUNTRY'] == 'Denmark'].set_index('YEAR')['INTEREST RATE']\n",
    "germany_rates = effective_int[effective_int['COUNTRY'] == 'Germany'].set_index('YEAR')['INTEREST RATE']\n",
    "switzerland_rates = effective_int[effective_int['COUNTRY'] == 'Switzerland'].set_index('YEAR')['INTEREST RATE']\n",
    "japan_rates = effective_int[effective_int['COUNTRY'] == 'Japan'].set_index('YEAR')['INTEREST RATE']\n",
    "sweden_rates = effective_int[effective_int['COUNTRY'] == 'Sweden'].set_index('YEAR')['INTEREST RATE']\n",
    "norway_rates = effective_int[effective_int['COUNTRY'] == 'Norway'].set_index('YEAR')['INTEREST RATE']\n",
    "france_rates = effective_int[effective_int['COUNTRY'] == 'France'].set_index('YEAR')['INTEREST RATE']\n",
    "\n",
    "\n",
    "\n",
    "# Calculate the difference between the interest rates of Denmark and Germany for each year\n",
    "germany_difference = denmark_rates - germany_rates\n",
    "switzerland_difference = denmark_rates - switzerland_rates\n",
    "japan_difference = denmark_rates - japan_rates\n",
    "sweden_difference = denmark_rates - sweden_rates\n",
    "norway_difference = denmark_rates - norway_rates\n",
    "france_difference = denmark_rates - france_rates\n",
    "\n",
    "# Merging all the differences to one dataframe\n",
    "all_countries = pd.DataFrame(columns=['COUNTRY', 'INTEREST DIFF'])\n",
    "\n",
    "#1. Værdierne skal blive plottet henover årene  2013-2023\n",
    "#2. Få alle kurverne ind i samme graf, som ses i ps4 Split-apply-combine plot"
   ]
  },
  {
   "cell_type": "code",
   "execution_count": 8,
   "metadata": {},
   "outputs": [
    {
     "data": {
      "image/png": "[encoded data removed]",
      "text/plain": [
       "<Figure size 640x480 with 1 Axes>"
      ]
     },
     "metadata": {},
     "output_type": "display_data"
    }
   ],
   "source": [
    "import matplotlib.pyplot as plt\n",
    "\n",
    "# Example data\n",
    "year1= [2013, 2014, 2015, 2016, 2017, 2018, 2019, 2020, 2021, 2022, 2023]\n",
    "\n",
    "# Plot the curves for both variables\n",
    "plt.plot(year1, germany_difference, label='DK-DE')\n",
    "plt.plot(year1, switzerland_difference, label='DK-CH')\n",
    "plt.plot(year1, japan_difference, label='DK-JPN')\n",
    "plt.plot(year1, sweden_difference, label='DK-SWE')\n",
    "plt.plot(year1, norway_difference, label='DK-NOR')\n",
    "plt.plot(year1, france_difference, label='DK-FRA')\n",
    "# Add labels and title\n",
    "plt.xlabel('Year')\n",
    "plt.ylabel('Interest differential')\n",
    "plt.title('Interest DIFF')\n",
    "\n",
    "# Add a legend\n",
    "plt.legend()\n",
    "\n",
    "# Show the plot\n",
    "plt.show()"
   ]
  },
  {
   "cell_type": "code",
   "execution_count": 9,
   "metadata": {},
   "outputs": [
    {
     "name": "stdout",
     "output_type": "stream",
     "text": [
      "Collecting git+https://github.com/alemartinello/dstapi\n",
      "  Cloning https://github.com/alemartinello/dstapi to c:\\users\\ejer\\appdata\\local\\temp\\pip-req-build-qb1qzd61\n",
      "  Resolved https://github.com/alemartinello/dstapi to commit d9eeb5a82cbc70b7d63b2ff44d92632fd77123a4\n",
      "  Preparing metadata (setup.py): started\n",
      "  Preparing metadata (setup.py): finished with status 'done'\n",
      "Requirement already satisfied: pandas in c:\\users\\ejer\\anaconda3\\lib\\site-packages (from dstapi==0.2) (2.1.4)\n",
      "Requirement already satisfied: requests in c:\\users\\ejer\\anaconda3\\lib\\site-packages (from dstapi==0.2) (2.31.0)\n",
      "Requirement already satisfied: numpy<2,>=1.23.2 in c:\\users\\ejer\\anaconda3\\lib\\site-packages (from pandas->dstapi==0.2) (1.26.3)\n",
      "Requirement already satisfied: python-dateutil>=2.8.2 in c:\\users\\ejer\\anaconda3\\lib\\site-packages (from pandas->dstapi==0.2) (2.8.2)\n",
      "Requirement already satisfied: pytz>=2020.1 in c:\\users\\ejer\\anaconda3\\lib\\site-packages (from pandas->dstapi==0.2) (2023.3.post1)\n",
      "Requirement already satisfied: tzdata>=2022.1 in c:\\users\\ejer\\anaconda3\\lib\\site-packages (from pandas->dstapi==0.2) (2023.3)\n",
      "Requirement already satisfied: charset-normalizer<4,>=2 in c:\\users\\ejer\\anaconda3\\lib\\site-packages (from requests->dstapi==0.2) (2.0.4)\n",
      "Requirement already satisfied: idna<4,>=2.5 in c:\\users\\ejer\\anaconda3\\lib\\site-packages (from requests->dstapi==0.2) (3.4)\n",
      "Requirement already satisfied: urllib3<3,>=1.21.1 in c:\\users\\ejer\\anaconda3\\lib\\site-packages (from requests->dstapi==0.2) (2.0.7)\n",
      "Requirement already satisfied: certifi>=2017.4.17 in c:\\users\\ejer\\anaconda3\\lib\\site-packages (from requests->dstapi==0.2) (2024.2.2)\n",
      "Requirement already satisfied: six>=1.5 in c:\\users\\ejer\\anaconda3\\lib\\site-packages (from python-dateutil>=2.8.2->pandas->dstapi==0.2) (1.16.0)\n",
      "Note: you may need to restart the kernel to use updated packages.\n"
     ]
    },
    {
     "name": "stderr",
     "output_type": "stream",
     "text": [
      "  Running command git clone --filter=blob:none --quiet https://github.com/alemartinello/dstapi 'C:\\Users\\Ejer\\AppData\\Local\\Temp\\pip-req-build-qb1qzd61'\n"
     ]
    }
   ],
   "source": [
    "# The DST API wrapper\n",
    "%pip install git+https://github.com/alemartinello/dstapi"
   ]
  },
  {
   "cell_type": "code",
   "execution_count": 10,
   "metadata": {},
   "outputs": [
    {
     "name": "stdout",
     "output_type": "stream",
     "text": [
      "Requirement already satisfied: pandas-datareader in c:\\users\\ejer\\anaconda3\\lib\\site-packages (0.10.0)\n",
      "Requirement already satisfied: lxml in c:\\users\\ejer\\anaconda3\\lib\\site-packages (from pandas-datareader) (4.9.3)\n",
      "Requirement already satisfied: pandas>=0.23 in c:\\users\\ejer\\anaconda3\\lib\\site-packages (from pandas-datareader) (2.1.4)\n",
      "Requirement already satisfied: requests>=2.19.0 in c:\\users\\ejer\\anaconda3\\lib\\site-packages (from pandas-datareader) (2.31.0)\n",
      "Requirement already satisfied: numpy<2,>=1.23.2 in c:\\users\\ejer\\anaconda3\\lib\\site-packages (from pandas>=0.23->pandas-datareader) (1.26.3)\n",
      "Requirement already satisfied: python-dateutil>=2.8.2 in c:\\users\\ejer\\anaconda3\\lib\\site-packages (from pandas>=0.23->pandas-datareader) (2.8.2)\n",
      "Requirement already satisfied: pytz>=2020.1 in c:\\users\\ejer\\anaconda3\\lib\\site-packages (from pandas>=0.23->pandas-datareader) (2023.3.post1)\n",
      "Requirement already satisfied: tzdata>=2022.1 in c:\\users\\ejer\\anaconda3\\lib\\site-packages (from pandas>=0.23->pandas-datareader) (2023.3)\n",
      "Requirement already satisfied: charset-normalizer<4,>=2 in c:\\users\\ejer\\anaconda3\\lib\\site-packages (from requests>=2.19.0->pandas-datareader) (2.0.4)\n",
      "Requirement already satisfied: idna<4,>=2.5 in c:\\users\\ejer\\anaconda3\\lib\\site-packages (from requests>=2.19.0->pandas-datareader) (3.4)\n",
      "Requirement already satisfied: urllib3<3,>=1.21.1 in c:\\users\\ejer\\anaconda3\\lib\\site-packages (from requests>=2.19.0->pandas-datareader) (2.0.7)\n",
      "Requirement already satisfied: certifi>=2017.4.17 in c:\\users\\ejer\\anaconda3\\lib\\site-packages (from requests>=2.19.0->pandas-datareader) (2024.2.2)\n",
      "Requirement already satisfied: six>=1.5 in c:\\users\\ejer\\anaconda3\\lib\\site-packages (from python-dateutil>=2.8.2->pandas>=0.23->pandas-datareader) (1.16.0)\n",
      "Note: you may need to restart the kernel to use updated packages.\n"
     ]
    }
   ],
   "source": [
    "# A wrapper for multiple APIs with a pandas interface\n",
    "%pip install pandas-datareader"
   ]
  },
  {
   "cell_type": "code",
   "execution_count": 11,
   "metadata": {},
   "outputs": [],
   "source": [
    "import numpy as np\n",
    "import pandas as pd\n",
    "import datetime\n",
    "\n",
    "import pandas_datareader # install with `pip install pandas-datareader`\n",
    "from dstapi import DstApi # install with `pip install git+https://github.com/alemartinello/dstapi`\n",
    "\n",
    "import matplotlib.pyplot as plt\n",
    "plt.rcParams.update({\"axes.grid\":True,\"grid.color\":\"black\",\"grid.alpha\":\"0.25\",\"grid.linestyle\":\"--\"})\n",
    "plt.rcParams.update({'font.size': 14})"
   ]
  },
  {
   "cell_type": "code",
   "execution_count": 20,
   "metadata": {},
   "outputs": [],
   "source": [
    "ind = DstApi('PRIS111') "
   ]
  },
  {
   "cell_type": "code",
   "execution_count": 21,
   "metadata": {},
   "outputs": [
    {
     "name": "stdout",
     "output_type": "stream",
     "text": [
      "Table PRIS111: Consumer price index by commodity group, unit and time\n",
      "Last update: 2024-03-11T08:00:00\n"
     ]
    },
    {
     "data": {
      "text/html": [
       "<div>\n",
       "<style scoped>\n",
       "    .dataframe tbody tr th:only-of-type {\n",
       "        vertical-align: middle;\n",
       "    }\n",
       "\n",
       "    .dataframe tbody tr th {\n",
       "        vertical-align: top;\n",
       "    }\n",
       "\n",
       "    .dataframe thead th {\n",
       "        text-align: right;\n",
       "    }\n",
       "</style>\n",
       "<table border=\"1\" class=\"dataframe\">\n",
       "  <thead>\n",
       "    <tr style=\"text-align: right;\">\n",
       "      <th></th>\n",
       "      <th>variable name</th>\n",
       "      <th># values</th>\n",
       "      <th>First value</th>\n",
       "      <th>First value label</th>\n",
       "      <th>Last value</th>\n",
       "      <th>Last value label</th>\n",
       "      <th>Time variable</th>\n",
       "    </tr>\n",
       "  </thead>\n",
       "  <tbody>\n",
       "    <tr>\n",
       "      <th>0</th>\n",
       "      <td>VAREGR</td>\n",
       "      <td>385</td>\n",
       "      <td>000000</td>\n",
       "      <td>00 Consumer price index, total</td>\n",
       "      <td>151000</td>\n",
       "      <td>15.1 Overall Consumer Price Index excl. energy</td>\n",
       "      <td>False</td>\n",
       "    </tr>\n",
       "    <tr>\n",
       "      <th>1</th>\n",
       "      <td>ENHED</td>\n",
       "      <td>3</td>\n",
       "      <td>100</td>\n",
       "      <td>Index</td>\n",
       "      <td>300</td>\n",
       "      <td>Percentage change compared to same month the y...</td>\n",
       "      <td>False</td>\n",
       "    </tr>\n",
       "    <tr>\n",
       "      <th>2</th>\n",
       "      <td>Tid</td>\n",
       "      <td>278</td>\n",
       "      <td>2001M01</td>\n",
       "      <td>2001M01</td>\n",
       "      <td>2024M02</td>\n",
       "      <td>2024M02</td>\n",
       "      <td>True</td>\n",
       "    </tr>\n",
       "  </tbody>\n",
       "</table>\n",
       "</div>"
      ],
      "text/plain": [
       "  variable name  # values First value               First value label  \\\n",
       "0        VAREGR       385      000000  00 Consumer price index, total   \n",
       "1         ENHED         3         100                           Index   \n",
       "2           Tid       278     2001M01                         2001M01   \n",
       "\n",
       "  Last value                                   Last value label  Time variable  \n",
       "0     151000     15.1 Overall Consumer Price Index excl. energy          False  \n",
       "1        300  Percentage change compared to same month the y...          False  \n",
       "2    2024M02                                            2024M02           True  "
      ]
     },
     "metadata": {},
     "output_type": "display_data"
    }
   ],
   "source": [
    "tabsum = ind.tablesummary(language='en')\n",
    "display(tabsum)"
   ]
  },
  {
   "cell_type": "code",
   "execution_count": 22,
   "metadata": {},
   "outputs": [
    {
     "name": "stdout",
     "output_type": "stream",
     "text": [
      "VAREGR:\n"
     ]
    },
    {
     "data": {
      "text/html": [
       "<div>\n",
       "<style scoped>\n",
       "    .dataframe tbody tr th:only-of-type {\n",
       "        vertical-align: middle;\n",
       "    }\n",
       "\n",
       "    .dataframe tbody tr th {\n",
       "        vertical-align: top;\n",
       "    }\n",
       "\n",
       "    .dataframe thead th {\n",
       "        text-align: right;\n",
       "    }\n",
       "</style>\n",
       "<table border=\"1\" class=\"dataframe\">\n",
       "  <thead>\n",
       "    <tr style=\"text-align: right;\">\n",
       "      <th></th>\n",
       "      <th>id</th>\n",
       "      <th>text</th>\n",
       "    </tr>\n",
       "  </thead>\n",
       "  <tbody>\n",
       "    <tr>\n",
       "      <th>0</th>\n",
       "      <td>000000</td>\n",
       "      <td>00 Consumer price index, total</td>\n",
       "    </tr>\n",
       "    <tr>\n",
       "      <th>1</th>\n",
       "      <td>010000</td>\n",
       "      <td>01 Food and non-alcoholic beverages</td>\n",
       "    </tr>\n",
       "    <tr>\n",
       "      <th>2</th>\n",
       "      <td>011000</td>\n",
       "      <td>01.1 Food</td>\n",
       "    </tr>\n",
       "    <tr>\n",
       "      <th>3</th>\n",
       "      <td>011100</td>\n",
       "      <td>01.1.1 Bread and cereals</td>\n",
       "    </tr>\n",
       "    <tr>\n",
       "      <th>4</th>\n",
       "      <td>011110</td>\n",
       "      <td>01.1.1.1 Rice</td>\n",
       "    </tr>\n",
       "    <tr>\n",
       "      <th>...</th>\n",
       "      <td>...</td>\n",
       "      <td>...</td>\n",
       "    </tr>\n",
       "    <tr>\n",
       "      <th>380</th>\n",
       "      <td>127030</td>\n",
       "      <td>12.7.0.3 Funeral services</td>\n",
       "    </tr>\n",
       "    <tr>\n",
       "      <th>381</th>\n",
       "      <td>131000</td>\n",
       "      <td>13.1 Goods (total)</td>\n",
       "    </tr>\n",
       "    <tr>\n",
       "      <th>382</th>\n",
       "      <td>132000</td>\n",
       "      <td>13.2 Services (total)</td>\n",
       "    </tr>\n",
       "    <tr>\n",
       "      <th>383</th>\n",
       "      <td>141000</td>\n",
       "      <td>14.1 Overall Consumer Price Index - excl. ener...</td>\n",
       "    </tr>\n",
       "    <tr>\n",
       "      <th>384</th>\n",
       "      <td>151000</td>\n",
       "      <td>15.1 Overall Consumer Price Index excl. energy</td>\n",
       "    </tr>\n",
       "  </tbody>\n",
       "</table>\n",
       "<p>385 rows × 2 columns</p>\n",
       "</div>"
      ],
      "text/plain": [
       "         id                                               text\n",
       "0    000000                     00 Consumer price index, total\n",
       "1    010000                01 Food and non-alcoholic beverages\n",
       "2    011000                                          01.1 Food\n",
       "3    011100                           01.1.1 Bread and cereals\n",
       "4    011110                                      01.1.1.1 Rice\n",
       "..      ...                                                ...\n",
       "380  127030                          12.7.0.3 Funeral services\n",
       "381  131000                                 13.1 Goods (total)\n",
       "382  132000                              13.2 Services (total)\n",
       "383  141000  14.1 Overall Consumer Price Index - excl. ener...\n",
       "384  151000     15.1 Overall Consumer Price Index excl. energy\n",
       "\n",
       "[385 rows x 2 columns]"
      ]
     },
     "metadata": {},
     "output_type": "display_data"
    },
    {
     "name": "stdout",
     "output_type": "stream",
     "text": [
      "ENHED:\n"
     ]
    },
    {
     "data": {
      "text/html": [
       "<div>\n",
       "<style scoped>\n",
       "    .dataframe tbody tr th:only-of-type {\n",
       "        vertical-align: middle;\n",
       "    }\n",
       "\n",
       "    .dataframe tbody tr th {\n",
       "        vertical-align: top;\n",
       "    }\n",
       "\n",
       "    .dataframe thead th {\n",
       "        text-align: right;\n",
       "    }\n",
       "</style>\n",
       "<table border=\"1\" class=\"dataframe\">\n",
       "  <thead>\n",
       "    <tr style=\"text-align: right;\">\n",
       "      <th></th>\n",
       "      <th>id</th>\n",
       "      <th>text</th>\n",
       "    </tr>\n",
       "  </thead>\n",
       "  <tbody>\n",
       "    <tr>\n",
       "      <th>0</th>\n",
       "      <td>100</td>\n",
       "      <td>Index</td>\n",
       "    </tr>\n",
       "    <tr>\n",
       "      <th>1</th>\n",
       "      <td>200</td>\n",
       "      <td>Percentage change compared to previous month (...</td>\n",
       "    </tr>\n",
       "    <tr>\n",
       "      <th>2</th>\n",
       "      <td>300</td>\n",
       "      <td>Percentage change compared to same month the y...</td>\n",
       "    </tr>\n",
       "  </tbody>\n",
       "</table>\n",
       "</div>"
      ],
      "text/plain": [
       "    id                                               text\n",
       "0  100                                              Index\n",
       "1  200  Percentage change compared to previous month (...\n",
       "2  300  Percentage change compared to same month the y..."
      ]
     },
     "metadata": {},
     "output_type": "display_data"
    },
    {
     "name": "stdout",
     "output_type": "stream",
     "text": [
      "Tid:\n"
     ]
    },
    {
     "data": {
      "text/html": [
       "<div>\n",
       "<style scoped>\n",
       "    .dataframe tbody tr th:only-of-type {\n",
       "        vertical-align: middle;\n",
       "    }\n",
       "\n",
       "    .dataframe tbody tr th {\n",
       "        vertical-align: top;\n",
       "    }\n",
       "\n",
       "    .dataframe thead th {\n",
       "        text-align: right;\n",
       "    }\n",
       "</style>\n",
       "<table border=\"1\" class=\"dataframe\">\n",
       "  <thead>\n",
       "    <tr style=\"text-align: right;\">\n",
       "      <th></th>\n",
       "      <th>id</th>\n",
       "      <th>text</th>\n",
       "    </tr>\n",
       "  </thead>\n",
       "  <tbody>\n",
       "    <tr>\n",
       "      <th>0</th>\n",
       "      <td>2001M01</td>\n",
       "      <td>2001M01</td>\n",
       "    </tr>\n",
       "    <tr>\n",
       "      <th>1</th>\n",
       "      <td>2001M02</td>\n",
       "      <td>2001M02</td>\n",
       "    </tr>\n",
       "    <tr>\n",
       "      <th>2</th>\n",
       "      <td>2001M03</td>\n",
       "      <td>2001M03</td>\n",
       "    </tr>\n",
       "    <tr>\n",
       "      <th>3</th>\n",
       "      <td>2001M04</td>\n",
       "      <td>2001M04</td>\n",
       "    </tr>\n",
       "    <tr>\n",
       "      <th>4</th>\n",
       "      <td>2001M05</td>\n",
       "      <td>2001M05</td>\n",
       "    </tr>\n",
       "    <tr>\n",
       "      <th>...</th>\n",
       "      <td>...</td>\n",
       "      <td>...</td>\n",
       "    </tr>\n",
       "    <tr>\n",
       "      <th>273</th>\n",
       "      <td>2023M10</td>\n",
       "      <td>2023M10</td>\n",
       "    </tr>\n",
       "    <tr>\n",
       "      <th>274</th>\n",
       "      <td>2023M11</td>\n",
       "      <td>2023M11</td>\n",
       "    </tr>\n",
       "    <tr>\n",
       "      <th>275</th>\n",
       "      <td>2023M12</td>\n",
       "      <td>2023M12</td>\n",
       "    </tr>\n",
       "    <tr>\n",
       "      <th>276</th>\n",
       "      <td>2024M01</td>\n",
       "      <td>2024M01</td>\n",
       "    </tr>\n",
       "    <tr>\n",
       "      <th>277</th>\n",
       "      <td>2024M02</td>\n",
       "      <td>2024M02</td>\n",
       "    </tr>\n",
       "  </tbody>\n",
       "</table>\n",
       "<p>278 rows × 2 columns</p>\n",
       "</div>"
      ],
      "text/plain": [
       "          id     text\n",
       "0    2001M01  2001M01\n",
       "1    2001M02  2001M02\n",
       "2    2001M03  2001M03\n",
       "3    2001M04  2001M04\n",
       "4    2001M05  2001M05\n",
       "..       ...      ...\n",
       "273  2023M10  2023M10\n",
       "274  2023M11  2023M11\n",
       "275  2023M12  2023M12\n",
       "276  2024M01  2024M01\n",
       "277  2024M02  2024M02\n",
       "\n",
       "[278 rows x 2 columns]"
      ]
     },
     "metadata": {},
     "output_type": "display_data"
    }
   ],
   "source": [
    "# The available values for a each variable: \n",
    "for variable in tabsum['variable name']:\n",
    "    print(variable+':')\n",
    "    display(ind.variable_levels(variable, language='en'))"
   ]
  },
  {
   "cell_type": "code",
   "execution_count": 23,
   "metadata": {},
   "outputs": [
    {
     "data": {
      "text/plain": [
       "{'table': 'pris111',\n",
       " 'format': 'BULK',\n",
       " 'lang': 'en',\n",
       " 'variables': [{'code': 'VAREGR', 'values': ['*']},\n",
       "  {'code': 'ENHED', 'values': ['*']},\n",
       "  {'code': 'Tid', 'values': ['*']}]}"
      ]
     },
     "execution_count": 23,
     "metadata": {},
     "output_type": "execute_result"
    }
   ],
   "source": [
    "# The _define_base_params -method gives us a nice template (selects all available data)\n",
    "params = ind._define_base_params(language='en')\n",
    "\n",
    "params"
   ]
  },
  {
   "cell_type": "markdown",
   "metadata": {},
   "source": [
    "We identify variables to be used"
   ]
  },
  {
   "cell_type": "code",
   "execution_count": 26,
   "metadata": {},
   "outputs": [
    {
     "data": {
      "text/plain": [
       "{'table': 'pris111',\n",
       " 'format': 'BULK',\n",
       " 'lang': 'en',\n",
       " 'variables': [{'code': 'VAREGR', 'values': ['000000']},\n",
       "  {'code': 'ENHED', 'values': ['300']},\n",
       "  {'code': 'Tid',\n",
       "   'values': ['2013M12',\n",
       "    '2014M12',\n",
       "    '2015M12',\n",
       "    '2016M12',\n",
       "    '2017M12',\n",
       "    '2018M12',\n",
       "    '2019M12',\n",
       "    '2020M12',\n",
       "    '2021M12',\n",
       "    '2022M12',\n",
       "    '2023M12']}]}"
      ]
     },
     "execution_count": 26,
     "metadata": {},
     "output_type": "execute_result"
    }
   ],
   "source": [
    "variables = params['variables'] # Returns a view, that we can edit\n",
    "variables[0]['values'] = ['000000']\n",
    "variables[1]['values'] =['300']\n",
    "variables[2]['values'] = ['2013M12', '2014M12', '2015M12', '2016M12', '2017M12', '2018M12', '2019M12', '2020M12', '2021M12', '2022M12', '2023M12']\n",
    "params"
   ]
  },
  {
   "cell_type": "markdown",
   "metadata": {},
   "source": [
    "Now we load the data from dst via the api using the options specified in the param dictionary "
   ]
  },
  {
   "cell_type": "code",
   "execution_count": 28,
   "metadata": {},
   "outputs": [
    {
     "data": {
      "text/html": [
       "<div>\n",
       "<style scoped>\n",
       "    .dataframe tbody tr th:only-of-type {\n",
       "        vertical-align: middle;\n",
       "    }\n",
       "\n",
       "    .dataframe tbody tr th {\n",
       "        vertical-align: top;\n",
       "    }\n",
       "\n",
       "    .dataframe thead th {\n",
       "        text-align: right;\n",
       "    }\n",
       "</style>\n",
       "<table border=\"1\" class=\"dataframe\">\n",
       "  <thead>\n",
       "    <tr style=\"text-align: right;\">\n",
       "      <th></th>\n",
       "      <th>VAREGR</th>\n",
       "      <th>ENHED</th>\n",
       "      <th>TID</th>\n",
       "      <th>INDHOLD</th>\n",
       "    </tr>\n",
       "  </thead>\n",
       "  <tbody>\n",
       "    <tr>\n",
       "      <th>0</th>\n",
       "      <td>00 Consumer price index, total</td>\n",
       "      <td>Percentage change compared to same month the y...</td>\n",
       "      <td>2013M12</td>\n",
       "      <td>0.7</td>\n",
       "    </tr>\n",
       "    <tr>\n",
       "      <th>1</th>\n",
       "      <td>00 Consumer price index, total</td>\n",
       "      <td>Percentage change compared to same month the y...</td>\n",
       "      <td>2014M12</td>\n",
       "      <td>0.4</td>\n",
       "    </tr>\n",
       "    <tr>\n",
       "      <th>2</th>\n",
       "      <td>00 Consumer price index, total</td>\n",
       "      <td>Percentage change compared to same month the y...</td>\n",
       "      <td>2015M12</td>\n",
       "      <td>0.4</td>\n",
       "    </tr>\n",
       "    <tr>\n",
       "      <th>3</th>\n",
       "      <td>00 Consumer price index, total</td>\n",
       "      <td>Percentage change compared to same month the y...</td>\n",
       "      <td>2016M12</td>\n",
       "      <td>0.5</td>\n",
       "    </tr>\n",
       "    <tr>\n",
       "      <th>4</th>\n",
       "      <td>00 Consumer price index, total</td>\n",
       "      <td>Percentage change compared to same month the y...</td>\n",
       "      <td>2017M12</td>\n",
       "      <td>1.0</td>\n",
       "    </tr>\n",
       "    <tr>\n",
       "      <th>5</th>\n",
       "      <td>00 Consumer price index, total</td>\n",
       "      <td>Percentage change compared to same month the y...</td>\n",
       "      <td>2018M12</td>\n",
       "      <td>0.8</td>\n",
       "    </tr>\n",
       "    <tr>\n",
       "      <th>6</th>\n",
       "      <td>00 Consumer price index, total</td>\n",
       "      <td>Percentage change compared to same month the y...</td>\n",
       "      <td>2019M12</td>\n",
       "      <td>0.8</td>\n",
       "    </tr>\n",
       "    <tr>\n",
       "      <th>7</th>\n",
       "      <td>00 Consumer price index, total</td>\n",
       "      <td>Percentage change compared to same month the y...</td>\n",
       "      <td>2020M12</td>\n",
       "      <td>0.5</td>\n",
       "    </tr>\n",
       "    <tr>\n",
       "      <th>8</th>\n",
       "      <td>00 Consumer price index, total</td>\n",
       "      <td>Percentage change compared to same month the y...</td>\n",
       "      <td>2021M12</td>\n",
       "      <td>3.1</td>\n",
       "    </tr>\n",
       "    <tr>\n",
       "      <th>9</th>\n",
       "      <td>00 Consumer price index, total</td>\n",
       "      <td>Percentage change compared to same month the y...</td>\n",
       "      <td>2022M12</td>\n",
       "      <td>8.7</td>\n",
       "    </tr>\n",
       "    <tr>\n",
       "      <th>10</th>\n",
       "      <td>00 Consumer price index, total</td>\n",
       "      <td>Percentage change compared to same month the y...</td>\n",
       "      <td>2023M12</td>\n",
       "      <td>0.7</td>\n",
       "    </tr>\n",
       "  </tbody>\n",
       "</table>\n",
       "</div>"
      ],
      "text/plain": [
       "                            VAREGR  \\\n",
       "0   00 Consumer price index, total   \n",
       "1   00 Consumer price index, total   \n",
       "2   00 Consumer price index, total   \n",
       "3   00 Consumer price index, total   \n",
       "4   00 Consumer price index, total   \n",
       "5   00 Consumer price index, total   \n",
       "6   00 Consumer price index, total   \n",
       "7   00 Consumer price index, total   \n",
       "8   00 Consumer price index, total   \n",
       "9   00 Consumer price index, total   \n",
       "10  00 Consumer price index, total   \n",
       "\n",
       "                                                ENHED      TID INDHOLD  \n",
       "0   Percentage change compared to same month the y...  2013M12     0.7  \n",
       "1   Percentage change compared to same month the y...  2014M12     0.4  \n",
       "2   Percentage change compared to same month the y...  2015M12     0.4  \n",
       "3   Percentage change compared to same month the y...  2016M12     0.5  \n",
       "4   Percentage change compared to same month the y...  2017M12     1.0  \n",
       "5   Percentage change compared to same month the y...  2018M12     0.8  \n",
       "6   Percentage change compared to same month the y...  2019M12     0.8  \n",
       "7   Percentage change compared to same month the y...  2020M12     0.5  \n",
       "8   Percentage change compared to same month the y...  2021M12     3.1  \n",
       "9   Percentage change compared to same month the y...  2022M12     8.7  \n",
       "10  Percentage change compared to same month the y...  2023M12     0.7  "
      ]
     },
     "execution_count": 28,
     "metadata": {},
     "output_type": "execute_result"
    }
   ],
   "source": [
    "inc_api = ind.get_data(params=params)\n",
    "inc_api.head(11)"
   ]
  },
  {
   "cell_type": "markdown",
   "metadata": {},
   "source": [
    "Data is now ready for cleaning and renaming"
   ]
  },
  {
   "cell_type": "code",
   "execution_count": 44,
   "metadata": {},
   "outputs": [
    {
     "data": {
      "image/png": "[encoded data removed]",
      "text/plain": [
       "<Figure size 900x600 with 1 Axes>"
      ]
     },
     "metadata": {},
     "output_type": "display_data"
    }
   ],
   "source": [
    "import matplotlib.pyplot as plt\n",
    "import pandas as pd\n",
    "\n",
    "# Defining the data\n",
    "dates = ['2013M12', '2014M12', '2015M12', '2016M12', '2017M12', '2018M12', '2019M12', '2020M12', '2021M12', '2022M12', '2023M12']\n",
    "inflation_values = [0.7, 0.4, 0.4, 0.5, 1.0, 0.8, 0.8, 0.5, 3.1, 8.7, 0.7]\n",
    "\n",
    "# Creating a pandas DataFrame\n",
    "infla_dk = pd.DataFrame({'Inflation (DK)': inflation_values}, index=pd.to_datetime(dates, format='%YM%m'))\n",
    "\n",
    "# Plotting\n",
    "fig = plt.figure(figsize=(9, 6))\n",
    "ax = fig.add_subplot(1,1,1)\n",
    "infla_dk.plot(ax=ax, legend=True, marker='o')\n",
    "\n",
    "ax.legend(frameon=True)\n",
    "ax.set_xlabel('')\n",
    "ax.set_ylabel('Inflation')\n",
    "ax.set_title('Inflation in 2013-2023 (December)')\n",
    "ax.grid(True)\n",
    "\n",
    "plt.xticks(rotation=45)\n",
    "plt.tight_layout()"
   ]
  },
  {
   "cell_type": "markdown",
   "metadata": {},
   "source": [
    "We observe the inflation in the given period.... \n",
    ".\n",
    ".\n",
    ".\n",
    "What now is interesting to look at?"
   ]
  },
  {
   "cell_type": "markdown",
   "metadata": {},
   "source": [
    "## Explore each data set"
   ]
  },
  {
   "cell_type": "markdown",
   "metadata": {},
   "source": [
    "In order to be able to **explore the raw data**, you may provide **static** and **interactive plots** to show important developments "
   ]
  },
  {
   "cell_type": "markdown",
   "metadata": {},
   "source": [
    "**Interactive plot** :"
   ]
  },
  {
   "cell_type": "code",
   "execution_count": 16,
   "metadata": {},
   "outputs": [
    {
     "data": {
      "application/vnd.jupyter.widget-view+json": {
       "model_id": "ba151519b22e448b82755e49350759ba",
       "version_major": 2,
       "version_minor": 0
      },
      "text/plain": [
       "interactive(children=(Output(),), _dom_classes=('widget-interact',))"
      ]
     },
     "metadata": {},
     "output_type": "display_data"
    }
   ],
   "source": [
    "def plot_func():\n",
    "    # Function that operates on data set\n",
    "    pass\n",
    "\n",
    "widgets.interact(plot_func, \n",
    "    # Let the widget interact with data through plot_func()    \n",
    "); \n"
   ]
  },
  {
   "cell_type": "markdown",
   "metadata": {},
   "source": [
    "Explain what you see when moving elements of the interactive plot around. "
   ]
  },
  {
   "cell_type": "markdown",
   "metadata": {},
   "source": [
    "# Merge data sets"
   ]
  },
  {
   "cell_type": "markdown",
   "metadata": {},
   "source": [
    "Now you create combinations of your loaded data sets. Remember the illustration of a (inner) **merge**:"
   ]
  },
  {
   "cell_type": "code",
   "execution_count": 17,
   "metadata": {},
   "outputs": [
    {
     "data": {
      "image/png": "[encoded data removed]",
      "text/plain": [
       "<Figure size 1500x700 with 1 Axes>"
      ]
     },
     "metadata": {},
     "output_type": "display_data"
    }
   ],
   "source": [
    "plt.figure(figsize=(15,7))\n",
    "v = venn2(subsets = (4, 4, 10), set_labels = ('Data X', 'Data Y'))\n",
    "v.get_label_by_id('100').set_text('dropped')\n",
    "v.get_label_by_id('010').set_text('dropped' )\n",
    "v.get_label_by_id('110').set_text('included')\n",
    "plt.show()"
   ]
  },
  {
   "cell_type": "markdown",
   "metadata": {},
   "source": [
    "Here we are dropping elements from both data set X and data set Y. A left join would keep all observations in data X intact and subset only from Y. \n",
    "\n",
    "Make sure that your resulting data sets have the correct number of rows and columns. That is, be clear about which observations are thrown away. \n",
    "\n",
    "**Note:** Don't make Venn diagrams in your own data project. It is just for exposition. "
   ]
  },
  {
   "cell_type": "markdown",
   "metadata": {},
   "source": [
    "# Analysis"
   ]
  },
  {
   "cell_type": "markdown",
   "metadata": {},
   "source": [
    "To get a quick overview of the data, we show some **summary statistics** on a meaningful aggregation. "
   ]
  },
  {
   "cell_type": "markdown",
   "metadata": {},
   "source": [
    "MAKE FURTHER ANALYSIS. EXPLAIN THE CODE BRIEFLY AND SUMMARIZE THE RESULTS."
   ]
  },
  {
   "cell_type": "markdown",
   "metadata": {},
   "source": [
    "# Conclusion"
   ]
  },
  {
   "cell_type": "markdown",
   "metadata": {},
   "source": [
    "ADD CONCISE CONLUSION."
   ]
  }
 ],
 "metadata": {
  "kernelspec": {
   "display_name": "base",
   "language": "python",
   "name": "python3"
  },
  "language_info": {
   "codemirror_mode": {
    "name": "ipython",
    "version": 3
   },
   "file_extension": ".py",
   "mimetype": "text/x-python",
   "name": "python",
   "nbconvert_exporter": "python",
   "pygments_lexer": "ipython3",
   "version": "3.11.7"
  },
  "toc-autonumbering": true,
  "vscode": {
   "interpreter": {
    "hash": "47ef90cdf3004d3f859f1fb202523c65c07ba7c22eefd261b181f4744e2d0403"
   }
  }
 },
 "nbformat": 4,
 "nbformat_minor": 4
}
