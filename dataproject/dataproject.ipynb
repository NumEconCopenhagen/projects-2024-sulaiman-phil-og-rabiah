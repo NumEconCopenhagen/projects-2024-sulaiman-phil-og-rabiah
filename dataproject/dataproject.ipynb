{
 "cells": [
  {
   "cell_type": "markdown",
   "metadata": {},
   "source": [
    "# Inflation, Unemploymet and Real GDP"
   ]
  },
  {
   "cell_type": "markdown",
   "metadata": {},
   "source": [
    "The goal of this project is to analyze the employment rates of men and women across various industries. We intend to present both the overall employment figures and highlight differences within specific sectors. Our objective is to identify sectors where one gender is predominant over the other and vice versa. Additionally, we aim to examine employment growth rates over time and assess how external factors, such as the 2020 pandemic, have impacted workforce dynamics. Through this analysis, we seek to gain insights into gender representation in the labor market and understand the effects of external events on employment trends."
   ]
  },
  {
   "cell_type": "markdown",
   "metadata": {},
   "source": [
    "Imports and load of relevant libraries"
   ]
  },
  {
   "cell_type": "code",
   "execution_count": null,
   "metadata": {},
   "outputs": [],
   "source": [
    "import pandas as pd\n",
    "import numpy as np\n",
    "import matplotlib.pyplot as plt\n",
    "import ipywidgets as widgets\n",
    "from matplotlib_venn import venn2\n",
    "import plotly.graph_objects as go\n",
    "import datetime\n",
    "import pandas_datareader # install with `pip install pandas-datareader`\n",
    "from dstapi import DstApi # install with `pip install git+https://github.com/alemartinello/dstapi`\n",
    "\n",
    "# autoreload modules when code is run\n",
    "%load_ext autoreload\n",
    "%autoreload 2\n",
    "\n",
    "# user written modules\n",
    "import dataproject as dp\n",
    "\n",
    "plt.rcParams.update({\"axes.grid\":True,\"grid.color\":\"black\",\"grid.alpha\":\"0.25\",\"grid.linestyle\":\"--\"})\n",
    "plt.rcParams.update({'font.size': 14})"
   ]
  },
  {
   "cell_type": "markdown",
   "metadata": {},
   "source": [
    "## Importing inflation data from Denmark Statistics"
   ]
  },
  {
   "cell_type": "markdown",
   "metadata": {},
   "source": [
    "We consider the following dictionary definitions wrt. table PRIS111"
   ]
  },
  {
   "cell_type": "code",
   "execution_count": null,
   "metadata": {},
   "outputs": [],
   "source": [
    "columns_dict = {}\n",
    "columns_dict['VAREGR'] = 'variable'\n",
    "columns_dict['ENHED'] = 'unit'\n",
    "columns_dict['TID'] = 'Year'\n",
    "columns_dict['INDHOLD'] = 'Inflation rate'\n",
    "\n",
    "var_dict = {} # var is for variable\n",
    "var_dict['00 Consumer price index, total'] = 'Y'\n",
    "\n",
    "\n",
    "unit_dict = {}\n",
    "unit_dict['Index'] = 'Indexnumber'\n",
    "unit_dict['Percentage change compared to previous month (per cent)'] = 'pct month'\n",
    "unit_dict['Percentage change compared to same month the year before (per cent)'] = 'pct year'\n"
   ]
  },
  {
   "cell_type": "code",
   "execution_count": null,
   "metadata": {},
   "outputs": [],
   "source": [
    "# Importing inflation data via Api.  \n",
    "PRIS111_api = DstApi('PRIS111') \n",
    "params = PRIS111_api._define_base_params(language='en')\n",
    "\n",
    "PRIS111 = PRIS111_api.get_data(params)\n"
   ]
  },
  {
   "cell_type": "code",
   "execution_count": null,
   "metadata": {},
   "outputs": [],
   "source": [
    "# Renaming columns of the DataFrame PRIS111. \n",
    "PRIS111.rename(columns=columns_dict,inplace=True)\n",
    "\n",
    "# Looping over the var dictionary.\n",
    "for key,value in var_dict.items():\n",
    "    PRIS111.variable.replace(key,value,inplace=True)\n",
    "\n",
    "# Looping over the unit dictionary.\n",
    "for key,value in unit_dict.items():\n",
    "    PRIS111.unit.replace(key,value,inplace=True)\n",
    "\n"
   ]
  },
  {
   "cell_type": "code",
   "execution_count": null,
   "metadata": {},
   "outputs": [],
   "source": [
    "# Only keep rows where the variable is in `[Y]`. Afterwards convert the `value` column to a float.\n",
    "\n",
    "# Ensuring 'year' is a string before applying string methods\n",
    "PRIS111['Year'] = PRIS111['Year'].astype(str)\n",
    "\n",
    "# Filter based on 'variable' values\n",
    "var_vals = var_dict.values()\n",
    "I_var = PRIS111['variable'].isin(var_vals)\n",
    "PRIS111 = PRIS111[I_var]\n",
    "\n",
    "# Grouping variables\n",
    "# PRIS111.groupby(['variable','unit']).describe()"
   ]
  },
  {
   "cell_type": "markdown",
   "metadata": {},
   "source": [
    "## Exploring data set"
   ]
  },
  {
   "cell_type": "code",
   "execution_count": null,
   "metadata": {},
   "outputs": [],
   "source": [
    "# Ensuring 'year' is a string before applying string methods\n",
    "PRIS111['Year'] = PRIS111['Year'].astype(str)\n",
    "\n",
    "# Filter based on 'variable' values\n",
    "var_vals = var_dict.values()\n",
    "I_var = PRIS111['variable'].isin(var_vals)\n",
    "PRIS111 = PRIS111[I_var]\n",
    "\n",
    "# Remove rows where 'unit' is either \"Indexnumber\" or \"pct month\"\n",
    "units_to_exclude = ['Indexnumber', 'pct month']\n",
    "I_unit = ~PRIS111['unit'].isin(units_to_exclude)\n",
    "PRIS111 = PRIS111[I_unit]\n",
    "\n",
    "# Filter to keep only rows where 'year' ends with \"M12\", then remove the \"M12\" part\n",
    "I_year_suffix = PRIS111['Year'].str.endswith(\"M12\")\n",
    "PRIS111 = PRIS111[I_year_suffix]\n",
    "PRIS111['Year'] = PRIS111['Year'].str.replace('M12', '')\n",
    "\n",
    "# Convert 'year' back to integer for proper comparison and sorting\n",
    "PRIS111['Year'] = PRIS111['Year'].astype(int)\n",
    "\n",
    "# Exclude rows before \"2007\" and the year \"2023\"\n",
    "PRIS111 = PRIS111[(PRIS111['Year'] >= 2007) & (PRIS111['Year'] != 2023)]\n",
    "\n",
    "# Sort the DataFrame by 'year' in ascending order\n",
    "PRIS111 = PRIS111.sort_values(by='Year')\n",
    "\n",
    "# PRIS111\n",
    "\n"
   ]
  },
  {
   "cell_type": "markdown",
   "metadata": {},
   "source": [
    "## Merge inflation- and unemployment data from Denmark Statistics"
   ]
  },
  {
   "cell_type": "markdown",
   "metadata": {},
   "source": [
    "We merge with AULP01: Unemployment"
   ]
  },
  {
   "cell_type": "code",
   "execution_count": null,
   "metadata": {},
   "outputs": [],
   "source": [
    "\n",
    "FT_api = DstApi('AULP01')\n",
    "unemp = FT_api.get_data(params=params)\n",
    "params = FT_api._define_base_params(language='en')\n",
    "params['variables'][0]['values'] = ['000']\n",
    "## 000 is the code for all of Denmark, this can be seen by using: FT_api.variable_levels('HOVEDDELE', language='en')\n",
    "\n",
    "params['variables'][1]['values'] = ['TOT']\n",
    "params['variables'][2]['values'] = ['TOT']\n",
    "params['variables'][3]['values'] = ['2006','2008','2009','2010','2011','2012','2013', '2014', '2015', '2016', '2017', '2018', '2019', '2020', '2021', '2022']\n",
    "unemp.rename(columns={'TID':'Year','INDHOLD':'Unemployment'},inplace=True)\n",
    "unemp =  unemp.loc[:,['Year','Unemployment']]"
   ]
  },
  {
   "cell_type": "code",
   "execution_count": null,
   "metadata": {},
   "outputs": [],
   "source": [
    "#eksperiment\n",
    "PRIS111['Year'] = PRIS111['Year'].astype(str)\n",
    "unemp['Year'] = unemp['Year'].astype(str)\n",
    "\n",
    "# We merge our two dataframes inflation (PRIS111) and Unemployment (unemp)\n",
    "merged = pd.merge(PRIS111, unemp, how='left', on='Year')\n",
    "\n",
    "Combined_data = merged[['Year', 'Inflation rate', 'Unemployment']]"
   ]
  },
  {
   "cell_type": "code",
   "execution_count": null,
   "metadata": {},
   "outputs": [],
   "source": [
    "Combined_data.head(5)"
   ]
  },
  {
   "cell_type": "markdown",
   "metadata": {},
   "source": [
    "## Real GDP for Denmark"
   ]
  },
  {
   "cell_type": "code",
   "execution_count": null,
   "metadata": {},
   "outputs": [],
   "source": [
    "# Importing data from CSV file 'Real GDP'\n",
    "GDP = pd.read_csv('GDP new1.csv',delimiter=';')"
   ]
  },
  {
   "cell_type": "markdown",
   "metadata": {},
   "source": [
    "## Display the data set"
   ]
  },
  {
   "cell_type": "code",
   "execution_count": null,
   "metadata": {},
   "outputs": [],
   "source": [
    "#Here we display the data to see the values for Real GDP\n",
    "GDP.head(10)"
   ]
  },
  {
   "cell_type": "code",
   "execution_count": null,
   "metadata": {},
   "outputs": [],
   "source": [
    "# We display our combined data for the inflation and unemployment rate. \n",
    "Combined_data.head(2)"
   ]
  },
  {
   "cell_type": "markdown",
   "metadata": {},
   "source": [
    "We combine all three dataframes Real GDP with inflation and unemployment rate"
   ]
  },
  {
   "cell_type": "code",
   "execution_count": null,
   "metadata": {},
   "outputs": [],
   "source": [
    "# We join/ merge our dataframe real GDP with our combined data which contains dataframe inflation and unemployment rate. \n",
    "merging = pd.merge(GDP, Combined_data, how='left', on=['Year'])\n",
    "\n",
    "Combined_data1 = merging[[\"Year\", \"Inflation rate\", \"Unemployment\", \"Real GDP\"]]\n",
    "Combined_data1.head(10)"
   ]
  },
  {
   "cell_type": "code",
   "execution_count": null,
   "metadata": {},
   "outputs": [],
   "source": [
    "#Printing to see what type it is, string or float?\n",
    "type_ = GDP['Year'].dtype\n",
    "type1_ = GDP['Real GDP'].dtype\n",
    "print(type_,type1_)"
   ]
  },
  {
   "cell_type": "code",
   "execution_count": null,
   "metadata": {},
   "outputs": [],
   "source": [
    "# We convert 'Year' column to integer if it's stored as string\n",
    "GDP['Year'] = pd.to_numeric(GDP['Year'], errors='coerce')\n",
    "# Here we do the same converting column Real GDP to a numeric type\n",
    "GDP['Real GDP'] = pd.to_numeric(GDP['Real GDP'], errors='coerce')"
   ]
  },
  {
   "cell_type": "code",
   "execution_count": null,
   "metadata": {},
   "outputs": [],
   "source": [
    "# Convert 'Year' column to integer if it's stored as string\n",
    "Combined_data1['Year'] = pd.to_numeric(Combined_data1['Year'], errors='coerce')\n",
    "# Convert other columns to numeric type\n",
    "Combined_data1['Real GDP'] = pd.to_numeric(Combined_data1['Real GDP'], errors='coerce')\n",
    "Combined_data1['Inflation rate'] = pd.to_numeric(Combined_data1['Inflation rate'], errors='coerce')\n",
    "Combined_data1['Unemployment'] = pd.to_numeric(Combined_data1['Unemployment'], errors='coerce')\n"
   ]
  },
  {
   "cell_type": "code",
   "execution_count": null,
   "metadata": {},
   "outputs": [],
   "source": [
    "# We sort our DataFrame by the 'Year' column\n",
    "GDP.sort_values(by='Year', inplace=True)\n",
    "\n",
    "# Plotting the graph for Real GDP\n",
    "plt.figure(figsize=(10, 4))\n",
    "plt.plot(GDP['Year'], GDP['Real GDP'], marker='o', color='blue')\n",
    "plt.ylabel('Real GDP (Mia. kr.)')\n",
    "plt.title('Real GDP Over Time For Denmark')\n",
    "plt.xlabel('Year')\n",
    "plt.grid(True)  # Add gridlines\n",
    "plt.tight_layout()\n",
    "plt.show()"
   ]
  },
  {
   "cell_type": "markdown",
   "metadata": {},
   "source": [
    "Describe what we see on the graph. "
   ]
  },
  {
   "cell_type": "markdown",
   "metadata": {},
   "source": [
    "## Analyzing the data"
   ]
  },
  {
   "cell_type": "code",
   "execution_count": null,
   "metadata": {},
   "outputs": [],
   "source": [
    "# Calculate average GDP\n",
    "average_GDP = Combined_data1['Real GDP'].mean()\n",
    "\n",
    "# Calculate maximum and minimum GDP\n",
    "max_GDP = Combined_data1['Real GDP'].max()\n",
    "min_GDP = Combined_data1['Real GDP'].min()\n",
    "\n",
    "# Calculate average Unemployment Rate\n",
    "average_unemp = Combined_data1['Unemployment'].mean()\n",
    "\n",
    "# Calculate average Inflation Rate\n",
    "average_inf = Combined_data1['Inflation rate'].mean()\n",
    "\n",
    "\n",
    "# Print the results\n",
    "print(\"Average GDP:\", average_GDP)\n",
    "print(\"Maximum GDP:\", max_GDP)\n",
    "print(\"Minimum GDP:\", min_GDP)\n",
    "print(\"Average Unemployment Rate:\", average_unemp)\n",
    "print(\"Average Inflation Rate:\", average_inf)"
   ]
  },
  {
   "cell_type": "markdown",
   "metadata": {},
   "source": [
    "Describe what wee see above regarding the results"
   ]
  },
  {
   "cell_type": "code",
   "execution_count": null,
   "metadata": {},
   "outputs": [],
   "source": [
    "# Calculate the annual growth rate of GDP\n",
    "GDP['GDP_growth'] = GDP['Real GDP'].pct_change() * 100  # Calculate percentage change in GDP\n",
    "\n",
    "# Create a new DataFrame with Year and GDP Growth Rate\n",
    "GDP_growth_ = pd.DataFrame({'Year': GDP['Year'], 'GDP_growth': GDP['GDP_growth']})\n",
    "\n",
    "# Print the DataFrame with Year and GDP Growth Rate\n",
    "print(GDP_growth_)"
   ]
  },
  {
   "cell_type": "code",
   "execution_count": null,
   "metadata": {},
   "outputs": [],
   "source": []
  }
 ],
 "metadata": {
  "kernelspec": {
   "display_name": "base",
   "language": "python",
   "name": "python3"
  },
  "language_info": {
   "codemirror_mode": {
    "name": "ipython",
    "version": 3
   },
   "file_extension": ".py",
   "mimetype": "text/x-python",
   "name": "python",
   "nbconvert_exporter": "python",
   "pygments_lexer": "ipython3",
   "version": "3.11.7"
  },
  "toc-autonumbering": true,
  "vscode": {
   "interpreter": {
    "hash": "47ef90cdf3004d3f859f1fb202523c65c07ba7c22eefd261b181f4744e2d0403"
   }
  }
 },
 "nbformat": 4,
 "nbformat_minor": 4
}
