{
 "cells": [
  {
   "cell_type": "markdown",
   "metadata": {},
   "source": [
    "# Inflation, unemploymet and gender in various work fields"
   ]
  },
  {
   "cell_type": "markdown",
   "metadata": {},
   "source": [
    "The goal of this project is to analyze the employment rates of men and women across various industries. We intend to present both the overall employment figures and highlight differences within specific sectors. Our objective is to identify sectors where one gender is predominant over the other and vice versa. Additionally, we aim to examine employment growth rates over time and assess how external factors, such as the 2020 pandemic, have impacted workforce dynamics. Through this analysis, we seek to gain insights into gender representation in the labor market and understand the effects of external events on employment trends."
   ]
  },
  {
   "cell_type": "markdown",
   "metadata": {},
   "source": [
    "Imports and load of relevant libraries"
   ]
  },
  {
   "cell_type": "code",
   "execution_count": 1,
   "metadata": {},
   "outputs": [],
   "source": [
    "import pandas as pd\n",
    "import numpy as np\n",
    "import matplotlib.pyplot as plt\n",
    "import ipywidgets as widgets\n",
    "from matplotlib_venn import venn2\n",
    "import plotly.graph_objects as go\n",
    "import datetime\n",
    "import pandas_datareader # install with `pip install pandas-datareader`\n",
    "from dstapi import DstApi # install with `pip install git+https://github.com/alemartinello/dstapi`\n",
    "\n",
    "# autoreload modules when code is run\n",
    "%load_ext autoreload\n",
    "%autoreload 2\n",
    "\n",
    "# user written modules\n",
    "import dataproject as dp\n",
    "\n",
    "#If you dont have the content below, remove the hashtag and install them\n",
    "\n",
    "# pip install pandas-datareader\n",
    "# %pip install git+https://github.com/alemartinello/dstapi\n",
    "# %pip install pandas-datareader\n",
    "\n",
    "plt.rcParams.update({\"axes.grid\":True,\"grid.color\":\"black\",\"grid.alpha\":\"0.25\",\"grid.linestyle\":\"--\"})\n",
    "plt.rcParams.update({'font.size': 14})"
   ]
  },
  {
   "cell_type": "markdown",
   "metadata": {},
   "source": [
    "# Read and clean data"
   ]
  },
  {
   "cell_type": "markdown",
   "metadata": {},
   "source": [
    "Through API, we import data on inflation and unemployment."
   ]
  },
  {
   "cell_type": "markdown",
   "metadata": {},
   "source": [
    "## Importing inflation data from Denmark Statistics"
   ]
  },
  {
   "cell_type": "markdown",
   "metadata": {},
   "source": [
    "We consider the following dictionary definitions wrt. table PRIS111"
   ]
  },
  {
   "cell_type": "code",
   "execution_count": 2,
   "metadata": {},
   "outputs": [],
   "source": [
    "columns_dict = {}\n",
    "columns_dict['VAREGR'] = 'variable'\n",
    "columns_dict['ENHED'] = 'unit'\n",
    "columns_dict['TID'] = 'year'\n",
    "columns_dict['INDHOLD'] = 'value'\n",
    "\n",
    "var_dict = {} # var is for variable\n",
    "var_dict['00 Consumer price index, total'] = 'Y'\n",
    "\n",
    "\n",
    "unit_dict = {}\n",
    "unit_dict['Index'] = 'Indexnumber'\n",
    "unit_dict['Percentage change compared to previous month (per cent)'] = 'pct month'\n",
    "unit_dict['Percentage change compared to same month the year before (per cent)'] = 'pct year'\n"
   ]
  },
  {
   "cell_type": "code",
   "execution_count": 3,
   "metadata": {},
   "outputs": [],
   "source": [
    "# Importing inflation data via Api.  \n",
    "PRIS111_api = DstApi('PRIS111') \n",
    "params = PRIS111_api._define_base_params(language='en')\n",
    "\n",
    "PRIS111 = PRIS111_api.get_data(params)\n"
   ]
  },
  {
   "cell_type": "code",
   "execution_count": 4,
   "metadata": {},
   "outputs": [],
   "source": [
    "# PRIS111"
   ]
  },
  {
   "cell_type": "code",
   "execution_count": 5,
   "metadata": {},
   "outputs": [],
   "source": [
    "# Renaming columns of the DataFrame PRIS111. \n",
    "PRIS111.rename(columns=columns_dict,inplace=True)\n",
    "\n",
    "# Looping over the var dictionary.\n",
    "for key,value in var_dict.items():\n",
    "    PRIS111.variable.replace(key,value,inplace=True)\n",
    "\n",
    "# Looping over the unit dictionary.\n",
    "for key,value in unit_dict.items():\n",
    "    PRIS111.unit.replace(key,value,inplace=True)\n",
    "\n"
   ]
  },
  {
   "cell_type": "code",
   "execution_count": 6,
   "metadata": {},
   "outputs": [],
   "source": [
    "# Only keep rows where the variable is in `[Y]`. Afterwards convert the `value` column to a float.\n",
    "\n",
    "# Ensuring 'year' is a string before applying string methods\n",
    "PRIS111['year'] = PRIS111['year'].astype(str)\n",
    "\n",
    "# Filter based on 'variable' values\n",
    "var_vals = var_dict.values()\n",
    "I_var = PRIS111['variable'].isin(var_vals)\n",
    "PRIS111 = PRIS111[I_var]\n",
    "\n",
    "# Grouping variables\n",
    "# PRIS111.groupby(['variable','unit']).describe()"
   ]
  },
  {
   "cell_type": "markdown",
   "metadata": {},
   "source": [
    "## Exploring data set"
   ]
  },
  {
   "cell_type": "code",
   "execution_count": 7,
   "metadata": {},
   "outputs": [],
   "source": [
    "# Ensuring 'year' is a string before applying string methods\n",
    "PRIS111['year'] = PRIS111['year'].astype(str)\n",
    "\n",
    "# Filter based on 'variable' values\n",
    "var_vals = var_dict.values()\n",
    "I_var = PRIS111['variable'].isin(var_vals)\n",
    "PRIS111 = PRIS111[I_var]\n",
    "\n",
    "# Remove rows where 'unit' is either \"Indexnumber\" or \"pct month\"\n",
    "units_to_exclude = ['Indexnumber', 'pct month']\n",
    "I_unit = ~PRIS111['unit'].isin(units_to_exclude)\n",
    "PRIS111 = PRIS111[I_unit]\n",
    "\n",
    "# Filter to keep only rows where 'year' ends with \"M12\", then remove the \"M12\" part\n",
    "I_year_suffix = PRIS111['year'].str.endswith(\"M12\")\n",
    "PRIS111 = PRIS111[I_year_suffix]\n",
    "PRIS111['year'] = PRIS111['year'].str.replace('M12', '')\n",
    "\n",
    "# Convert 'year' back to integer for proper comparison and sorting\n",
    "PRIS111['year'] = PRIS111['year'].astype(int)\n",
    "\n",
    "# Exclude rows before \"2007\" and the year \"2023\"\n",
    "PRIS111 = PRIS111[(PRIS111['year'] >= 2007) & (PRIS111['year'] != 2023)]\n",
    "\n",
    "# Sort the DataFrame by 'year' in ascending order\n",
    "PRIS111 = PRIS111.sort_values(by='year')\n",
    "\n",
    "# PRIS111\n",
    "\n"
   ]
  },
  {
   "cell_type": "markdown",
   "metadata": {},
   "source": [
    "## Merge inflation- and unemployment data from Denmark Statistics"
   ]
  },
  {
   "cell_type": "markdown",
   "metadata": {},
   "source": [
    "We merge with AULP01: Unemployment"
   ]
  },
  {
   "cell_type": "code",
   "execution_count": 8,
   "metadata": {},
   "outputs": [],
   "source": [
    "FT_api = DstApi('AULP01')\n",
    "params = FT_api._define_base_params(language='en')\n",
    "params['variables'][0]['values'] = ['000']\n",
    "params['variables'][1]['values'] = ['TOT']\n",
    "params['variables'][2]['values'] = ['TOT']\n",
    "params['variables'][3]['values'] = ['2007','2008','2009','2010','2011','2012','2013', '2014', '2015', '2016', '2017', '2018', '2019', '2020', '2021', '2022']\n",
    "## 000 is the code for all of Denmark, this can be seen by using: FT_api.variable_levels('HOVEDDELE', language='en')\n",
    "unemp = FT_api.get_data(params=params)\n",
    "\n",
    "unemp.rename(columns={'TID':'year','INDHOLD':'unemployment'},inplace=True)\n",
    "unemp =  unemp.loc[:,['year','unemployment']]\n"
   ]
  },
  {
   "cell_type": "code",
   "execution_count": 9,
   "metadata": {},
   "outputs": [],
   "source": [
    "# hint, merged = pd.merge(?,?,how='?',on=[?])\n",
    "# merged_true.tail(10)\n",
    "\n",
    "# Merge the DataFrames\n",
    "merged = pd.merge(PRIS111, unemp, how='left', on=['year'])\n",
    "\n",
    "# Display the tail of the new DataFrame\n",
    "# merged.tail(20)"
   ]
  },
  {
   "cell_type": "code",
   "execution_count": 25,
   "metadata": {},
   "outputs": [
    {
     "data": {
      "image/png": "[encoded data removed]",
      "text/plain": [
       "<Figure size 1000x600 with 1 Axes>"
      ]
     },
     "metadata": {},
     "output_type": "display_data"
    }
   ],
   "source": [
    "# Generating \n",
    "x_values = list(range(2007, 2023))  # From 2007 to 2022\n",
    "y_values = [2.3, 2.4,1.4, 2.8, 2.4, 2.1, 0.7, 0.4, 0.4, 0.5, 1.0, 0.8, 0.8, 0.5, 3.1, 8.7]\n",
    "\n",
    "# Plotting with the updated data\n",
    "plt.figure(figsize=(10, 6))\n",
    "plt.plot(x_values, y_values, marker='o', linestyle='-', color='b')\n",
    "plt.title('Inflation from 2007 to 2022')\n",
    "plt.xlabel('Year')\n",
    "plt.ylabel('Pct.')\n",
    "plt.xticks(x_values, rotation=45)  # Ensure all x-ticks (years) are shown and rotated for better readability\n",
    "plt.grid(True)\n",
    "plt.show()\n"
   ]
  },
  {
   "cell_type": "markdown",
   "metadata": {},
   "source": [
    "We observe inflation in Denmark in the period 2007-22. Initially, it remained moderate, hovering between 2.3% and 2.8% from 2007 to 2011. This period saw generally stable economic conditions. A significant drop occurred between 2012 and 2015, with inflation rates plummeting to lows of 0.4% and 0.7%, indicative of a sluggish economic environment possibly influenced by global financial challenges. From 2016 to 2019, inflation was consistently mild, ranging between 0.5% and 1.0%, suggesting stable but slow economic growth. However, a sharp increase is observed in 2021 and 2022, with rates jumping to 3.1% and 8.7%. The relatively large increase in inflation to 8.7 pct. was mostly due to changes in prices in residential use, electricity, and heating. \n",
    "\n",
    "NB: we restrict ourselves to 2022, since there's not yet data for unemployment in 2023. In December 2013, inflation drops to 0.7 pct., which was largely due to decreasing energy prices. "
   ]
  },
  {
   "cell_type": "code",
   "execution_count": 26,
   "metadata": {},
   "outputs": [
    {
     "data": {
      "image/png": "[encoded data removed]",
      "text/plain": [
       "<Figure size 1200x800 with 1 Axes>"
      ]
     },
     "metadata": {},
     "output_type": "display_data"
    }
   ],
   "source": [
    "# Data for Plot 1 (Inflation from 2007 to 2022)\n",
    "x_values_1 = list(range(2007, 2023))\n",
    "y_values_1 = [2.3, 2.4, 1.4, 2.8, 2.4, 2.1, 0.7, 0.4, 0.4, 0.5, 1.0, 0.8, 0.8, 0.5, 3.1, 8.7]\n",
    "\n",
    "# Data for Plot 2 (Unemployment)\n",
    "x_values_2 = list(range(2007, 2023))\n",
    "y_values_2 = [3.6, 2.6, 4.8, 6.1, 5.9, 6.0, 5.8, 5.0, 4.5, 4.1, 4.2, 3.8, 3.7, 4.6, 3.6, 2.6]\n",
    "\n",
    "# Plotting both sets of data on the same graph\n",
    "plt.figure(figsize=(12, 8))\n",
    "\n",
    "# Plot 1: Inflation\n",
    "plt.plot(x_values_1, y_values_1, marker='o', linestyle='-', color='r', label='Inflation')\n",
    "\n",
    "# Plot 2: Unemployment\n",
    "plt.plot(x_values_2, y_values_2, marker='x', linestyle='--', color='g', label='Unemployment')\n",
    "\n",
    "# Customizing the plot\n",
    "plt.title('Inflation and Unemployment from 2007 to 2022')\n",
    "plt.xlabel('Year')\n",
    "plt.ylabel('Pct.')\n",
    "plt.xticks(x_values_1, rotation=45)  # Ensure all x-ticks (years) are shown and rotated for readability\n",
    "plt.grid(True)\n",
    "plt.legend()  # Show legend to differentiate between the two plots\n",
    "plt.show()\n"
   ]
  },
  {
   "cell_type": "markdown",
   "metadata": {},
   "source": [
    "In Denmark from 2007 to 2022, inflation and unemployment trends mirrored broader economic conditions. Initially, moderate inflation between 2.3% and 2.8% from 2007 to 2011 coincided with stable unemployment rates, peaking slightly in 2010 at 6.1%, reflecting the global economic downturn. As inflation rates plummeted to as low as 0.4% and 0.7% between 2012 and 2015, a sluggish economic environment persisted, marked by unemployment rates stabilizing around 6%. From 2016 to 2019, both inflation and unemployment displayed steady trends; mild inflation between 0.5% and 1.0% paired with a declining unemployment rate, stabilizing around 4%, suggested a period of economic recovery. The sharp inflation increase in 2021 and 2022 to 3.1% and 8.7%, primarily driven by spikes in residential use costs, electricity, and heating, occurred alongside a substantial drop in unemployment to a record low of 2.6%, indicating a complex interplay of rapid price increases and tightening labor markets. Thus it may seem, that inflation and unemployment has an inverse relationship.\n",
    "\n",
    "To further understand unemployment we will analyze gender parity in different work fields."
   ]
  },
  {
   "cell_type": "markdown",
   "metadata": {},
   "source": [
    "## Employment rate in fields"
   ]
  },
  {
   "cell_type": "code",
   "execution_count": 12,
   "metadata": {},
   "outputs": [],
   "source": [
    "#We import the employment tabel 'KAS301' from Denmarks Statistics\n",
    "kas = DstApi('KAS301')"
   ]
  },
  {
   "cell_type": "code",
   "execution_count": 13,
   "metadata": {},
   "outputs": [
    {
     "data": {
      "text/plain": [
       "{'table': 'kas301',\n",
       " 'format': 'BULK',\n",
       " 'lang': 'en',\n",
       " 'variables': [{'code': 'OMRÅDE', 'values': ['*']},\n",
       "  {'code': 'BRANCHE07', 'values': ['*']},\n",
       "  {'code': 'SOCIO', 'values': ['*']},\n",
       "  {'code': 'ALDER', 'values': ['*']},\n",
       "  {'code': 'KOEN', 'values': ['*']},\n",
       "  {'code': 'PERIODE', 'values': ['*']},\n",
       "  {'code': 'Tid', 'values': ['*']}]}"
      ]
     },
     "execution_count": 13,
     "metadata": {},
     "output_type": "execute_result"
    }
   ],
   "source": [
    "# Use the _define_base_params method to get a template and selects all available data. \n",
    "params = kas._define_base_params(language='en')\n",
    "params"
   ]
  },
  {
   "cell_type": "code",
   "execution_count": 14,
   "metadata": {},
   "outputs": [],
   "source": [
    "# We define what we want the dataset to contain\n",
    "params= {'table': 'kas301',\n",
    " 'format': 'BULK',\n",
    " 'lang': 'en',\n",
    " 'variables': [{'code': 'OMRÅDE', 'values': ['000']},\n",
    "  {'code': 'BRANCHE07', 'values': ['A', 'H', 'L', 'K', 'CF']},\n",
    "  {'code': 'SOCIO', 'values': ['02']},\n",
    "  {'code': 'ALDER', 'values': ['*']},\n",
    "  {'code': 'KOEN', 'values': ['TOT', 'K', 'M']},\n",
    "  {'code': 'PERIODE', 'values': ['1']},\n",
    "  {'code': 'Tid', 'values': ['>2011']}]}"
   ]
  },
  {
   "cell_type": "code",
   "execution_count": 15,
   "metadata": {},
   "outputs": [
    {
     "data": {
      "text/html": [
       "<div>\n",
       "<style scoped>\n",
       "    .dataframe tbody tr th:only-of-type {\n",
       "        vertical-align: middle;\n",
       "    }\n",
       "\n",
       "    .dataframe tbody tr th {\n",
       "        vertical-align: top;\n",
       "    }\n",
       "\n",
       "    .dataframe thead th {\n",
       "        text-align: right;\n",
       "    }\n",
       "</style>\n",
       "<table border=\"1\" class=\"dataframe\">\n",
       "  <thead>\n",
       "    <tr style=\"text-align: right;\">\n",
       "      <th></th>\n",
       "      <th>OMRÅDE</th>\n",
       "      <th>BRANCHE07</th>\n",
       "      <th>SOCIO</th>\n",
       "      <th>ALDER</th>\n",
       "      <th>KOEN</th>\n",
       "      <th>PERIODE</th>\n",
       "      <th>TID</th>\n",
       "      <th>INDHOLD</th>\n",
       "    </tr>\n",
       "  </thead>\n",
       "  <tbody>\n",
       "    <tr>\n",
       "      <th>0</th>\n",
       "      <td>All Denmark</td>\n",
       "      <td>A Agriculture, forestry and fishing</td>\n",
       "      <td>Employed total</td>\n",
       "      <td>Under 16 years</td>\n",
       "      <td>Women</td>\n",
       "      <td>Whole year</td>\n",
       "      <td>2012</td>\n",
       "      <td>443</td>\n",
       "    </tr>\n",
       "    <tr>\n",
       "      <th>1</th>\n",
       "      <td>All Denmark</td>\n",
       "      <td>A Agriculture, forestry and fishing</td>\n",
       "      <td>Employed total</td>\n",
       "      <td>Under 16 years</td>\n",
       "      <td>Men</td>\n",
       "      <td>Whole year</td>\n",
       "      <td>2012</td>\n",
       "      <td>1274</td>\n",
       "    </tr>\n",
       "    <tr>\n",
       "      <th>2</th>\n",
       "      <td>All Denmark</td>\n",
       "      <td>A Agriculture, forestry and fishing</td>\n",
       "      <td>Employed total</td>\n",
       "      <td>Under 16 years</td>\n",
       "      <td>Total</td>\n",
       "      <td>Whole year</td>\n",
       "      <td>2012</td>\n",
       "      <td>1717</td>\n",
       "    </tr>\n",
       "    <tr>\n",
       "      <th>3</th>\n",
       "      <td>All Denmark</td>\n",
       "      <td>A Agriculture, forestry and fishing</td>\n",
       "      <td>Employed total</td>\n",
       "      <td>16-19 years</td>\n",
       "      <td>Women</td>\n",
       "      <td>Whole year</td>\n",
       "      <td>2012</td>\n",
       "      <td>1030</td>\n",
       "    </tr>\n",
       "    <tr>\n",
       "      <th>4</th>\n",
       "      <td>All Denmark</td>\n",
       "      <td>A Agriculture, forestry and fishing</td>\n",
       "      <td>Employed total</td>\n",
       "      <td>16-19 years</td>\n",
       "      <td>Men</td>\n",
       "      <td>Whole year</td>\n",
       "      <td>2012</td>\n",
       "      <td>3188</td>\n",
       "    </tr>\n",
       "    <tr>\n",
       "      <th>...</th>\n",
       "      <td>...</td>\n",
       "      <td>...</td>\n",
       "      <td>...</td>\n",
       "      <td>...</td>\n",
       "      <td>...</td>\n",
       "      <td>...</td>\n",
       "      <td>...</td>\n",
       "      <td>...</td>\n",
       "    </tr>\n",
       "    <tr>\n",
       "      <th>95</th>\n",
       "      <td>All Denmark</td>\n",
       "      <td>H Transportation</td>\n",
       "      <td>Employed total</td>\n",
       "      <td>25-29 years</td>\n",
       "      <td>Total</td>\n",
       "      <td>Whole year</td>\n",
       "      <td>2012</td>\n",
       "      <td>9343</td>\n",
       "    </tr>\n",
       "    <tr>\n",
       "      <th>96</th>\n",
       "      <td>All Denmark</td>\n",
       "      <td>H Transportation</td>\n",
       "      <td>Employed total</td>\n",
       "      <td>30-34 years</td>\n",
       "      <td>Women</td>\n",
       "      <td>Whole year</td>\n",
       "      <td>2012</td>\n",
       "      <td>2679</td>\n",
       "    </tr>\n",
       "    <tr>\n",
       "      <th>97</th>\n",
       "      <td>All Denmark</td>\n",
       "      <td>H Transportation</td>\n",
       "      <td>Employed total</td>\n",
       "      <td>30-34 years</td>\n",
       "      <td>Men</td>\n",
       "      <td>Whole year</td>\n",
       "      <td>2012</td>\n",
       "      <td>8463</td>\n",
       "    </tr>\n",
       "    <tr>\n",
       "      <th>98</th>\n",
       "      <td>All Denmark</td>\n",
       "      <td>H Transportation</td>\n",
       "      <td>Employed total</td>\n",
       "      <td>30-34 years</td>\n",
       "      <td>Total</td>\n",
       "      <td>Whole year</td>\n",
       "      <td>2012</td>\n",
       "      <td>11143</td>\n",
       "    </tr>\n",
       "    <tr>\n",
       "      <th>99</th>\n",
       "      <td>All Denmark</td>\n",
       "      <td>H Transportation</td>\n",
       "      <td>Employed total</td>\n",
       "      <td>35-39 years</td>\n",
       "      <td>Women</td>\n",
       "      <td>Whole year</td>\n",
       "      <td>2012</td>\n",
       "      <td>3255</td>\n",
       "    </tr>\n",
       "  </tbody>\n",
       "</table>\n",
       "<p>100 rows × 8 columns</p>\n",
       "</div>"
      ],
      "text/plain": [
       "         OMRÅDE                            BRANCHE07           SOCIO  \\\n",
       "0   All Denmark  A Agriculture, forestry and fishing  Employed total   \n",
       "1   All Denmark  A Agriculture, forestry and fishing  Employed total   \n",
       "2   All Denmark  A Agriculture, forestry and fishing  Employed total   \n",
       "3   All Denmark  A Agriculture, forestry and fishing  Employed total   \n",
       "4   All Denmark  A Agriculture, forestry and fishing  Employed total   \n",
       "..          ...                                  ...             ...   \n",
       "95  All Denmark                     H Transportation  Employed total   \n",
       "96  All Denmark                     H Transportation  Employed total   \n",
       "97  All Denmark                     H Transportation  Employed total   \n",
       "98  All Denmark                     H Transportation  Employed total   \n",
       "99  All Denmark                     H Transportation  Employed total   \n",
       "\n",
       "             ALDER   KOEN     PERIODE   TID  INDHOLD  \n",
       "0   Under 16 years  Women  Whole year  2012      443  \n",
       "1   Under 16 years    Men  Whole year  2012     1274  \n",
       "2   Under 16 years  Total  Whole year  2012     1717  \n",
       "3      16-19 years  Women  Whole year  2012     1030  \n",
       "4      16-19 years    Men  Whole year  2012     3188  \n",
       "..             ...    ...         ...   ...      ...  \n",
       "95     25-29 years  Total  Whole year  2012     9343  \n",
       "96     30-34 years  Women  Whole year  2012     2679  \n",
       "97     30-34 years    Men  Whole year  2012     8463  \n",
       "98     30-34 years  Total  Whole year  2012    11143  \n",
       "99     35-39 years  Women  Whole year  2012     3255  \n",
       "\n",
       "[100 rows x 8 columns]"
      ]
     },
     "execution_count": 15,
     "metadata": {},
     "output_type": "execute_result"
    }
   ],
   "source": [
    "# We load the data from dst via the api using the options specified in the param dictionary\n",
    "kas_new=kas.get_data(params=params)\n",
    "kas_new.head(100)"
   ]
  },
  {
   "cell_type": "code",
   "execution_count": 51,
   "metadata": {},
   "outputs": [],
   "source": [
    "#We rename \"OMRÅDE\", \"TID\" and \"INDHOLD\"\n",
    "kas_new.rename(columns={\"OMRÅDE\": \"Place\",\"TID\": \"Year\",\"INDHOLD\": \"Employment\", \"ALDER\": \"Age\", \"KOEN\": \"Gender\", \"BRANCHE07\": \"Business\",},  inplace =True)\n",
    "\n",
    "# Here we are renaming the Business category to the following: Agriculture, Transportation, Pharmaceuticals, Real estate activities and Financial and Insurance.  \n",
    "kas_new.loc[kas_new['Business'].str.contains('Agriculture'), 'Business'] = 'Agriculture'\n",
    "kas_new.loc[kas_new['Business'].str.contains('Transportation'), 'Business'] = 'Transportation'\n",
    "kas_new.loc[kas_new['Business'].str.contains('Pharmaceuticals'), 'Business'] = 'Pharmaceuticals'\n",
    "kas_new.loc[kas_new['Business'].str.contains('Real estate activities'), 'Business'] = 'Real estate activities'\n",
    "kas_new.loc[kas_new['Business'].str.contains('Financial and insurance'), 'Business'] = 'Financial and insurance'\n",
    "#print(kas_new)"
   ]
  },
  {
   "cell_type": "markdown",
   "metadata": {},
   "source": [
    "Printing descriptive statistics on gender and employment. "
   ]
  },
  {
   "cell_type": "code",
   "execution_count": 17,
   "metadata": {},
   "outputs": [
    {
     "data": {
      "text/html": [
       "<div>\n",
       "<style scoped>\n",
       "    .dataframe tbody tr th:only-of-type {\n",
       "        vertical-align: middle;\n",
       "    }\n",
       "\n",
       "    .dataframe tbody tr th {\n",
       "        vertical-align: top;\n",
       "    }\n",
       "\n",
       "    .dataframe thead tr th {\n",
       "        text-align: left;\n",
       "    }\n",
       "\n",
       "    .dataframe thead tr:last-of-type th {\n",
       "        text-align: right;\n",
       "    }\n",
       "</style>\n",
       "<table border=\"1\" class=\"dataframe\">\n",
       "  <thead>\n",
       "    <tr>\n",
       "      <th></th>\n",
       "      <th></th>\n",
       "      <th colspan=\"8\" halign=\"left\">Year</th>\n",
       "    </tr>\n",
       "    <tr>\n",
       "      <th></th>\n",
       "      <th></th>\n",
       "      <th>count</th>\n",
       "      <th>mean</th>\n",
       "      <th>std</th>\n",
       "      <th>min</th>\n",
       "      <th>25%</th>\n",
       "      <th>50%</th>\n",
       "      <th>75%</th>\n",
       "      <th>max</th>\n",
       "    </tr>\n",
       "    <tr>\n",
       "      <th>Gender</th>\n",
       "      <th>Employment</th>\n",
       "      <th></th>\n",
       "      <th></th>\n",
       "      <th></th>\n",
       "      <th></th>\n",
       "      <th></th>\n",
       "      <th></th>\n",
       "      <th></th>\n",
       "      <th></th>\n",
       "    </tr>\n",
       "  </thead>\n",
       "  <tbody>\n",
       "    <tr>\n",
       "      <th rowspan=\"5\" valign=\"top\">Men</th>\n",
       "      <th>0</th>\n",
       "      <td>1.0</td>\n",
       "      <td>2021.000000</td>\n",
       "      <td>NaN</td>\n",
       "      <td>2021.0</td>\n",
       "      <td>2021.00</td>\n",
       "      <td>2021.0</td>\n",
       "      <td>2021.00</td>\n",
       "      <td>2021.0</td>\n",
       "    </tr>\n",
       "    <tr>\n",
       "      <th>1</th>\n",
       "      <td>6.0</td>\n",
       "      <td>2016.666667</td>\n",
       "      <td>3.076795</td>\n",
       "      <td>2012.0</td>\n",
       "      <td>2014.75</td>\n",
       "      <td>2017.5</td>\n",
       "      <td>2018.75</td>\n",
       "      <td>2020.0</td>\n",
       "    </tr>\n",
       "    <tr>\n",
       "      <th>2</th>\n",
       "      <td>3.0</td>\n",
       "      <td>2014.666667</td>\n",
       "      <td>1.527525</td>\n",
       "      <td>2013.0</td>\n",
       "      <td>2014.00</td>\n",
       "      <td>2015.0</td>\n",
       "      <td>2015.50</td>\n",
       "      <td>2016.0</td>\n",
       "    </tr>\n",
       "    <tr>\n",
       "      <th>17</th>\n",
       "      <td>1.0</td>\n",
       "      <td>2014.000000</td>\n",
       "      <td>NaN</td>\n",
       "      <td>2014.0</td>\n",
       "      <td>2014.00</td>\n",
       "      <td>2014.0</td>\n",
       "      <td>2014.00</td>\n",
       "      <td>2014.0</td>\n",
       "    </tr>\n",
       "    <tr>\n",
       "      <th>21</th>\n",
       "      <td>1.0</td>\n",
       "      <td>2013.000000</td>\n",
       "      <td>NaN</td>\n",
       "      <td>2013.0</td>\n",
       "      <td>2013.00</td>\n",
       "      <td>2013.0</td>\n",
       "      <td>2013.00</td>\n",
       "      <td>2013.0</td>\n",
       "    </tr>\n",
       "    <tr>\n",
       "      <th>...</th>\n",
       "      <th>...</th>\n",
       "      <td>...</td>\n",
       "      <td>...</td>\n",
       "      <td>...</td>\n",
       "      <td>...</td>\n",
       "      <td>...</td>\n",
       "      <td>...</td>\n",
       "      <td>...</td>\n",
       "      <td>...</td>\n",
       "    </tr>\n",
       "    <tr>\n",
       "      <th rowspan=\"5\" valign=\"top\">Women</th>\n",
       "      <th>37812</th>\n",
       "      <td>1.0</td>\n",
       "      <td>2021.000000</td>\n",
       "      <td>NaN</td>\n",
       "      <td>2021.0</td>\n",
       "      <td>2021.00</td>\n",
       "      <td>2021.0</td>\n",
       "      <td>2021.00</td>\n",
       "      <td>2021.0</td>\n",
       "    </tr>\n",
       "    <tr>\n",
       "      <th>37847</th>\n",
       "      <td>1.0</td>\n",
       "      <td>2014.000000</td>\n",
       "      <td>NaN</td>\n",
       "      <td>2014.0</td>\n",
       "      <td>2014.00</td>\n",
       "      <td>2014.0</td>\n",
       "      <td>2014.00</td>\n",
       "      <td>2014.0</td>\n",
       "    </tr>\n",
       "    <tr>\n",
       "      <th>38505</th>\n",
       "      <td>1.0</td>\n",
       "      <td>2022.000000</td>\n",
       "      <td>NaN</td>\n",
       "      <td>2022.0</td>\n",
       "      <td>2022.00</td>\n",
       "      <td>2022.0</td>\n",
       "      <td>2022.00</td>\n",
       "      <td>2022.0</td>\n",
       "    </tr>\n",
       "    <tr>\n",
       "      <th>38646</th>\n",
       "      <td>1.0</td>\n",
       "      <td>2013.000000</td>\n",
       "      <td>NaN</td>\n",
       "      <td>2013.0</td>\n",
       "      <td>2013.00</td>\n",
       "      <td>2013.0</td>\n",
       "      <td>2013.00</td>\n",
       "      <td>2013.0</td>\n",
       "    </tr>\n",
       "    <tr>\n",
       "      <th>39570</th>\n",
       "      <td>1.0</td>\n",
       "      <td>2012.000000</td>\n",
       "      <td>NaN</td>\n",
       "      <td>2012.0</td>\n",
       "      <td>2012.00</td>\n",
       "      <td>2012.0</td>\n",
       "      <td>2012.00</td>\n",
       "      <td>2012.0</td>\n",
       "    </tr>\n",
       "  </tbody>\n",
       "</table>\n",
       "<p>2168 rows × 8 columns</p>\n",
       "</div>"
      ],
      "text/plain": [
       "                   Year                                                  \\\n",
       "                  count         mean       std     min      25%     50%   \n",
       "Gender Employment                                                         \n",
       "Men    0            1.0  2021.000000       NaN  2021.0  2021.00  2021.0   \n",
       "       1            6.0  2016.666667  3.076795  2012.0  2014.75  2017.5   \n",
       "       2            3.0  2014.666667  1.527525  2013.0  2014.00  2015.0   \n",
       "       17           1.0  2014.000000       NaN  2014.0  2014.00  2014.0   \n",
       "       21           1.0  2013.000000       NaN  2013.0  2013.00  2013.0   \n",
       "...                 ...          ...       ...     ...      ...     ...   \n",
       "Women  37812        1.0  2021.000000       NaN  2021.0  2021.00  2021.0   \n",
       "       37847        1.0  2014.000000       NaN  2014.0  2014.00  2014.0   \n",
       "       38505        1.0  2022.000000       NaN  2022.0  2022.00  2022.0   \n",
       "       38646        1.0  2013.000000       NaN  2013.0  2013.00  2013.0   \n",
       "       39570        1.0  2012.000000       NaN  2012.0  2012.00  2012.0   \n",
       "\n",
       "                                    \n",
       "                       75%     max  \n",
       "Gender Employment                   \n",
       "Men    0           2021.00  2021.0  \n",
       "       1           2018.75  2020.0  \n",
       "       2           2015.50  2016.0  \n",
       "       17          2014.00  2014.0  \n",
       "       21          2013.00  2013.0  \n",
       "...                    ...     ...  \n",
       "Women  37812       2021.00  2021.0  \n",
       "       37847       2014.00  2014.0  \n",
       "       38505       2022.00  2022.0  \n",
       "       38646       2013.00  2013.0  \n",
       "       39570       2012.00  2012.0  \n",
       "\n",
       "[2168 rows x 8 columns]"
      ]
     },
     "execution_count": 17,
     "metadata": {},
     "output_type": "execute_result"
    }
   ],
   "source": [
    "kas_new.groupby(['Gender','Employment']).describe()"
   ]
  },
  {
   "cell_type": "markdown",
   "metadata": {},
   "source": [
    "## Explore the dataset"
   ]
  },
  {
   "cell_type": "markdown",
   "metadata": {},
   "source": [
    "We will now explore the final dataset by plotting the employment rates for gender and for different fields"
   ]
  },
  {
   "cell_type": "code",
   "execution_count": 18,
   "metadata": {},
   "outputs": [
    {
     "data": {
      "application/vnd.plotly.v1+json": {
       "config": {
        "plotlyServerURL": "https://plot.ly"
       },
       "data": [
        {
         "hoverinfo": "x+y+text",
         "marker": {
          "color": [
           "blue",
           "gray",
           "red",
           "blue",
           "gray",
           "red",
           "blue",
           "gray",
           "red",
           "blue",
           "gray",
           "red",
           "blue",
           "gray",
           "red",
           "blue",
           "gray",
           "red",
           "blue",
           "gray",
           "red",
           "blue",
           "gray",
           "red",
           "blue",
           "gray",
           "red",
           "blue",
           "gray",
           "red",
           "blue",
           "gray",
           "red"
          ]
         },
         "type": "bar",
         "x": [
          "2012, Men",
          "2012, Total",
          "2012, Women",
          "2013, Men",
          "2013, Total",
          "2013, Women",
          "2014, Men",
          "2014, Total",
          "2014, Women",
          "2015, Men",
          "2015, Total",
          "2015, Women",
          "2016, Men",
          "2016, Total",
          "2016, Women",
          "2017, Men",
          "2017, Total",
          "2017, Women",
          "2018, Men",
          "2018, Total",
          "2018, Women",
          "2019, Men",
          "2019, Total",
          "2019, Women",
          "2020, Men",
          "2020, Total",
          "2020, Women",
          "2021, Men",
          "2021, Total",
          "2021, Women",
          "2022, Men",
          "2022, Total",
          "2022, Women"
         ],
         "y": [
          475612,
          696550,
          220932,
          474856,
          693757,
          218901,
          478912,
          698542,
          219627,
          480148,
          699235,
          219088,
          482067,
          702312,
          220241,
          483978,
          706602,
          222628,
          489705,
          715747,
          226043,
          491184,
          720139,
          228948,
          483648,
          711771,
          228120,
          485924,
          715956,
          230032,
          500449,
          740127,
          239676
         ]
        }
       ],
       "layout": {
        "template": {
         "data": {
          "bar": [
           {
            "error_x": {
             "color": "#2a3f5f"
            },
            "error_y": {
             "color": "#2a3f5f"
            },
            "marker": {
             "line": {
              "color": "#E5ECF6",
              "width": 0.5
             },
             "pattern": {
              "fillmode": "overlay",
              "size": 10,
              "solidity": 0.2
             }
            },
            "type": "bar"
           }
          ],
          "barpolar": [
           {
            "marker": {
             "line": {
              "color": "#E5ECF6",
              "width": 0.5
             },
             "pattern": {
              "fillmode": "overlay",
              "size": 10,
              "solidity": 0.2
             }
            },
            "type": "barpolar"
           }
          ],
          "carpet": [
           {
            "aaxis": {
             "endlinecolor": "#2a3f5f",
             "gridcolor": "white",
             "linecolor": "white",
             "minorgridcolor": "white",
             "startlinecolor": "#2a3f5f"
            },
            "baxis": {
             "endlinecolor": "#2a3f5f",
             "gridcolor": "white",
             "linecolor": "white",
             "minorgridcolor": "white",
             "startlinecolor": "#2a3f5f"
            },
            "type": "carpet"
           }
          ],
          "choropleth": [
           {
            "colorbar": {
             "outlinewidth": 0,
             "ticks": ""
            },
            "type": "choropleth"
           }
          ],
          "contour": [
           {
            "colorbar": {
             "outlinewidth": 0,
             "ticks": ""
            },
            "colorscale": [
             [
              0,
              "#0d0887"
             ],
             [
              0.1111111111111111,
              "#46039f"
             ],
             [
              0.2222222222222222,
              "#7201a8"
             ],
             [
              0.3333333333333333,
              "#9c179e"
             ],
             [
              0.4444444444444444,
              "#bd3786"
             ],
             [
              0.5555555555555556,
              "#d8576b"
             ],
             [
              0.6666666666666666,
              "#ed7953"
             ],
             [
              0.7777777777777778,
              "#fb9f3a"
             ],
             [
              0.8888888888888888,
              "#fdca26"
             ],
             [
              1,
              "#f0f921"
             ]
            ],
            "type": "contour"
           }
          ],
          "contourcarpet": [
           {
            "colorbar": {
             "outlinewidth": 0,
             "ticks": ""
            },
            "type": "contourcarpet"
           }
          ],
          "heatmap": [
           {
            "colorbar": {
             "outlinewidth": 0,
             "ticks": ""
            },
            "colorscale": [
             [
              0,
              "#0d0887"
             ],
             [
              0.1111111111111111,
              "#46039f"
             ],
             [
              0.2222222222222222,
              "#7201a8"
             ],
             [
              0.3333333333333333,
              "#9c179e"
             ],
             [
              0.4444444444444444,
              "#bd3786"
             ],
             [
              0.5555555555555556,
              "#d8576b"
             ],
             [
              0.6666666666666666,
              "#ed7953"
             ],
             [
              0.7777777777777778,
              "#fb9f3a"
             ],
             [
              0.8888888888888888,
              "#fdca26"
             ],
             [
              1,
              "#f0f921"
             ]
            ],
            "type": "heatmap"
           }
          ],
          "heatmapgl": [
           {
            "colorbar": {
             "outlinewidth": 0,
             "ticks": ""
            },
            "colorscale": [
             [
              0,
              "#0d0887"
             ],
             [
              0.1111111111111111,
              "#46039f"
             ],
             [
              0.2222222222222222,
              "#7201a8"
             ],
             [
              0.3333333333333333,
              "#9c179e"
             ],
             [
              0.4444444444444444,
              "#bd3786"
             ],
             [
              0.5555555555555556,
              "#d8576b"
             ],
             [
              0.6666666666666666,
              "#ed7953"
             ],
             [
              0.7777777777777778,
              "#fb9f3a"
             ],
             [
              0.8888888888888888,
              "#fdca26"
             ],
             [
              1,
              "#f0f921"
             ]
            ],
            "type": "heatmapgl"
           }
          ],
          "histogram": [
           {
            "marker": {
             "pattern": {
              "fillmode": "overlay",
              "size": 10,
              "solidity": 0.2
             }
            },
            "type": "histogram"
           }
          ],
          "histogram2d": [
           {
            "colorbar": {
             "outlinewidth": 0,
             "ticks": ""
            },
            "colorscale": [
             [
              0,
              "#0d0887"
             ],
             [
              0.1111111111111111,
              "#46039f"
             ],
             [
              0.2222222222222222,
              "#7201a8"
             ],
             [
              0.3333333333333333,
              "#9c179e"
             ],
             [
              0.4444444444444444,
              "#bd3786"
             ],
             [
              0.5555555555555556,
              "#d8576b"
             ],
             [
              0.6666666666666666,
              "#ed7953"
             ],
             [
              0.7777777777777778,
              "#fb9f3a"
             ],
             [
              0.8888888888888888,
              "#fdca26"
             ],
             [
              1,
              "#f0f921"
             ]
            ],
            "type": "histogram2d"
           }
          ],
          "histogram2dcontour": [
           {
            "colorbar": {
             "outlinewidth": 0,
             "ticks": ""
            },
            "colorscale": [
             [
              0,
              "#0d0887"
             ],
             [
              0.1111111111111111,
              "#46039f"
             ],
             [
              0.2222222222222222,
              "#7201a8"
             ],
             [
              0.3333333333333333,
              "#9c179e"
             ],
             [
              0.4444444444444444,
              "#bd3786"
             ],
             [
              0.5555555555555556,
              "#d8576b"
             ],
             [
              0.6666666666666666,
              "#ed7953"
             ],
             [
              0.7777777777777778,
              "#fb9f3a"
             ],
             [
              0.8888888888888888,
              "#fdca26"
             ],
             [
              1,
              "#f0f921"
             ]
            ],
            "type": "histogram2dcontour"
           }
          ],
          "mesh3d": [
           {
            "colorbar": {
             "outlinewidth": 0,
             "ticks": ""
            },
            "type": "mesh3d"
           }
          ],
          "parcoords": [
           {
            "line": {
             "colorbar": {
              "outlinewidth": 0,
              "ticks": ""
             }
            },
            "type": "parcoords"
           }
          ],
          "pie": [
           {
            "automargin": true,
            "type": "pie"
           }
          ],
          "scatter": [
           {
            "fillpattern": {
             "fillmode": "overlay",
             "size": 10,
             "solidity": 0.2
            },
            "type": "scatter"
           }
          ],
          "scatter3d": [
           {
            "line": {
             "colorbar": {
              "outlinewidth": 0,
              "ticks": ""
             }
            },
            "marker": {
             "colorbar": {
              "outlinewidth": 0,
              "ticks": ""
             }
            },
            "type": "scatter3d"
           }
          ],
          "scattercarpet": [
           {
            "marker": {
             "colorbar": {
              "outlinewidth": 0,
              "ticks": ""
             }
            },
            "type": "scattercarpet"
           }
          ],
          "scattergeo": [
           {
            "marker": {
             "colorbar": {
              "outlinewidth": 0,
              "ticks": ""
             }
            },
            "type": "scattergeo"
           }
          ],
          "scattergl": [
           {
            "marker": {
             "colorbar": {
              "outlinewidth": 0,
              "ticks": ""
             }
            },
            "type": "scattergl"
           }
          ],
          "scattermapbox": [
           {
            "marker": {
             "colorbar": {
              "outlinewidth": 0,
              "ticks": ""
             }
            },
            "type": "scattermapbox"
           }
          ],
          "scatterpolar": [
           {
            "marker": {
             "colorbar": {
              "outlinewidth": 0,
              "ticks": ""
             }
            },
            "type": "scatterpolar"
           }
          ],
          "scatterpolargl": [
           {
            "marker": {
             "colorbar": {
              "outlinewidth": 0,
              "ticks": ""
             }
            },
            "type": "scatterpolargl"
           }
          ],
          "scatterternary": [
           {
            "marker": {
             "colorbar": {
              "outlinewidth": 0,
              "ticks": ""
             }
            },
            "type": "scatterternary"
           }
          ],
          "surface": [
           {
            "colorbar": {
             "outlinewidth": 0,
             "ticks": ""
            },
            "colorscale": [
             [
              0,
              "#0d0887"
             ],
             [
              0.1111111111111111,
              "#46039f"
             ],
             [
              0.2222222222222222,
              "#7201a8"
             ],
             [
              0.3333333333333333,
              "#9c179e"
             ],
             [
              0.4444444444444444,
              "#bd3786"
             ],
             [
              0.5555555555555556,
              "#d8576b"
             ],
             [
              0.6666666666666666,
              "#ed7953"
             ],
             [
              0.7777777777777778,
              "#fb9f3a"
             ],
             [
              0.8888888888888888,
              "#fdca26"
             ],
             [
              1,
              "#f0f921"
             ]
            ],
            "type": "surface"
           }
          ],
          "table": [
           {
            "cells": {
             "fill": {
              "color": "#EBF0F8"
             },
             "line": {
              "color": "white"
             }
            },
            "header": {
             "fill": {
              "color": "#C8D4E3"
             },
             "line": {
              "color": "white"
             }
            },
            "type": "table"
           }
          ]
         },
         "layout": {
          "annotationdefaults": {
           "arrowcolor": "#2a3f5f",
           "arrowhead": 0,
           "arrowwidth": 1
          },
          "autotypenumbers": "strict",
          "coloraxis": {
           "colorbar": {
            "outlinewidth": 0,
            "ticks": ""
           }
          },
          "colorscale": {
           "diverging": [
            [
             0,
             "#8e0152"
            ],
            [
             0.1,
             "#c51b7d"
            ],
            [
             0.2,
             "#de77ae"
            ],
            [
             0.3,
             "#f1b6da"
            ],
            [
             0.4,
             "#fde0ef"
            ],
            [
             0.5,
             "#f7f7f7"
            ],
            [
             0.6,
             "#e6f5d0"
            ],
            [
             0.7,
             "#b8e186"
            ],
            [
             0.8,
             "#7fbc41"
            ],
            [
             0.9,
             "#4d9221"
            ],
            [
             1,
             "#276419"
            ]
           ],
           "sequential": [
            [
             0,
             "#0d0887"
            ],
            [
             0.1111111111111111,
             "#46039f"
            ],
            [
             0.2222222222222222,
             "#7201a8"
            ],
            [
             0.3333333333333333,
             "#9c179e"
            ],
            [
             0.4444444444444444,
             "#bd3786"
            ],
            [
             0.5555555555555556,
             "#d8576b"
            ],
            [
             0.6666666666666666,
             "#ed7953"
            ],
            [
             0.7777777777777778,
             "#fb9f3a"
            ],
            [
             0.8888888888888888,
             "#fdca26"
            ],
            [
             1,
             "#f0f921"
            ]
           ],
           "sequentialminus": [
            [
             0,
             "#0d0887"
            ],
            [
             0.1111111111111111,
             "#46039f"
            ],
            [
             0.2222222222222222,
             "#7201a8"
            ],
            [
             0.3333333333333333,
             "#9c179e"
            ],
            [
             0.4444444444444444,
             "#bd3786"
            ],
            [
             0.5555555555555556,
             "#d8576b"
            ],
            [
             0.6666666666666666,
             "#ed7953"
            ],
            [
             0.7777777777777778,
             "#fb9f3a"
            ],
            [
             0.8888888888888888,
             "#fdca26"
            ],
            [
             1,
             "#f0f921"
            ]
           ]
          },
          "colorway": [
           "#636efa",
           "#EF553B",
           "#00cc96",
           "#ab63fa",
           "#FFA15A",
           "#19d3f3",
           "#FF6692",
           "#B6E880",
           "#FF97FF",
           "#FECB52"
          ],
          "font": {
           "color": "#2a3f5f"
          },
          "geo": {
           "bgcolor": "white",
           "lakecolor": "white",
           "landcolor": "#E5ECF6",
           "showlakes": true,
           "showland": true,
           "subunitcolor": "white"
          },
          "hoverlabel": {
           "align": "left"
          },
          "hovermode": "closest",
          "mapbox": {
           "style": "light"
          },
          "paper_bgcolor": "white",
          "plot_bgcolor": "#E5ECF6",
          "polar": {
           "angularaxis": {
            "gridcolor": "white",
            "linecolor": "white",
            "ticks": ""
           },
           "bgcolor": "#E5ECF6",
           "radialaxis": {
            "gridcolor": "white",
            "linecolor": "white",
            "ticks": ""
           }
          },
          "scene": {
           "xaxis": {
            "backgroundcolor": "#E5ECF6",
            "gridcolor": "white",
            "gridwidth": 2,
            "linecolor": "white",
            "showbackground": true,
            "ticks": "",
            "zerolinecolor": "white"
           },
           "yaxis": {
            "backgroundcolor": "#E5ECF6",
            "gridcolor": "white",
            "gridwidth": 2,
            "linecolor": "white",
            "showbackground": true,
            "ticks": "",
            "zerolinecolor": "white"
           },
           "zaxis": {
            "backgroundcolor": "#E5ECF6",
            "gridcolor": "white",
            "gridwidth": 2,
            "linecolor": "white",
            "showbackground": true,
            "ticks": "",
            "zerolinecolor": "white"
           }
          },
          "shapedefaults": {
           "line": {
            "color": "#2a3f5f"
           }
          },
          "ternary": {
           "aaxis": {
            "gridcolor": "white",
            "linecolor": "white",
            "ticks": ""
           },
           "baxis": {
            "gridcolor": "white",
            "linecolor": "white",
            "ticks": ""
           },
           "bgcolor": "#E5ECF6",
           "caxis": {
            "gridcolor": "white",
            "linecolor": "white",
            "ticks": ""
           }
          },
          "title": {
           "x": 0.05
          },
          "xaxis": {
           "automargin": true,
           "gridcolor": "white",
           "linecolor": "white",
           "ticks": "",
           "title": {
            "standoff": 15
           },
           "zerolinecolor": "white",
           "zerolinewidth": 2
          },
          "yaxis": {
           "automargin": true,
           "gridcolor": "white",
           "linecolor": "white",
           "ticks": "",
           "title": {
            "standoff": 15
           },
           "zerolinecolor": "white",
           "zerolinewidth": 2
          }
         }
        },
        "title": {
         "text": "Average number of employed in Denmark by Gender"
        },
        "xaxis": {
         "title": {
          "text": "Year and Gender"
         }
        },
        "yaxis": {
         "title": {
          "text": "Average employed"
         }
        }
       }
      }
     },
     "metadata": {},
     "output_type": "display_data"
    }
   ],
   "source": [
    "# Define a color scale mapping for Gender\n",
    "gender_color_map = {'Men': 'blue', 'Women': 'red', 'Total': 'gray'}\n",
    "\n",
    "# Group by 'Year', 'Gender', and 'Age', and sum up the 'Employment' values\n",
    "yearly_employment = kas_new.groupby(['Year', 'Gender'])['Employment'].sum().reset_index()\n",
    "\n",
    "# Create a string representation for the x-axis labels\n",
    "x_labels = [f\"{year}, {gender}\" for year, gender in zip(yearly_employment['Year'], yearly_employment['Gender'])]\n",
    "\n",
    "# Map Gender categories to colors using the color scale, with fallback for unexpected values\n",
    "colors = [gender_color_map.get(gender, 'gray') for gender in yearly_employment['Gender']]\n",
    "\n",
    "# Create a bar trace with additional features for Gender and Age\n",
    "bar_trace = go.Bar(x=x_labels, \n",
    "                   y=yearly_employment['Employment'],\n",
    "                   marker=dict(color=colors),  # Use the color scale\n",
    "                   hoverinfo='x+y+text',  # Show Year, Gender, Employment on hover\n",
    "                   )\n",
    "\n",
    "# Create the layout\n",
    "layout = go.Layout(\n",
    "    title='Average number of employed in Denmark by Gender',\n",
    "    xaxis=dict(title='Year and Gender'), \n",
    "    yaxis=dict(title='Average employed')\n",
    ")\n",
    "\n",
    "# Create the figure object\n",
    "fig = go.Figure(data=[bar_trace], layout=layout)\n",
    "\n",
    "# Show the plot\n",
    "fig.show()"
   ]
  },
  {
   "cell_type": "markdown",
   "metadata": {},
   "source": [
    "This bar chart traces the employment trends in Denmark from 2012 to 2022, segmented by gender. Each year, men's employment rates outpace those of women, a consistent gender gap across the timeline. While the total employment displays marginal fluctuations, it broadly suggests a stable labor market. No year shows dramatic changes or deviations from this pattern."
   ]
  },
  {
   "cell_type": "markdown",
   "metadata": {},
   "source": [
    "Yearly employment by gender, field and business"
   ]
  },
  {
   "cell_type": "code",
   "execution_count": 27,
   "metadata": {},
   "outputs": [
    {
     "data": {
      "application/vnd.jupyter.widget-view+json": {
       "model_id": "56dd6581fe7848c6acd7c48183d149d1",
       "version_major": 2,
       "version_minor": 0
      },
      "text/plain": [
       "IntRangeSlider(value=(2012, 2022), continuous_update=False, description='Year Range:', max=2022, min=2012)"
      ]
     },
     "metadata": {},
     "output_type": "display_data"
    },
    {
     "data": {
      "application/vnd.jupyter.widget-view+json": {
       "model_id": "ca566119463f4ef39868a5d63e222533",
       "version_major": 2,
       "version_minor": 0
      },
      "text/plain": [
       "Dropdown(description='Gender:', options=('Men', 'Total', 'Women'), value='Men')"
      ]
     },
     "metadata": {},
     "output_type": "display_data"
    },
    {
     "data": {
      "application/vnd.jupyter.widget-view+json": {
       "model_id": "fdd111191cf543778aa9ba949f69fc35",
       "version_major": 2,
       "version_minor": 0
      },
      "text/plain": [
       "Dropdown(description='Business:', options=('Agriculture', 'Financial and insurance', 'Pharmaceuticals', 'Real …"
      ]
     },
     "metadata": {},
     "output_type": "display_data"
    },
    {
     "data": {
      "application/vnd.jupyter.widget-view+json": {
       "model_id": "1c90218312f0406f83d5ee9b2e3d5a9c",
       "version_major": 2,
       "version_minor": 0
      },
      "text/plain": [
       "Output()"
      ]
     },
     "metadata": {},
     "output_type": "display_data"
    }
   ],
   "source": [
    "import matplotlib.pyplot as plt\n",
    "from ipywidgets import widgets, Output\n",
    "from IPython.display import display\n",
    "import pandas as pd\n",
    "\n",
    "# Assuming kas_new is your DataFrame with the required data\n",
    "# Make sure kas_new contains 'Year', 'Employment', 'Gender', and 'Business' columns\n",
    "\n",
    "# Group by 'Year', 'Gender', and 'Business', and sum up the 'Employment' values\n",
    "yearly_employment = kas_new.groupby(['Year', 'Gender', 'Business'])['Employment'].sum().reset_index()\n",
    "\n",
    "# Create an output widget to manage plot output\n",
    "plot_output = Output()\n",
    "\n",
    "# Define update_plot function\n",
    "def update_plot(year_range, gender, business):\n",
    "    with plot_output:\n",
    "        plot_output.clear_output(wait=True)  # Clear the previous plot before drawing a new one\n",
    "        # Filter data\n",
    "        filtered_data = yearly_employment[(yearly_employment['Year'] >= year_range[0]) &\n",
    "                                          (yearly_employment['Year'] <= year_range[1]) &\n",
    "                                          (yearly_employment['Gender'] == gender) &\n",
    "                                          (yearly_employment['Business'] == business)]\n",
    "        if not filtered_data.empty:\n",
    "            # Plot filtered data\n",
    "            plt.figure(figsize=(10, 6))\n",
    "            plt.plot(filtered_data['Year'], filtered_data['Employment'], marker='o', linestyle='-')\n",
    "            plt.title(f'Yearly Employment by Gender and Business ({gender}, {business})')\n",
    "            plt.xlabel('Year')\n",
    "            plt.ylabel('Employment')\n",
    "            plt.grid(True)\n",
    "            plt.show()\n",
    "\n",
    "# Create interactive widgets for filtering\n",
    "year_slider = widgets.IntRangeSlider(value=(yearly_employment['Year'].min(), yearly_employment['Year'].max()),\n",
    "                                     min=yearly_employment['Year'].min(),\n",
    "                                     max=yearly_employment['Year'].max(),\n",
    "                                     step=1,\n",
    "                                     description='Year Range:',\n",
    "                                     continuous_update=False)\n",
    "\n",
    "gender_dropdown = widgets.Dropdown(options=yearly_employment['Gender'].unique(),\n",
    "                                   value=yearly_employment['Gender'].iloc[0],\n",
    "                                   description='Gender:')\n",
    "\n",
    "business_dropdown = widgets.Dropdown(options=yearly_employment['Business'].unique(),\n",
    "                                     value=yearly_employment['Business'].iloc[0],\n",
    "                                     description='Business:')\n",
    "\n",
    "# Define callback function\n",
    "def on_change(change):\n",
    "    if change['type'] == 'change' and change['name'] == 'value':\n",
    "        update_plot(year_slider.value, gender_dropdown.value, business_dropdown.value)\n",
    "\n",
    "# Attach callback function to widgets\n",
    "year_slider.observe(on_change, names='value')\n",
    "gender_dropdown.observe(on_change, names='value')\n",
    "business_dropdown.observe(on_change, names='value')\n",
    "\n",
    "# Display widgets and plot_output\n",
    "display(year_slider, gender_dropdown, business_dropdown, plot_output)\n",
    "\n",
    "# Initially display the plot with default values\n",
    "update_plot((year_slider.value[0], year_slider.value[1]), gender_dropdown.value, business_dropdown.value)"
   ]
  },
  {
   "cell_type": "markdown",
   "metadata": {},
   "source": [
    "The figure highlights employment trends across various sectors, reflecting differences when including both genders. In agriculture, there has been a steady decline in jobs, while financial services and insurance initially saw a drop in employment from 2012 to 2015, followed by a subsequent increase. Pharmaceuticals and real estate sectors have experienced consistent growth in employment.\n",
    "\n",
    "Transportation shows more variability, with employment fluctuating until 2015, then increasing significantly until 2019. The sector suffered during the pandemic, with a sharp employment drop, but recovered by 2022.\n",
    "\n",
    "Gender-specific analysis reveals variations too. Agriculture has seen an increase in female employment despite a decline in male employment. In contrast, the financial and insurance sectors noted a decrease in female jobs from 2012 to 2016, then a rise until 2022, while male employment consistently increased.\n",
    "\n",
    "In pharmaceuticals, employment trends were similar for both genders, though more women were employed, with numbers around 26,000 for females versus 22,000 for males in 2016. Real estate also showed higher employment rates for men, mirroring the pattern seen in pharmaceuticals.\n"
   ]
  },
  {
   "cell_type": "markdown",
   "metadata": {},
   "source": [
    "# Conclusion"
   ]
  },
  {
   "cell_type": "markdown",
   "metadata": {},
   "source": [
    "This project retrieves data from Danmarks Statistik via an API. We utilize datasets like AULP01, PRIS111, and KAS301 to analyze employment and inflation statistics. First, we found the inflation rate from 2007 to 2022, where we have seen a great increase in the years 2021 and 2022. After that we compared the inflation rate with the unemployment rate. Seeing that both these variables had almost the same trend. A bar chart has also been made,, where the total unemployment rate was compared to the unemployment rate of men and women. Overall, it was seen that the unemployment for men was almost twice as much as for women. The last objective of our project was to create an interactive plot, that could show the employment of the genders across different specific fields. The conclusion was that in some fields, such as the pharmaceutical field, female employees had increased and the opposite"
   ]
  },
  {
   "cell_type": "markdown",
   "metadata": {},
   "source": [
    "## Experiment Real GDP"
   ]
  },
  {
   "cell_type": "code",
   "execution_count": 49,
   "metadata": {},
   "outputs": [],
   "source": [
    "# Importing data from CSV file 'Real GDP'\n",
    "GDP = pd.read_csv('GDP.csv',delimiter=';')"
   ]
  },
  {
   "cell_type": "code",
   "execution_count": 48,
   "metadata": {},
   "outputs": [
    {
     "data": {
      "text/html": [
       "<div>\n",
       "<style scoped>\n",
       "    .dataframe tbody tr th:only-of-type {\n",
       "        vertical-align: middle;\n",
       "    }\n",
       "\n",
       "    .dataframe tbody tr th {\n",
       "        vertical-align: top;\n",
       "    }\n",
       "\n",
       "    .dataframe thead th {\n",
       "        text-align: right;\n",
       "    }\n",
       "</style>\n",
       "<table border=\"1\" class=\"dataframe\">\n",
       "  <thead>\n",
       "    <tr style=\"text-align: right;\">\n",
       "      <th></th>\n",
       "      <th>Year</th>\n",
       "      <th>GrossDP</th>\n",
       "    </tr>\n",
       "  </thead>\n",
       "  <tbody>\n",
       "    <tr>\n",
       "      <th>0</th>\n",
       "      <td>2000</td>\n",
       "      <td>1677.2</td>\n",
       "    </tr>\n",
       "    <tr>\n",
       "      <th>1</th>\n",
       "      <td>2001</td>\n",
       "      <td>1691</td>\n",
       "    </tr>\n",
       "    <tr>\n",
       "      <th>2</th>\n",
       "      <td>2002</td>\n",
       "      <td>1698.9</td>\n",
       "    </tr>\n",
       "    <tr>\n",
       "      <th>3</th>\n",
       "      <td>2003</td>\n",
       "      <td>1705.5</td>\n",
       "    </tr>\n",
       "    <tr>\n",
       "      <th>4</th>\n",
       "      <td>2004</td>\n",
       "      <td>1751</td>\n",
       "    </tr>\n",
       "    <tr>\n",
       "      <th>5</th>\n",
       "      <td>2005</td>\n",
       "      <td>1792</td>\n",
       "    </tr>\n",
       "    <tr>\n",
       "      <th>6</th>\n",
       "      <td>2006</td>\n",
       "      <td>1862.1</td>\n",
       "    </tr>\n",
       "    <tr>\n",
       "      <th>7</th>\n",
       "      <td>2007</td>\n",
       "      <td>1879</td>\n",
       "    </tr>\n",
       "    <tr>\n",
       "      <th>8</th>\n",
       "      <td>2008</td>\n",
       "      <td>1869.4</td>\n",
       "    </tr>\n",
       "    <tr>\n",
       "      <th>9</th>\n",
       "      <td>2009</td>\n",
       "      <td>1777.7</td>\n",
       "    </tr>\n",
       "  </tbody>\n",
       "</table>\n",
       "</div>"
      ],
      "text/plain": [
       "   Year GrossDP\n",
       "0  2000  1677.2\n",
       "1  2001    1691\n",
       "2  2002  1698.9\n",
       "3  2003  1705.5\n",
       "4  2004    1751\n",
       "5  2005    1792\n",
       "6  2006  1862.1\n",
       "7  2007    1879\n",
       "8  2008  1869.4\n",
       "9  2009  1777.7"
      ]
     },
     "execution_count": 48,
     "metadata": {},
     "output_type": "execute_result"
    }
   ],
   "source": [
    "GDP.head(10)"
   ]
  },
  {
   "cell_type": "code",
   "execution_count": null,
   "metadata": {},
   "outputs": [],
   "source": []
  }
 ],
 "metadata": {
  "kernelspec": {
   "display_name": "base",
   "language": "python",
   "name": "python3"
  },
  "language_info": {
   "codemirror_mode": {
    "name": "ipython",
    "version": 3
   },
   "file_extension": ".py",
   "mimetype": "text/x-python",
   "name": "python",
   "nbconvert_exporter": "python",
   "pygments_lexer": "ipython3",
   "version": "3.11.7"
  },
  "toc-autonumbering": true,
  "vscode": {
   "interpreter": {
    "hash": "47ef90cdf3004d3f859f1fb202523c65c07ba7c22eefd261b181f4744e2d0403"
   }
  }
 },
 "nbformat": 4,
 "nbformat_minor": 4
}
