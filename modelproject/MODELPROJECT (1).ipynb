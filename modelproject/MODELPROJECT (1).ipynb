{
 "cells": [
  {
   "cell_type": "code",
   "execution_count": 96,
   "id": "3f98ff14",
   "metadata": {},
   "outputs": [
    {
     "name": "stdout",
     "output_type": "stream",
     "text": [
      "The autoreload extension is already loaded. To reload it, use:\n",
      "  %reload_ext autoreload\n"
     ]
    }
   ],
   "source": [
    "# autoreload modules when code is run\n",
    "%load_ext autoreload\n",
    "%autoreload 2\n",
    "\n",
    "import numpy as np\n",
    "from scipy import optimize\n",
    "import sympy as sm\n",
    "from scipy.optimize import minimize \n",
    "import matplotlib.pyplot as plt\n",
    "from mpl_toolkits.mplot3d import Axes3D\n",
    "import matplotlib.pyplot as plt\n",
    "\n",
    "import numpy as np\n",
    "from scipy.optimize import minimize\n"
   ]
  },
  {
   "cell_type": "markdown",
   "id": "0aac3bc1",
   "metadata": {},
   "source": [
    "# Analytical solution using Sumpy"
   ]
  },
  {
   "cell_type": "markdown",
   "id": "b3bc4631",
   "metadata": {},
   "source": [
    "To study the fertility model, we need some variables that define income, consumption, population and more."
   ]
  },
  {
   "cell_type": "code",
   "execution_count": 135,
   "id": "1c45b0a7",
   "metadata": {},
   "outputs": [],
   "source": [
    "#Defining variables and parameters\n",
    "Y = sm.symbols('Y_t')\n",
    "alpha = sm.symbols('alpha')\n",
    "L = sm.symbols('L_t')\n",
    "A = sm.symbols('A')\n",
    "X = sm.symbols('X')\n",
    "n = sm.symbols('n_t')\n",
    "lambda_ = sm.symbols('lambda')\n",
    "tau = sm.symbols('tau')\n",
    "beta= sm.symbols('beta')\n",
    "mu = sm.symbols('mu')\n",
    "c = sm.symbols('c_t')\n",
    "y = sm.symbols('y_t')\n",
    "u= sm.symbols('u_t')\n",
    "L1 = sm.symbols('L_t+1')\n",
    "e = sm.symbols('eta')\n",
    "L_ss = sm.symbols('L^*')"
   ]
  },
  {
   "cell_type": "markdown",
   "id": "a57e5f31",
   "metadata": {},
   "source": [
    "Writing up the utility"
   ]
  },
  {
   "cell_type": "code",
   "execution_count": 98,
   "id": "ba1ceb9e",
   "metadata": {},
   "outputs": [
    {
     "data": {
      "text/latex": [
       "$\\displaystyle \\beta \\log{\\left(c_{t} \\right)} + \\left(1 - \\beta\\right) \\log{\\left(n_{t} \\right)}$"
      ],
      "text/plain": [
       "beta*log(c_t) + (1 - beta)*log(n_t)"
      ]
     },
     "execution_count": 98,
     "metadata": {},
     "output_type": "execute_result"
    }
   ],
   "source": [
    "# Defining utility function\n",
    "utility = beta*sm.ln(c)+(1-beta)*sm.ln(n)\n",
    "utility"
   ]
  },
  {
   "cell_type": "markdown",
   "id": "f7ea475b",
   "metadata": {},
   "source": [
    "The problem is to choose values for c and n such that the utility maximizes, given the following:"
   ]
  },
  {
   "cell_type": "code",
   "execution_count": 99,
   "id": "994835d8",
   "metadata": {
    "scrolled": true
   },
   "outputs": [
    {
     "data": {
      "text/latex": [
       "$\\displaystyle c_{t} + \\lambda n_{t} = y_{t} \\left(1 - \\tau\\right)$"
      ],
      "text/plain": [
       "Eq(c_t + lambda*n_t, y_t*(1 - tau))"
      ]
     },
     "execution_count": 99,
     "metadata": {},
     "output_type": "execute_result"
    }
   ],
   "source": [
    "budgetconstraint = sm.Eq(c+lambda_*n,y*(1-tau))\n",
    "budgetconstraint"
   ]
  },
  {
   "cell_type": "markdown",
   "id": "1c9e638d",
   "metadata": {},
   "source": [
    "Now solving with respect to c, which is the number of surviving children"
   ]
  },
  {
   "cell_type": "code",
   "execution_count": 100,
   "id": "b3a815f1",
   "metadata": {},
   "outputs": [
    {
     "data": {
      "text/latex": [
       "$\\displaystyle - \\lambda n_{t} - \\tau y_{t} + y_{t}$"
      ],
      "text/plain": [
       "-lambda*n_t - tau*y_t + y_t"
      ]
     },
     "execution_count": 100,
     "metadata": {},
     "output_type": "execute_result"
    }
   ],
   "source": [
    "c_solve = sm.solve(budgetconstraint, c)\n",
    "c_substituted = c_solve[0]\n",
    "c_substituted"
   ]
  },
  {
   "cell_type": "markdown",
   "id": "eb2b9257",
   "metadata": {},
   "source": [
    "Inserting this in the utility function to make it a function of n, we can maximize given the equation below"
   ]
  },
  {
   "cell_type": "code",
   "execution_count": 101,
   "id": "69ed784f",
   "metadata": {},
   "outputs": [
    {
     "data": {
      "text/latex": [
       "$\\displaystyle \\beta \\log{\\left(- \\lambda n_{t} - \\tau y_{t} + y_{t} \\right)} + \\left(1 - \\beta\\right) \\log{\\left(n_{t} \\right)}$"
      ],
      "text/plain": [
       "beta*log(-lambda*n_t - tau*y_t + y_t) + (1 - beta)*log(n_t)"
      ]
     },
     "execution_count": 101,
     "metadata": {},
     "output_type": "execute_result"
    }
   ],
   "source": [
    "utility_substituted = utility.subs(c, c_substituted)\n",
    "utility_substituted"
   ]
  },
  {
   "cell_type": "markdown",
   "id": "898e331b",
   "metadata": {},
   "source": [
    "Taking the first order condition with respect to n to find the optimal level of births"
   ]
  },
  {
   "cell_type": "code",
   "execution_count": 130,
   "id": "0b3c0e77",
   "metadata": {},
   "outputs": [
    {
     "data": {
      "text/latex": [
       "$\\displaystyle - \\frac{\\beta \\lambda}{- \\lambda n_{t} - \\tau y_{t} + y_{t}} + \\frac{1 - \\beta}{n_{t}}$"
      ],
      "text/plain": [
       "-beta*lambda/(-lambda*n_t - tau*y_t + y_t) + (1 - beta)/n_t"
      ]
     },
     "execution_count": 130,
     "metadata": {},
     "output_type": "execute_result"
    }
   ],
   "source": [
    "first_order = sm.diff(utility_substituted, n)\n",
    "\n",
    "first_order"
   ]
  },
  {
   "cell_type": "markdown",
   "id": "febc6375",
   "metadata": {},
   "source": [
    "The optimal number of births are then:"
   ]
  },
  {
   "cell_type": "code",
   "execution_count": 137,
   "id": "09459264",
   "metadata": {},
   "outputs": [
    {
     "data": {
      "text/latex": [
       "$\\displaystyle \\eta = \\frac{\\left(1 - \\beta\\right) \\left(1 - \\tau\\right)}{\\lambda}$"
      ],
      "text/plain": [
       "Eq(eta, (1 - beta)*(1 - tau)/lambda)"
      ]
     },
     "execution_count": 137,
     "metadata": {},
     "output_type": "execute_result"
    }
   ],
   "source": [
    "pop = sm.Eq(e, ((1-beta)/(lambda_))*(1-tau))\n",
    "pop"
   ]
  },
  {
   "cell_type": "code",
   "execution_count": 103,
   "id": "694662d7",
   "metadata": {},
   "outputs": [
    {
     "data": {
      "text/latex": [
       "$\\displaystyle \\frac{y_{t} \\left(\\beta \\tau - \\beta - \\tau + 1\\right)}{\\lambda}$"
      ],
      "text/plain": [
       "y_t*(beta*tau - beta - tau + 1)/lambda"
      ]
     },
     "execution_count": 103,
     "metadata": {},
     "output_type": "execute_result"
    }
   ],
   "source": [
    "n_solve = sm.solve(first_order, n)\n",
    "n_solve[0]"
   ]
  },
  {
   "cell_type": "code",
   "execution_count": 145,
   "id": "2ffa8eb8",
   "metadata": {},
   "outputs": [
    {
     "data": {
      "text/latex": [
       "$\\displaystyle n_{t} = \\frac{y_{t} \\left(\\beta \\tau - \\beta - \\tau + 1\\right)}{\\lambda}$"
      ],
      "text/plain": [
       "Eq(n_t, y_t*(beta*tau - beta - tau + 1)/lambda)"
      ]
     },
     "execution_count": 145,
     "metadata": {},
     "output_type": "execute_result"
    }
   ],
   "source": [
    "n_solvedd = sm.Eq(n, n_solve[0])\n",
    "n_solvedd"
   ]
  },
  {
   "cell_type": "code",
   "execution_count": 152,
   "id": "20e53467",
   "metadata": {},
   "outputs": [
    {
     "data": {
      "text/latex": [
       "$\\displaystyle n_{t} = \\frac{y_{t} \\left(\\beta \\tau - \\beta - \\tau + 1\\right)}{\\lambda}$"
      ],
      "text/plain": [
       "Eq(n_t, y_t*(beta*tau - beta - tau + 1)/lambda)"
      ]
     },
     "execution_count": 152,
     "metadata": {},
     "output_type": "execute_result"
    }
   ],
   "source": [
    "sovledddd = n_solvedd.subs(e, (((1-beta)/(lambda_))*(1-tau)))\n",
    "sovledddd"
   ]
  },
  {
   "cell_type": "markdown",
   "id": "16afea90",
   "metadata": {},
   "source": [
    "Going further, we look at the transition equation"
   ]
  },
  {
   "cell_type": "code",
   "execution_count": 104,
   "id": "3562348b",
   "metadata": {},
   "outputs": [
    {
     "data": {
      "text/latex": [
       "$\\displaystyle L_{t} n_{t} + L_{t} \\left(1 - \\mu\\right) = L_{t+1}$"
      ],
      "text/plain": [
       "Eq(L_t*n_t + L_t*(1 - mu), L_t+1)"
      ]
     },
     "execution_count": 104,
     "metadata": {},
     "output_type": "execute_result"
    }
   ],
   "source": [
    "transition = sm.Eq(n*L+(1-mu)*L, L1)\n",
    "transition"
   ]
  },
  {
   "cell_type": "markdown",
   "id": "1781eaed",
   "metadata": {},
   "source": [
    "Inserting per capita production equation into the fertility equation assuming:"
   ]
  },
  {
   "cell_type": "code",
   "execution_count": 105,
   "id": "0bfc1945",
   "metadata": {},
   "outputs": [
    {
     "data": {
      "text/latex": [
       "$\\displaystyle y_{t} = \\left(\\frac{A X}{L_{t}}\\right)^{\\alpha}$"
      ],
      "text/plain": [
       "Eq(y_t, (A*X/L_t)**alpha)"
      ]
     },
     "execution_count": 105,
     "metadata": {},
     "output_type": "execute_result"
    }
   ],
   "source": [
    "income1 = sm.Eq(y, ((A*X)/L)**alpha)\n",
    "income1"
   ]
  },
  {
   "cell_type": "code",
   "execution_count": 106,
   "id": "15da0aec",
   "metadata": {},
   "outputs": [
    {
     "data": {
      "text/latex": [
       "$\\displaystyle L_{t} \\left(1 - \\mu\\right) + \\frac{L_{t} y_{t} \\left(\\beta \\tau - \\beta - \\tau + 1\\right)}{\\lambda} = L_{t+1}$"
      ],
      "text/plain": [
       "Eq(L_t*(1 - mu) + L_t*y_t*(beta*tau - beta - tau + 1)/lambda, L_t+1)"
      ]
     },
     "execution_count": 106,
     "metadata": {},
     "output_type": "execute_result"
    }
   ],
   "source": [
    "transition_1 = transition.subs(n, n_solve[0])\n",
    "transition_1"
   ]
  },
  {
   "cell_type": "markdown",
   "id": "dec5d717",
   "metadata": {},
   "source": [
    "So, we get:"
   ]
  },
  {
   "cell_type": "markdown",
   "id": "2541a61c",
   "metadata": {},
   "source": [
    "Using this term in the transition equation to get:"
   ]
  },
  {
   "cell_type": "code",
   "execution_count": 107,
   "id": "272f7f0e",
   "metadata": {},
   "outputs": [
    {
     "data": {
      "text/latex": [
       "$\\displaystyle L_{t} \\left(1 - \\mu\\right) + \\frac{L_{t} \\left(\\frac{A X}{L_{t}}\\right)^{\\alpha} \\left(\\beta \\tau - \\beta - \\tau + 1\\right)}{\\lambda} = L_{t+1}$"
      ],
      "text/plain": [
       "Eq(L_t*(1 - mu) + L_t*(A*X/L_t)**alpha*(beta*tau - beta - tau + 1)/lambda, L_t+1)"
      ]
     },
     "execution_count": 107,
     "metadata": {},
     "output_type": "execute_result"
    }
   ],
   "source": [
    "transition_2 = transition_1.subs(y, income1.rhs)\n",
    "transition_2"
   ]
  },
  {
   "cell_type": "markdown",
   "id": "8130eed1",
   "metadata": {},
   "source": [
    "Now we assume steady state levels $$L_{t+1}=L_t=L^*$$"
   ]
  },
  {
   "cell_type": "code",
   "execution_count": 108,
   "id": "237b36b5",
   "metadata": {},
   "outputs": [
    {
     "data": {
      "text/latex": [
       "$\\displaystyle L_{t} = L^{*}$"
      ],
      "text/plain": [
       "Eq(L_t, L^*)"
      ]
     },
     "execution_count": 108,
     "metadata": {},
     "output_type": "execute_result"
    }
   ],
   "source": [
    "L_steadystate = sm.Eq(L, L_ss)\n",
    "L_steadystate"
   ]
  },
  {
   "cell_type": "code",
   "execution_count": 109,
   "id": "fbc50616",
   "metadata": {},
   "outputs": [
    {
     "data": {
      "text/latex": [
       "$\\displaystyle L^{*} \\left(1 - \\mu\\right) + \\frac{L^{*} \\left(\\frac{A X}{L^{*}}\\right)^{\\alpha} \\left(\\beta \\tau - \\beta - \\tau + 1\\right)}{\\lambda} = L^{*}$"
      ],
      "text/plain": [
       "Eq(L^**(1 - mu) + L^**(A*X/L^*)**alpha*(beta*tau - beta - tau + 1)/lambda, L^*)"
      ]
     },
     "execution_count": 109,
     "metadata": {},
     "output_type": "execute_result"
    }
   ],
   "source": [
    "transition_3 = transition_2.subs(L, L_steadystate.rhs)\n",
    "transition_4 = transition_3.subs(L1, L_steadystate.rhs)\n",
    "transition_4"
   ]
  },
  {
   "cell_type": "markdown",
   "id": "e1189c9b",
   "metadata": {},
   "source": [
    "Solving the steady state level for population:"
   ]
  },
  {
   "cell_type": "code",
   "execution_count": 132,
   "id": "fe2cf7bf",
   "metadata": {},
   "outputs": [
    {
     "data": {
      "text/latex": [
       "$\\displaystyle A X \\left(\\frac{\\lambda \\left(\\mu - 1\\right)}{\\left(\\beta - 1\\right) \\left(\\tau - 1\\right)}\\right)^{- \\frac{1}{\\alpha}}$"
      ],
      "text/plain": [
       "A*X/(lambda*(mu - 1)/((beta - 1)*(tau - 1)))**(1/alpha)"
      ]
     },
     "execution_count": 132,
     "metadata": {},
     "output_type": "execute_result"
    }
   ],
   "source": [
    "transition_5 = sm.solve(sm.Eq(transition_4.lhs,0), L_steadystate.rhs)\n",
    "transition_5[0]"
   ]
  },
  {
   "cell_type": "markdown",
   "id": "05f2e7b5",
   "metadata": {},
   "source": [
    "We have the steady state for population and can therefore insert it in the income equation to get the steady state income level $$y^*=\\left(\\frac{AX}{L^*}\\right)^\\alpha$$\n",
    "Inserting the steady state level of labor will give the following\n",
    "$$y^*=\\left(\\frac{AX}{AX\\left(\\frac{\\lambda(\\mu-1)}{(\\beta-1)(\\tau-1)}\\right)^{-\\frac{1}{\\alpha}}}\\right)^\\alpha$$\n",
    "Rewriting this we get:\n",
    "$$y^*=\\left(\\left(\\frac{\\lambda(\\mu-1)}{(\\beta-1)(\\tau-1)}\\right)^{\\frac{1}{\\alpha}}\\right)^\\alpha$$\n",
    "\n",
    "The following code below will prove this:"
   ]
  },
  {
   "cell_type": "code",
   "execution_count": 114,
   "id": "563fc187",
   "metadata": {},
   "outputs": [
    {
     "data": {
      "text/latex": [
       "$\\displaystyle y_{t} = \\left(\\left(\\frac{\\lambda \\left(\\mu - 1\\right)}{\\left(\\beta - 1\\right) \\left(\\tau - 1\\right)}\\right)^{\\frac{1}{\\alpha}}\\right)^{\\alpha}$"
      ],
      "text/plain": [
       "Eq(y_t, ((lambda*(mu - 1)/((beta - 1)*(tau - 1)))**(1/alpha))**alpha)"
      ]
     },
     "execution_count": 114,
     "metadata": {},
     "output_type": "execute_result"
    }
   ],
   "source": [
    "income2 = income1.subs(L, transition_5[0])\n",
    "income2"
   ]
  },
  {
   "cell_type": "markdown",
   "id": "f7bd5fa3",
   "metadata": {},
   "source": [
    "The power cancels out and we can write it up as:\n",
    "$$y^*=\\frac{\\lambda(\\mu-1)}{(\\beta-1)(\\tau-1)}$$"
   ]
  },
  {
   "cell_type": "markdown",
   "id": "76c66479",
   "metadata": {},
   "source": [
    "For the parameters to be used in a computational way, they need to be converted using the lambdify option from sympy."
   ]
  },
  {
   "cell_type": "code",
   "execution_count": 127,
   "id": "99c40d48",
   "metadata": {},
   "outputs": [],
   "source": [
    "steadystate_income = sm.lambdify((alpha, beta,lambda_,mu,tau), income2)"
   ]
  },
  {
   "cell_type": "markdown",
   "id": "a117414d",
   "metadata": {},
   "source": [
    "Assuming the following parameter values:\n",
    "- $\\alpha = 0.5$\n",
    "- $\\beta = 0.5$\n",
    "- $\\lambda = 1$\n",
    "- $\\mu = 0.01$\n",
    "- $\\tau = 0.4$"
   ]
  },
  {
   "cell_type": "code",
   "execution_count": 128,
   "id": "cab02422",
   "metadata": {},
   "outputs": [
    {
     "data": {
      "text/plain": [
       "False"
      ]
     },
     "execution_count": 128,
     "metadata": {},
     "output_type": "execute_result"
    }
   ],
   "source": [
    "steadystate_income(0.5,0.5, 0.1, 2, 0.4)"
   ]
  },
  {
   "cell_type": "code",
   "execution_count": null,
   "id": "ba7d312e",
   "metadata": {},
   "outputs": [],
   "source": []
  },
  {
   "cell_type": "code",
   "execution_count": null,
   "id": "5b9915ab",
   "metadata": {},
   "outputs": [],
   "source": []
  }
 ],
 "metadata": {
  "kernelspec": {
   "display_name": "Python 3 (ipykernel)",
   "language": "python",
   "name": "python3"
  },
  "language_info": {
   "codemirror_mode": {
    "name": "ipython",
    "version": 3
   },
   "file_extension": ".py",
   "mimetype": "text/x-python",
   "name": "python",
   "nbconvert_exporter": "python",
   "pygments_lexer": "ipython3",
   "version": "3.11.5"
  }
 },
 "nbformat": 4,
 "nbformat_minor": 5
}
