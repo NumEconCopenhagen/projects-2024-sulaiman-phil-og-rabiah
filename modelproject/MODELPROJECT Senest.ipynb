{
 "cells": [
  {
   "cell_type": "code",
   "execution_count": 96,
   "id": "3f98ff14",
   "metadata": {},
   "outputs": [
    {
     "name": "stdout",
     "output_type": "stream",
     "text": [
      "The autoreload extension is already loaded. To reload it, use:\n",
      "  %reload_ext autoreload\n"
     ]
    }
   ],
   "source": [
    "# autoreload modules when code is run\n",
    "%load_ext autoreload\n",
    "%autoreload 2\n",
    "\n",
    "import numpy as np\n",
    "from scipy import optimize\n",
    "import sympy as sm\n",
    "from scipy.optimize import minimize \n",
    "import matplotlib.pyplot as plt\n",
    "from mpl_toolkits.mplot3d import Axes3D\n",
    "import matplotlib.pyplot as plt\n",
    "\n",
    "import numpy as np\n",
    "from scipy.optimize import minimize\n"
   ]
  },
  {
   "cell_type": "markdown",
   "id": "3af5227c",
   "metadata": {},
   "source": [
    "# Model description"
   ]
  },
  {
   "cell_type": "markdown",
   "id": "f19796f7",
   "metadata": {},
   "source": [
    "We consider a Malthus economy where we apply fertility as the main factor of this model. "
   ]
  },
  {
   "cell_type": "markdown",
   "id": "e77601c3",
   "metadata": {},
   "source": [
    "The utility function of household depends on consumption $c_t$ and number of surviving children $n_t$ where $\\beta \\epsilon (0.1)$.  "
   ]
  },
  {
   "cell_type": "markdown",
   "id": "1c612462",
   "metadata": {},
   "source": [
    "$$u_t(c_t) = \\beta\\ln(c_t) + (1-\\beta)\\ln(n_t)$$"
   ]
  },
  {
   "cell_type": "markdown",
   "id": "8e9f1009",
   "metadata": {},
   "source": [
    "The budget constraint is given as:"
   ]
  },
  {
   "cell_type": "markdown",
   "id": "a3208208",
   "metadata": {},
   "source": [
    "$$c_t + \\lambda n_t = y_t (1-\\tau)$$"
   ]
  },
  {
   "cell_type": "markdown",
   "id": "dd47c888",
   "metadata": {},
   "source": [
    "Where c is consumption, $\\lambda$ is relative price on 1 child, $y_t$ is the average income and $\\tau$ is income after tax. "
   ]
  },
  {
   "cell_type": "markdown",
   "id": "eda7951c",
   "metadata": {},
   "source": [
    "Income per capita is given by: \n",
    "$y_t \\equiv (\\frac{AX}{L_t})^{\\alpha}$"
   ]
  },
  {
   "cell_type": "markdown",
   "id": "ee657445",
   "metadata": {},
   "source": [
    "We solve the problem by inserting the budget contraint in the utility function: "
   ]
  },
  {
   "cell_type": "markdown",
   "id": "81718cfd",
   "metadata": {},
   "source": [
    "$$\\max_{u_t}=\\beta log[y_t (1-\\tau)-\\lambda n_t]+(1-\\beta) log (n_t)$$"
   ]
  },
  {
   "cell_type": "markdown",
   "id": "6ff292d4",
   "metadata": {},
   "source": [
    "We take FOC wrt. $n_t$\n",
    "$$\\frac{\\partial u}{\\partial n}=0: \\beta \\frac{-\\lambda}{y_t (1-\\tau)-\\lambda n_t}+(1-\\beta) \\frac{1}{n_t}=0$$"
   ]
  },
  {
   "cell_type": "markdown",
   "id": "2fe0cdd7",
   "metadata": {},
   "source": [
    "Isolating $n_t$ yields:\n",
    "$$n_t=\\frac{1-\\beta}{\\lambda}y_t(1-\\tau)$$"
   ]
  },
  {
   "cell_type": "markdown",
   "id": "d81a7c8b",
   "metadata": {},
   "source": [
    "Where:\n",
    "$$n_t=\\frac{1-\\beta}{\\lambda}y_t(1-\\tau) \\equiv \\eta y_t$$"
   ]
  },
  {
   "cell_type": "markdown",
   "id": "ee154069",
   "metadata": {},
   "source": [
    "And $$\\eta \\equiv\\frac{1-\\beta}{\\lambda}(1-\\tau)$$"
   ]
  },
  {
   "cell_type": "markdown",
   "id": "2a960502",
   "metadata": {},
   "source": [
    "Population in the next period is the number of surviving children, and the the part of the population that survives to the next period: <br>\n",
    "$$L_{t+1}=n_tL_t+(1-\\mu)L_t$$\n",
    "Where $\\mu$ is adult mortality. "
   ]
  },
  {
   "cell_type": "markdown",
   "id": "0aac3bc1",
   "metadata": {},
   "source": [
    "# Analytical solution using Sumpy"
   ]
  },
  {
   "cell_type": "markdown",
   "id": "b3bc4631",
   "metadata": {},
   "source": [
    "To study the fertility model, we need some variables that define income, consumption, population and more."
   ]
  },
  {
   "cell_type": "code",
   "execution_count": 153,
   "id": "1c45b0a7",
   "metadata": {},
   "outputs": [],
   "source": [
    "#Defining variables and parameters\n",
    "Y = sm.symbols('Y_t')\n",
    "alpha = sm.symbols('alpha')\n",
    "L = sm.symbols('L_t')\n",
    "A = sm.symbols('A')\n",
    "X = sm.symbols('X')\n",
    "n = sm.symbols('n_t')\n",
    "lambda_ = sm.symbols('lambda')\n",
    "tau = sm.symbols('tau')\n",
    "beta= sm.symbols('beta')\n",
    "mu = sm.symbols('mu')\n",
    "c = sm.symbols('c_t')\n",
    "y = sm.symbols('y_t')\n",
    "u= sm.symbols('u_t')\n",
    "L1 = sm.symbols('L_t+1')\n",
    "e = sm.symbols('eta')\n",
    "L_ss = sm.symbols('L^*')"
   ]
  },
  {
   "cell_type": "markdown",
   "id": "a57e5f31",
   "metadata": {},
   "source": [
    "Writing up the utility function"
   ]
  },
  {
   "cell_type": "code",
   "execution_count": 98,
   "id": "ba1ceb9e",
   "metadata": {},
   "outputs": [
    {
     "data": {
      "text/latex": [
       "$\\displaystyle \\beta \\log{\\left(c_{t} \\right)} + \\left(1 - \\beta\\right) \\log{\\left(n_{t} \\right)}$"
      ],
      "text/plain": [
       "beta*log(c_t) + (1 - beta)*log(n_t)"
      ]
     },
     "execution_count": 98,
     "metadata": {},
     "output_type": "execute_result"
    }
   ],
   "source": [
    "# Defining utility function\n",
    "utility = beta*sm.ln(c)+(1-beta)*sm.ln(n)\n",
    "utility"
   ]
  },
  {
   "cell_type": "markdown",
   "id": "f7ea475b",
   "metadata": {},
   "source": [
    "The problem is to choose values for c and n such that the utility maximizes, given the following:"
   ]
  },
  {
   "cell_type": "code",
   "execution_count": 99,
   "id": "994835d8",
   "metadata": {
    "scrolled": true
   },
   "outputs": [
    {
     "data": {
      "text/latex": [
       "$\\displaystyle c_{t} + \\lambda n_{t} = y_{t} \\left(1 - \\tau\\right)$"
      ],
      "text/plain": [
       "Eq(c_t + lambda*n_t, y_t*(1 - tau))"
      ]
     },
     "execution_count": 99,
     "metadata": {},
     "output_type": "execute_result"
    }
   ],
   "source": [
    "budgetconstraint = sm.Eq(c+lambda_*n,y*(1-tau))\n",
    "budgetconstraint"
   ]
  },
  {
   "cell_type": "markdown",
   "id": "1c9e638d",
   "metadata": {},
   "source": [
    "Now solving with respect to c, which is the number of surviving children"
   ]
  },
  {
   "cell_type": "code",
   "execution_count": 100,
   "id": "b3a815f1",
   "metadata": {},
   "outputs": [
    {
     "data": {
      "text/latex": [
       "$\\displaystyle - \\lambda n_{t} - \\tau y_{t} + y_{t}$"
      ],
      "text/plain": [
       "-lambda*n_t - tau*y_t + y_t"
      ]
     },
     "execution_count": 100,
     "metadata": {},
     "output_type": "execute_result"
    }
   ],
   "source": [
    "c_solve = sm.solve(budgetconstraint, c)\n",
    "c_substituted = c_solve[0]\n",
    "c_substituted"
   ]
  },
  {
   "cell_type": "markdown",
   "id": "eb2b9257",
   "metadata": {},
   "source": [
    "Inserting this in the utility function to make it a function of n, we can maximize given the equation below"
   ]
  },
  {
   "cell_type": "code",
   "execution_count": 101,
   "id": "69ed784f",
   "metadata": {},
   "outputs": [
    {
     "data": {
      "text/latex": [
       "$\\displaystyle \\beta \\log{\\left(- \\lambda n_{t} - \\tau y_{t} + y_{t} \\right)} + \\left(1 - \\beta\\right) \\log{\\left(n_{t} \\right)}$"
      ],
      "text/plain": [
       "beta*log(-lambda*n_t - tau*y_t + y_t) + (1 - beta)*log(n_t)"
      ]
     },
     "execution_count": 101,
     "metadata": {},
     "output_type": "execute_result"
    }
   ],
   "source": [
    "utility_substituted = utility.subs(c, c_substituted)\n",
    "utility_substituted"
   ]
  },
  {
   "cell_type": "markdown",
   "id": "898e331b",
   "metadata": {},
   "source": [
    "Taking the first order condition with respect to n to find the optimal level of births"
   ]
  },
  {
   "cell_type": "code",
   "execution_count": 130,
   "id": "0b3c0e77",
   "metadata": {},
   "outputs": [
    {
     "data": {
      "text/latex": [
       "$\\displaystyle - \\frac{\\beta \\lambda}{- \\lambda n_{t} - \\tau y_{t} + y_{t}} + \\frac{1 - \\beta}{n_{t}}$"
      ],
      "text/plain": [
       "-beta*lambda/(-lambda*n_t - tau*y_t + y_t) + (1 - beta)/n_t"
      ]
     },
     "execution_count": 130,
     "metadata": {},
     "output_type": "execute_result"
    }
   ],
   "source": [
    "first_order = sm.diff(utility_substituted, n)\n",
    "\n",
    "first_order"
   ]
  },
  {
   "cell_type": "markdown",
   "id": "febc6375",
   "metadata": {},
   "source": [
    "The optimal number of births are then:"
   ]
  },
  {
   "cell_type": "code",
   "execution_count": 137,
   "id": "ec5d693a",
   "metadata": {},
   "outputs": [
    {
     "data": {
      "text/latex": [
       "$\\displaystyle \\eta = \\frac{\\left(1 - \\beta\\right) \\left(1 - \\tau\\right)}{\\lambda}$"
      ],
      "text/plain": [
       "Eq(eta, (1 - beta)*(1 - tau)/lambda)"
      ]
     },
     "execution_count": 137,
     "metadata": {},
     "output_type": "execute_result"
    }
   ],
   "source": [
    "pop = sm.Eq(e, ((1-beta)/(lambda_))*(1-tau))\n",
    "pop"
   ]
  },
  {
   "cell_type": "code",
   "execution_count": 103,
   "id": "694662d7",
   "metadata": {},
   "outputs": [
    {
     "data": {
      "text/latex": [
       "$\\displaystyle \\frac{y_{t} \\left(\\beta \\tau - \\beta - \\tau + 1\\right)}{\\lambda}$"
      ],
      "text/plain": [
       "y_t*(beta*tau - beta - tau + 1)/lambda"
      ]
     },
     "execution_count": 103,
     "metadata": {},
     "output_type": "execute_result"
    }
   ],
   "source": [
    "n_solve = sm.solve(first_order, n)\n",
    "n_solve[0]"
   ]
  },
  {
   "cell_type": "code",
   "execution_count": 145,
   "id": "da219968",
   "metadata": {},
   "outputs": [
    {
     "data": {
      "text/latex": [
       "$\\displaystyle n_{t} = \\frac{y_{t} \\left(\\beta \\tau - \\beta - \\tau + 1\\right)}{\\lambda}$"
      ],
      "text/plain": [
       "Eq(n_t, y_t*(beta*tau - beta - tau + 1)/lambda)"
      ]
     },
     "execution_count": 145,
     "metadata": {},
     "output_type": "execute_result"
    }
   ],
   "source": [
    "n_solvedd = sm.Eq(n, n_solve[0])\n",
    "n_solvedd"
   ]
  },
  {
   "cell_type": "code",
   "execution_count": 152,
   "id": "2c8454aa",
   "metadata": {},
   "outputs": [
    {
     "data": {
      "text/latex": [
       "$\\displaystyle n_{t} = \\frac{y_{t} \\left(\\beta \\tau - \\beta - \\tau + 1\\right)}{\\lambda}$"
      ],
      "text/plain": [
       "Eq(n_t, y_t*(beta*tau - beta - tau + 1)/lambda)"
      ]
     },
     "execution_count": 152,
     "metadata": {},
     "output_type": "execute_result"
    }
   ],
   "source": [
    "sovledddd = n_solvedd.subs(e, (((1-beta)/(lambda_))*(1-tau)))\n",
    "sovledddd"
   ]
  },
  {
   "cell_type": "markdown",
   "id": "16afea90",
   "metadata": {},
   "source": [
    "Going further, we look at the transition equation"
   ]
  },
  {
   "cell_type": "code",
   "execution_count": 104,
   "id": "3562348b",
   "metadata": {},
   "outputs": [
    {
     "data": {
      "text/latex": [
       "$\\displaystyle L_{t} n_{t} + L_{t} \\left(1 - \\mu\\right) = L_{t+1}$"
      ],
      "text/plain": [
       "Eq(L_t*n_t + L_t*(1 - mu), L_t+1)"
      ]
     },
     "execution_count": 104,
     "metadata": {},
     "output_type": "execute_result"
    }
   ],
   "source": [
    "transition = sm.Eq(n*L+(1-mu)*L, L1)\n",
    "transition"
   ]
  },
  {
   "cell_type": "markdown",
   "id": "1781eaed",
   "metadata": {},
   "source": [
    "Inserting per capita production equation into the fertility equation assuming:"
   ]
  },
  {
   "cell_type": "code",
   "execution_count": 180,
   "id": "0bfc1945",
   "metadata": {},
   "outputs": [
    {
     "data": {
      "text/latex": [
       "$\\displaystyle y_{t} = \\left(\\frac{A X}{L_{t}}\\right)^{\\alpha}$"
      ],
      "text/plain": [
       "Eq(y_t, (A*X/L_t)**alpha)"
      ]
     },
     "execution_count": 180,
     "metadata": {},
     "output_type": "execute_result"
    }
   ],
   "source": [
    "income1 = sm.Eq(y, ((A*X)/L)**alpha)\n",
    "income1"
   ]
  },
  {
   "cell_type": "code",
   "execution_count": 172,
   "id": "15da0aec",
   "metadata": {},
   "outputs": [
    {
     "data": {
      "text/latex": [
       "$\\displaystyle L_{t} \\left(1 - \\mu\\right) + \\frac{L_{t} y_{t} \\left(\\beta \\tau - \\beta - \\tau + 1\\right)}{\\lambda} = L_{t+1}$"
      ],
      "text/plain": [
       "Eq(L_t*(1 - mu) + L_t*y_t*(beta*tau - beta - tau + 1)/lambda, L_t+1)"
      ]
     },
     "execution_count": 172,
     "metadata": {},
     "output_type": "execute_result"
    }
   ],
   "source": [
    "transition_1 = transition.subs(n, n_solve[0])\n",
    "transition_1"
   ]
  },
  {
   "cell_type": "markdown",
   "id": "dec5d717",
   "metadata": {},
   "source": [
    "So, we get:"
   ]
  },
  {
   "cell_type": "markdown",
   "id": "2541a61c",
   "metadata": {},
   "source": [
    "Using this term in the transition equation to get:"
   ]
  },
  {
   "cell_type": "code",
   "execution_count": 173,
   "id": "272f7f0e",
   "metadata": {},
   "outputs": [
    {
     "data": {
      "text/latex": [
       "$\\displaystyle L_{t} \\left(1 - \\mu\\right) + \\frac{L_{t} L_{t}^{- \\alpha} \\left(A X\\right)^{\\alpha} \\left(\\beta \\tau - \\beta - \\tau + 1\\right)}{\\lambda} = L_{t+1}$"
      ],
      "text/plain": [
       "Eq(L_t*(1 - mu) + L_t*(A*X)**alpha*(beta*tau - beta - tau + 1)/(L_t**alpha*lambda), L_t+1)"
      ]
     },
     "execution_count": 173,
     "metadata": {},
     "output_type": "execute_result"
    }
   ],
   "source": [
    "transition_2 = transition_1.subs(y, income1.rhs)\n",
    "transition_2"
   ]
  },
  {
   "cell_type": "markdown",
   "id": "8130eed1",
   "metadata": {},
   "source": [
    "Now we assume steady state levels $$L_{t+1}=L_t=L^*$$"
   ]
  },
  {
   "cell_type": "code",
   "execution_count": 182,
   "id": "237b36b5",
   "metadata": {},
   "outputs": [
    {
     "data": {
      "text/latex": [
       "$\\displaystyle L_{t} = L^{*}$"
      ],
      "text/plain": [
       "Eq(L_t, L^*)"
      ]
     },
     "execution_count": 182,
     "metadata": {},
     "output_type": "execute_result"
    }
   ],
   "source": [
    "L_steadystate = sm.Eq(L, L_ss)\n",
    "L_steadystate"
   ]
  },
  {
   "cell_type": "code",
   "execution_count": 183,
   "id": "fbc50616",
   "metadata": {},
   "outputs": [
    {
     "data": {
      "text/latex": [
       "$\\displaystyle L^{*} \\left(1 - \\mu\\right) + \\frac{L^{*} \\left(L^{*}\\right)^{- \\alpha} \\left(A X\\right)^{\\alpha} \\left(\\beta \\tau - \\beta - \\tau + 1\\right)}{\\lambda} = L^{*}$"
      ],
      "text/plain": [
       "Eq(L^**(1 - mu) + L^**(A*X)**alpha*(beta*tau - beta - tau + 1)/(L^***alpha*lambda), L^*)"
      ]
     },
     "execution_count": 183,
     "metadata": {},
     "output_type": "execute_result"
    }
   ],
   "source": [
    "transition_3 = transition_2.subs(L, L_steadystate.rhs)\n",
    "transition_4 = transition_3.subs(L1, L_steadystate.rhs)\n",
    "transition_4"
   ]
  },
  {
   "cell_type": "markdown",
   "id": "498acf50",
   "metadata": {},
   "source": [
    "In this paper the steady state is taken for the population density, X. To get the steady state given the population density, we have to make the following derivations:\n",
    "$$(L^*)^{1-\\alpha}(AX)^\\alpha\\eta=L^*\\mu$$\n",
    "$$\\Leftrightarrow L^*=(AX)\\left({\\frac{\\eta}{\\mu}}\\right)^{\\frac{1}{\\alpha}}$$\n",
    "Now, it is possible to divide by the area of land, so we can get the population density:\n",
    "$$\\Leftrightarrow \\frac{L^*}{X}=A\\left({\\frac{\\eta}{\\mu}}\\right)^{\\frac{1}{\\alpha}}$$\n",
    "From this point on, whenever we refer to the steady state of population, we look at the expression above.\n",
    "However, we must not forget to substitute $\\eta\\equiv \\frac{(1-\\beta)(1-\\tau)}{\\lambda}$"
   ]
  },
  {
   "cell_type": "markdown",
   "id": "e1189c9b",
   "metadata": {},
   "source": [
    "Solving the steady state level for population:"
   ]
  },
  {
   "cell_type": "code",
   "execution_count": 221,
   "id": "64273e1a",
   "metadata": {},
   "outputs": [
    {
     "data": {
      "text/latex": [
       "$\\displaystyle A \\left(\\frac{\\left(1 - \\beta\\right) \\left(1 - \\tau\\right)}{\\lambda \\mu}\\right)^{\\frac{1}{\\alpha}} = L^{*}$"
      ],
      "text/plain": [
       "Eq(A*((1 - beta)*(1 - tau)/(lambda*mu))**(1/alpha), L^*)"
      ]
     },
     "execution_count": 221,
     "metadata": {},
     "output_type": "execute_result"
    }
   ],
   "source": [
    "L_steadystate1 = sm.Eq((A*(((1-beta)*(1-tau))/(lambda_*mu))**(1/alpha)), L_ss)\n",
    "L_steadystate1"
   ]
  },
  {
   "cell_type": "markdown",
   "id": "af5926b4",
   "metadata": {},
   "source": [
    "We have the steady state for population and can therefore insert it in the income equation to get the steady state income level $$y^*=\\left(\\frac{AX}{L^*}\\right)^\\alpha$$\n"
   ]
  },
  {
   "cell_type": "code",
   "execution_count": 192,
   "id": "ccb4e21c",
   "metadata": {},
   "outputs": [
    {
     "data": {
      "text/latex": [
       "$\\displaystyle y_{t} = \\left(X \\left(\\frac{\\left(1 - \\beta\\right) \\left(1 - \\tau\\right)}{\\lambda \\mu}\\right)^{- \\frac{1}{\\alpha}}\\right)^{\\alpha}$"
      ],
      "text/plain": [
       "Eq(y_t, (X/((1 - beta)*(1 - tau)/(lambda*mu))**(1/alpha))**alpha)"
      ]
     },
     "execution_count": 192,
     "metadata": {},
     "output_type": "execute_result"
    }
   ],
   "source": [
    "income2 = income1.subs(L, L_steadystate1.lhs)\n",
    "income2"
   ]
  },
  {
   "cell_type": "markdown",
   "id": "ff38fb57",
   "metadata": {},
   "source": [
    "When Python reads the parameter values, it will return False if the exponential is negative. Therefore, we use the sm.Abs function to take the absolute values of the expression."
   ]
  },
  {
   "cell_type": "code",
   "execution_count": 218,
   "id": "9badc24d",
   "metadata": {},
   "outputs": [
    {
     "data": {
      "text/latex": [
       "$\\displaystyle \\left|{\\left(X \\left(\\frac{\\left(1 - \\beta\\right) \\left(1 - \\tau\\right)}{\\lambda \\mu}\\right)^{- \\frac{1}{\\alpha}}\\right)^{\\alpha}}\\right|$"
      ],
      "text/plain": [
       "Abs((X/((1 - beta)*(1 - tau)/(lambda*mu))**(1/alpha))**alpha)"
      ]
     },
     "execution_count": 218,
     "metadata": {},
     "output_type": "execute_result"
    }
   ],
   "source": [
    "income3 = sm.Abs((((A*X)/L_steadystate1.lhs)**alpha))\n",
    "income3"
   ]
  },
  {
   "cell_type": "markdown",
   "id": "76c66479",
   "metadata": {},
   "source": [
    "For the parameters to be used in a computational way, they need to be converted using the lambdify option from sympy."
   ]
  },
  {
   "cell_type": "code",
   "execution_count": 219,
   "id": "acc8f8f8",
   "metadata": {},
   "outputs": [],
   "source": [
    "steadystate_income = sm.lambdify((X, alpha, beta,lambda_,mu,tau), income3)"
   ]
  },
  {
   "cell_type": "markdown",
   "id": "1bd09e94",
   "metadata": {},
   "source": [
    "Assuming the following parameter values:\n",
    "- $X = 1$\n",
    "- $\\alpha = 0.5$\n",
    "- $\\beta = 0.5$\n",
    "- $\\lambda = 1$\n",
    "- $\\mu = 0.01$\n",
    "- $\\tau = 0.4$"
   ]
  },
  {
   "cell_type": "code",
   "execution_count": 220,
   "id": "e61b6acb",
   "metadata": {},
   "outputs": [
    {
     "data": {
      "text/plain": [
       "0.03333333333333333"
      ]
     },
     "execution_count": 220,
     "metadata": {},
     "output_type": "execute_result"
    }
   ],
   "source": [
    "steadystate_income(1, 0.5, 0.5, 1, 0.01, 0.4)"
   ]
  },
  {
   "cell_type": "code",
   "execution_count": null,
   "id": "0ccc2865",
   "metadata": {},
   "outputs": [],
   "source": []
  }
 ],
 "metadata": {
  "kernelspec": {
   "display_name": "Python 3 (ipykernel)",
   "language": "python",
   "name": "python3"
  },
  "language_info": {
   "codemirror_mode": {
    "name": "ipython",
    "version": 3
   },
   "file_extension": ".py",
   "mimetype": "text/x-python",
   "name": "python",
   "nbconvert_exporter": "python",
   "pygments_lexer": "ipython3",
   "version": "3.11.5"
  }
 },
 "nbformat": 4,
 "nbformat_minor": 5
}
