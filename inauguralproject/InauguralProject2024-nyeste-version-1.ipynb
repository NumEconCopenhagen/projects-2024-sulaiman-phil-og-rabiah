{
 "cells": [
  {
   "cell_type": "markdown",
   "metadata": {},
   "source": [
    "**Table of contents**<a id='toc0_'></a>    \n",
    "- 1. [Illustrating the Edgeworth box given set $\\mathcal{C}$](#toc1_)    \n",
    "- 2. [Calculating the error in the market clearing conditions](#toc2_)      \n",
    "- 3. [Market clearing price](#toc3_)    \n",
    "- 4. [Price optimization](#toc4_)\n",
    "- 5. [Utility optimization](#toc5_)\n",
    "- 6. [Social planner optimization](#toc6_)\n",
    "- 7. [Drawing of set $\\mathcal{W}$](#toc7_)\n",
    "- 8. [Market equilibrium](#toc8_)         \n",
    "<!-- vscode-jupyter-toc-config\n",
    "\tnumbering=true\n",
    "\tanchor=true\n",
    "\tflat=false\n",
    "\tminLevel=2\n",
    "\tmaxLevel=6\n",
    "\t/vscode-jupyter-toc-config -->\n",
    "<!-- THIS CELL WILL BE REPLACED ON TOC UPDATE. DO NOT WRITE YOUR TEXT IN THIS CELL -->"
   ]
  },
  {
   "cell_type": "markdown",
   "metadata": {},
   "source": [
    "# Imports"
   ]
  },
  {
   "cell_type": "code",
   "execution_count": 2,
   "metadata": {
    "scrolled": true
   },
   "outputs": [
    {
     "name": "stdout",
     "output_type": "stream",
     "text": [
      "The autoreload extension is already loaded. To reload it, use:\n",
      "  %reload_ext autoreload\n"
     ]
    },
    {
     "ename": "ImportError",
     "evalue": "cannot import name 'ExchangeEconomyClass' from 'inauguralproject' (c:\\Users\\Ejer\\projects-2024-sulaiman-phil-og-rabiah\\inauguralproject\\inauguralproject.py)",
     "output_type": "error",
     "traceback": [
      "\u001b[1;31m---------------------------------------------------------------------------\u001b[0m",
      "\u001b[1;31mImportError\u001b[0m                               Traceback (most recent call last)",
      "Cell \u001b[1;32mIn[2], line 7\u001b[0m\n\u001b[0;32m      5\u001b[0m get_ipython()\u001b[38;5;241m.\u001b[39mrun_line_magic(\u001b[38;5;124m'\u001b[39m\u001b[38;5;124mload_ext\u001b[39m\u001b[38;5;124m'\u001b[39m, \u001b[38;5;124m'\u001b[39m\u001b[38;5;124mautoreload\u001b[39m\u001b[38;5;124m'\u001b[39m)\n\u001b[0;32m      6\u001b[0m get_ipython()\u001b[38;5;241m.\u001b[39mrun_line_magic(\u001b[38;5;124m'\u001b[39m\u001b[38;5;124mautoreload\u001b[39m\u001b[38;5;124m'\u001b[39m, \u001b[38;5;124m'\u001b[39m\u001b[38;5;124m2\u001b[39m\u001b[38;5;124m'\u001b[39m)\n\u001b[1;32m----> 7\u001b[0m \u001b[38;5;28;01mfrom\u001b[39;00m \u001b[38;5;21;01minauguralproject\u001b[39;00m \u001b[38;5;28;01mimport\u001b[39;00m ExchangeEconomyClass\n",
      "\u001b[1;31mImportError\u001b[0m: cannot import name 'ExchangeEconomyClass' from 'inauguralproject' (c:\\Users\\Ejer\\projects-2024-sulaiman-phil-og-rabiah\\inauguralproject\\inauguralproject.py)"
     ]
    }
   ],
   "source": [
    "import matplotlib.pyplot as plt\n",
    "plt.rcParams.update({\"axes.grid\":True,\"grid.color\":\"black\",\"grid.alpha\":\"0.25\",\"grid.linestyle\":\"--\"})\n",
    "plt.rcParams.update({'font.size': 14})\n",
    "\n",
    "%load_ext autoreload\n",
    "%autoreload 2\n",
    "from inauguralproject import ExchangeEconomyClass"
   ]
  },
  {
   "cell_type": "markdown",
   "metadata": {},
   "source": [
    "# Model class\n",
    "\n",
    "The ExchangeEconomyClass file code has been inserted into .py file, and ran imported below to model."
   ]
  },
  {
   "cell_type": "markdown",
   "metadata": {},
   "source": [
    "### 2.1. <a id='toc2_1_'></a>[Basic Edgeworth box](#toc0_)"
   ]
  },
  {
   "cell_type": "code",
   "execution_count": null,
   "metadata": {},
   "outputs": [],
   "source": [
    "model = ExchangeEconomyClass()"
   ]
  },
  {
   "cell_type": "code",
   "execution_count": null,
   "metadata": {},
   "outputs": [],
   "source": [
    "model = ExchangeEconomyClass()\n",
    "par = model.par\n",
    "# a. total endowment\n",
    "w1bar = 1.0\n",
    "w2bar = 1.0\n",
    "\n",
    "# b. figure set up\n",
    "fig = plt.figure(frameon=False,figsize=(6,6), dpi=100)\n",
    "ax_A = fig.add_subplot(1, 1, 1)\n",
    "\n",
    "ax_A.set_xlabel(\"$x_1^A$\")\n",
    "ax_A.set_ylabel(\"$x_2^A$\")\n",
    "\n",
    "temp = ax_A.twinx()\n",
    "temp.set_ylabel(\"$x_2^B$\")\n",
    "ax_B = temp.twiny()\n",
    "ax_B.set_xlabel(\"$x_1^B$\")\n",
    "ax_B.invert_xaxis()\n",
    "ax_B.invert_yaxis()\n",
    "\n",
    "# A\n",
    "ax_A.scatter(par.w1A,par.w2A,marker='s',color='black',label='endowment')\n",
    "\n",
    "# limits\n",
    "ax_A.plot([0,w1bar],[0,0],lw=2,color='black')\n",
    "ax_A.plot([0,w1bar],[w2bar,w2bar],lw=2,color='black')\n",
    "ax_A.plot([0,0],[0,w2bar],lw=2,color='black')\n",
    "ax_A.plot([w1bar,w1bar],[0,w2bar],lw=2,color='black')\n",
    "\n",
    "ax_A.set_xlim([-0.1, w1bar + 0.1])\n",
    "ax_A.set_ylim([-0.1, w2bar + 0.1])    \n",
    "ax_B.set_xlim([w1bar + 0.1, -0.1])\n",
    "ax_B.set_ylim([w2bar + 0.1, -0.1])\n",
    "\n",
    "ax_A.legend(frameon=True,loc='upper right',bbox_to_anchor=(1.6,1.0));"
   ]
  },
  {
   "cell_type": "markdown",
   "metadata": {},
   "source": [
    "## 1. <a id='toc1_'></a>[Illustrating the Edgeworth box given set $\\mathcal{C}$](#toc1_)\n",
    "\n",
    "We use set $\\mathcal{C}$ to illustrate the Edgeworth box, depicting the solutions on the contract curve. The pareto optimal allocations in relation to the initial endowments are computed. \n",
    "\n",
    "Indifference curves for each player are drawn and are convex. representing combinations of the two goods that provide the same level of utility to the given player.\n",
    "\n",
    "Any movement from an initial point to a closer point on the contract curve would represent a Pareto improvement, leaving atleast one player better off and no one other player worse off. Thus, agents should trade within any point on the contract curve that lies withnin $\\mathcal{C}$. "
   ]
  },
  {
   "cell_type": "code",
   "execution_count": null,
   "metadata": {},
   "outputs": [],
   "source": [
    "\n",
    "print(par)\n",
    "N = 75\n",
    "x1A, x2A = np.linspace(0,1,N), np.linspace(0,1,N)\n",
    "pareto = model.pareto(x1A,x2A)\n",
    "\n",
    "import matplotlib.pyplot as plt\n",
    "# Taking x and y from the pareto list\n",
    "x_coords = [pair[0] for pair in pareto]\n",
    "y_coords = [pair[1] for pair in pareto]\n",
    "\n",
    "\n",
    "w1bar = 1.0\n",
    "w2bar = 1.0\n",
    "\n",
    "#Properties for the figure\n",
    "fig = plt.figure(frameon=False,figsize=(6,6), dpi=100)\n",
    "ax_A = fig.add_subplot(1, 1, 1)\n",
    "\n",
    "ax_A.set_xlabel(\"$x_1^A$\")\n",
    "ax_A.set_ylabel(\"$x_2^A$\")\n",
    "\n",
    "temp = ax_A.twinx()\n",
    "temp.set_ylabel(\"$x_2^B$\")\n",
    "ax_B = temp.twiny()\n",
    "ax_B.set_xlabel(\"$x_1^B$\")\n",
    "ax_B.invert_xaxis()\n",
    "ax_B.invert_yaxis()\n",
    "\n",
    "# A\n",
    "ax_A.scatter(par.w1A,par.w2A,marker='s',color='black',label='endowment')\n",
    "ax_A.scatter(x_coords, y_coords, label='Pareto improvement', color='red')\n",
    "\n",
    "# limits\n",
    "ax_A.plot([0,w1bar],[0,0],lw=2,color='black')\n",
    "ax_A.plot([0,w1bar],[w2bar,w2bar],lw=2,color='black')\n",
    "ax_A.plot([0,0],[0,w2bar],lw=2,color='black')\n",
    "ax_A.plot([w1bar,w1bar],[0,w2bar],lw=2,color='black')\n",
    "\n",
    "ax_A.set_xlim([-0.1, w1bar + 0.1])\n",
    "ax_A.set_ylim([-0.1, w2bar + 0.1])    \n",
    "ax_B.set_xlim([w1bar + 0.1, -0.1])\n",
    "ax_B.set_ylim([w2bar + 0.1, -0.1])\n",
    "\n",
    "ax_A.legend(frameon=True,loc='lower left');\n"
   ]
  },
  {
   "cell_type": "markdown",
   "metadata": {},
   "source": [
    "## 2. <a id='toc2_'></a>[Calculating the error in the market clearing conditions](#toc2_)\n",
    "\n",
    "We find possible errors in the market clearing condition by looping over possible values in $p_{1}$ for $p_{1}\\in\\mathcal{P_1}$ The market clearing condition is illustrated."
   ]
  },
  {
   "cell_type": "code",
   "execution_count": null,
   "metadata": {},
   "outputs": [],
   "source": [
    "p1 = []\n",
    "for i in range(N+1):\n",
    "    p1.append(0.5 + 2*i/N)\n",
    "\n",
    "#initializing error term\n",
    "error = []\n",
    "for i in p1:\n",
    "    error.append(model.check_market_clearing(i))\n",
    "    \n",
    "print(error[0:5])\n"
   ]
  },
  {
   "cell_type": "code",
   "execution_count": null,
   "metadata": {},
   "outputs": [],
   "source": [
    "fig = plt.figure(figsize=(12,8))\n",
    "\n",
    "ax = fig.add_subplot(1,1,1)\n",
    "ax.set_title('error in market clearing condition')\n",
    "ax.plot(p1,error,'-o',label='Clearing error, good 1')\n",
    "\n",
    "ax.set_xlabel('$p_1 \\in \\mathcal{P}_1$')\n",
    "ax.set_ylabel('$\\epsilon_1/\\epsilon_2$')\n",
    "ax.set_xlim([0.5, 2.5])\n",
    "ax.legend(frameon=True)"
   ]
  },
  {
   "cell_type": "markdown",
   "metadata": {},
   "source": [
    "By observing the above graph, the equilibrium price is identified at the intersecting graphs. This gives the equilibrium price as approximately 0.9. In this this point the error in the market clearing is 0. By applying Walras' law, this would mean the clearing of one market also clears the other."
   ]
  },
  {
   "cell_type": "markdown",
   "metadata": {},
   "source": [
    "## 3. <a id='toc3_'></a>[Market clearing price](#toc3_)\n",
    "\n",
    "The market clearing price is given as the price at which the demand for a good equates the price. This means the clearing price is the choice of p1 that will minimize errors calculated in Question 2. The market clearing price is observed as being close to 1, but a more precisely price is now calculated. Walras' law is applied, and both markets will clear. Furthermore this means we only need to check for one of the computed errors."
   ]
  },
  {
   "cell_type": "code",
   "execution_count": null,
   "metadata": {},
   "outputs": [],
   "source": [
    "# Solving the model using Walras's law + scipy's root_scalar function\n",
    "model.solve(type='market')\n",
    "\n",
    "# Saving the following solutions to be used for a plot later in the assignment\n",
    "x1A_best_market=model.sol.x1\n",
    "x2A_best_market=model.sol.x2\n",
    "U_market = model.sol.u"
   ]
  },
  {
   "cell_type": "markdown",
   "metadata": {},
   "source": [
    "## 4. <a id='toc4_'></a>[Price optimization](#toc4_)\n",
    "\n",
    "## 4a. <a id='toc4_'></a>[Finding allocation if only prices in p1 can be chosen](#toc4_)\n",
    "\n",
    "\n",
    "Consumer A chooses p1 from $p_{1}$ for $\\mathcal{P_1}$ that will maximize her utility. The maximization of the utility is found by looping over all possible $p_{1}$ by taking into account consumer B's consumption bundle at the same given $p_{1}$."
   ]
  },
  {
   "cell_type": "code",
   "execution_count": null,
   "metadata": {},
   "outputs": [],
   "source": [
    "utility_1 = -np.inf\n",
    "price_1 = None\n",
    "\n",
    "# Looping over p1 \n",
    "for i in p1:\n",
    "# Ensuring that 1-demand_B is greater than 0, so we dont end up with 0 utility for consumer A\n",
    "    if 1-model.demand_B(i)[0] > 0 and 1-model.demand_B(i)[1]>0:\n",
    "\n",
    "        # Compute the utility for the good left over for A\n",
    "        utilitymax_A = model.utility_A(1-model.demand_B(i)[0], 1-model.demand_B(i)[1])\n",
    "        # Renew utility_1 if utilitymax_A is greater\n",
    "        if utilitymax_A > utility_1:\n",
    "            utility_1 = utilitymax_A\n",
    "            price_1 = i\n",
    "\n",
    "index = np.nanargmax(utilitymax_A)\n",
    "print(f'Consumer A will choose p1 = {price_1:.2f} to maximize its own utility, which is {utilitymax_A:.2f}')\n",
    "print(f'The allocation is given as: x1A = {model.demand_A(price_1)[0]:.2f} and x2A = {model.demand_A(price_1)[1]:.2f}')\n"
   ]
  },
  {
   "cell_type": "markdown",
   "metadata": {},
   "source": [
    "## 4b. <a id='toc4_'></a>[Finding allocation if any positive price can be chosen](#toc4_)\n",
    "\n",
    "We utilize the same method seen in 4.b for $p_{1}>0$ by looping over $p_{1}$ in the given numpy range: 0 to 100. "
   ]
  },
  {
   "cell_type": "code",
   "execution_count": null,
   "metadata": {},
   "outputs": [],
   "source": [
    "utility_2= -np.inf\n",
    "anyprice_1 = None\n",
    "# Loop over any price between 0 and 100\n",
    "for i in np.arange(0.00001,100,1e-3):\n",
    "\n",
    "    # Be sure that the good left over for A is of positive utility since negative good quantities will correspond to a utility value in complex numbers\n",
    "    if 1-model.demand_B(i)[0] > 0 and 1-model.demand_B(i)[1]>0:\n",
    "\n",
    "        # Compute the utility for the good left over for A\n",
    "        utilitymax_A = model.utility_A(1-model.demand_B(i)[0], 1-model.demand_B(i)[1])\n",
    "        \n",
    "        # Update ua_best if ua is of higher value\n",
    "        if utilitymax_A > utility_2:\n",
    "            utility_2 = utilitymax_A\n",
    "            anyprice_1 = i\n",
    "\n",
    "print(f'If A can choose any p1>0, A chooses the price p1 = {anyprice_1:.2f} to maximize her own utility, which is then {utility_2:.2f}')\n",
    "print(f'The allocation is then: x1B = {model.demand_B(anyprice_1)[0]:.2f} and x2B = {model.demand_B(anyprice_1)[1]:.2f}')\n",
    "print(f'For consumer A it is: x1A = {1-model.demand_B(anyprice_1)[0]:.2f} and x2A = {1-model.demand_B(anyprice_1)[1]:.2f}')\n",
    "\n",
    "#Why is the price almost the same as when we had to choose from the price vector? In this case we expect a lower price, when the consumer \n",
    "# can choose any price p>0 such as 0.2"
   ]
  },
  {
   "cell_type": "markdown",
   "metadata": {
    "jp-MarkdownHeadingCollapsed": true
   },
   "source": [
    "## 5. <a id='toc5_'></a>[Utility optimization](#toc5_)\n",
    "\n",
    "In question 5 we assume that A chooses B’s consumption, but such that B is not worse of than in the initial endowment. This makes A the market maker, from which A will maximize the its utility."
   ]
  },
  {
   "cell_type": "markdown",
   "metadata": {},
   "source": [
    "## 5a. <a id='toc5_'></a>[Allocation in restricted choice set](#toc5_)\n",
    "\n",
    "A maximizes its utility while choosing the given bundle: $(x_1^A, x_2^A)$."
   ]
  },
  {
   "cell_type": "code",
   "execution_count": null,
   "metadata": {},
   "outputs": [],
   "source": [
    "from scipy.optimize import minimize\n",
    "# Assuming the list of tuples is stored in the variable 'pareto_improve'\n",
    "x1A_c, x2A_c = zip(*pareto)\n",
    "x1A_c, x2A_c = np.array(x1A_c).flatten(), np.array(x2A_c).flatten() # Flattening the list of tuples\n",
    "\n",
    "utilityA_c = model.utility_A(x1A_c,x2A_c)\n",
    "# print(utilityA_c)\n",
    "\n",
    "# # Finding the maximum utility and the corresponding index (Using nanmax and nanargmax to handle NaN values)\n",
    "utilityA_max_c = np.max(utilityA_c)\n",
    "index_c = np.argmax(utilityA_c)\n",
    "\n",
    "print(f'UtilityA_max_c = {utilityA_max_c:.4f}')\n",
    "print(f'The allocation is for agent A: x1 = {1-x1A_c[index]:.4f}, x2 = {1-x2A_c[index]:.4f}')"
   ]
  },
  {
   "cell_type": "markdown",
   "metadata": {},
   "source": [
    "## 5b. <a id='toc5_'></a>[Allocation without further restrictions](#toc5_)\n",
    "\n",
    "When there are no restrictions imposed, A maximizes its utility under the given constriction s.t. Possible allocations are now infinitely large between the interval 0 to 1. N is set to 2000."
   ]
  },
  {
   "cell_type": "code",
   "execution_count": null,
   "metadata": {},
   "outputs": [],
   "source": [
    "# In this case we have that x1A and x2A exist on values between 0 and 1\n",
    "\n",
    "# Specifying a great number of N\n",
    "N = 1998\n",
    "\n",
    "# Set initial conditions\n",
    "x1possible = np.linspace(0, 1, N)\n",
    "x2possible = np.linspace(0, 1, N)\n",
    "utilitymax_A = -np.inf\n",
    "x1best = -np.inf\n",
    "x2best = -np.inf\n",
    "\n",
    "# Similar loop as 5.a \n",
    "for x1A in x1possible:\n",
    "    for x2A in x2possible:\n",
    "        utilitynew_A = model.utility_A(x1A, x2A)\n",
    "        if model.utility_A(x1A, x2A) > utilitymax_A and model.utility_B(1 - x1A, 1 - x2A) >= model.utility_B(1 - par.w1A, 1 - par.w2A):\n",
    "            utilitymax_A = utilitynew_A\n",
    "            x1best = x1A \n",
    "            x2best = x2A\n",
    "\n",
    "print(f'Max level of utility consumer A = {utilitymax_A:.3f}: (x1A, x2A) = ({x1best:.3f}, {x2best:.3f})')\n",
    "print(f'Max level of utility consumer B = {model.utility_B(1 - x1best, 1 - x2best):.3f}: (x1B, x2B) = ({1 - x1best:.3f}, {1 - x2best:.3f})')\n"
   ]
  },
  {
   "cell_type": "markdown",
   "metadata": {},
   "source": [
    "## 6. <a id='toc6_'></a>[Social planner optimization](#toc6_)\n",
    "\n",
    "We assumme A’s and B’s consumption are chosen by a utilitarian social planner to maximize\n",
    "aggregate utility"
   ]
  },
  {
   "cell_type": "markdown",
   "metadata": {},
   "source": [
    "## 6a. <a id='toc6_'></a>[Finding the allocation](#toc6_)\n"
   ]
  },
  {
   "cell_type": "code",
   "execution_count": null,
   "metadata": {},
   "outputs": [],
   "source": [
    "x1A_social, x2A_social= model.solve_social_planner()\n",
    "print(f'Allocation: x1 = {x1A_social:.3f}, x2 = {x2A_social:.3f}')\n",
    "print(f'And utility = {model.utility_A(x1A_social,x2A_social):.3f}')"
   ]
  },
  {
   "cell_type": "markdown",
   "metadata": {},
   "source": [
    "## 6b. <a id='toc6_'></a>[Illustration ](#toc6_)\n",
    "\n",
    "Allocations are plotted and illustrated in the Edgeworth box"
   ]
  },
  {
   "cell_type": "code",
   "execution_count": null,
   "metadata": {},
   "outputs": [],
   "source": [
    "# All endowment held by each consumer\n",
    "w1bar = 1.0\n",
    "w2bar = 1.0\n",
    "\n",
    "fig = plt.figure(frameon=False, figsize=(6, 6), dpi=100)\n",
    "ax_A = fig.add_subplot(1, 1, 1)\n",
    "\n",
    "ax_A.set_xlabel(\"$x_1^A$\")\n",
    "ax_A.set_ylabel(\"$x_2^A$\")\n",
    "\n",
    "temp = ax_A.twinx()\n",
    "temp.set_ylabel(\"$x_2^B$\")\n",
    "ax_B = temp.twiny()\n",
    "ax_B.set_xlabel(\"$x_1^B$\")\n",
    "ax_B.invert_xaxis()\n",
    "ax_B.invert_yaxis()\n",
    "\n",
    "# Plotting the points\n",
    "ax_A.scatter(model.par.w1A, model.par.w2A, marker='s', color='red', label='endowment')\n",
    "ax_A.scatter(x1best, x2best, color='blue', label=f'market, U={U_market:.4f}')\n",
    "ax_A.scatter(x1best, x2best, color='orange', label=f'market maker, U={utilitymax_A + model.utility_B(1-x1best, 1-x2best):.4f}')\n",
    "ax_A.scatter(x1A_social, x2A_social, color='green', label=f'social planner, U={model.utility_A(x1A_social, x2A_social):.4f}')\n",
    "ax_A.scatter(x_coords, y_coords, color='purple', alpha=0.3, label='pareto improvements')\n",
    "\n",
    "# limits\n",
    "ax_A.plot([0, w1bar], [0, 0], lw=2, color='black')\n",
    "ax_A.plot([0, w1bar], [w2bar, w2bar], lw=2, color='black')\n",
    "ax_A.plot([0, 0], [0, w2bar], lw=2, color='black')\n",
    "ax_A.plot([w1bar, w1bar], [0, w2bar], lw=2, color='black')\n",
    "\n",
    "ax_A.set_xlim([-0.1, w1bar + 0.1])\n",
    "ax_A.set_ylim([-0.1, w2bar + 0.1])\n",
    "ax_B.set_xlim([w1bar + 0.1, -0.1])\n",
    "ax_B.set_ylim([w2bar + 0.1, -0.1])\n",
    "\n",
    "# Adding a title and adjusting the legend\n",
    "ax_A.set_title('Edgeworth Box with Allocations')\n",
    "ax_A.legend(frameon=True, loc='upper right', bbox_to_anchor=(1.6, 1.0))\n",
    "\n",
    "plt.show()\n"
   ]
  },
  {
   "cell_type": "markdown",
   "metadata": {},
   "source": [
    "## 7. <a id='toc7_'></a>[Drawing of set $\\mathcal{W}$](#toc7_)\n",
    "\n",
    "A set W with 50 elements are drawn. The illustration is made up of a data type that is of random endowment and drawn from uniform distribution."
   ]
  },
  {
   "cell_type": "code",
   "execution_count": null,
   "metadata": {},
   "outputs": [],
   "source": [
    "# Setting seed\n",
    "np.random.seed(1)\n",
    "\n",
    "w1A = np.random.uniform(low=0,high=1,size=50)\n",
    "w2A = np.random.uniform(low=0,high=1,size=50)\n",
    "\n",
    "fig = plt.figure(frameon=False,figsize=(6,6), dpi=100)\n",
    "ax_D = fig.add_subplot(1, 1, 1)\n",
    "\n",
    "ax_D.set_xlabel(\"$\\omega_1^A$\")\n",
    "ax_D.set_ylabel(\"$\\omega_2^A$\")\n",
    "ax_D.set_title(\"Endowments taken from a uniform distribution\")\n",
    "\n",
    "ax_D.scatter(w1A, w2A, label = \"endowment pairs\", color=\"red\", marker=\".\")\n",
    "ax_D.legend()"
   ]
  },
  {
   "cell_type": "markdown",
   "metadata": {},
   "source": [
    "## 8. <a id='toc6_'></a>[Market equilibrium](#toc8_)\n",
    "\n",
    "We find the market equilibrium allocation for each bundle. The equilibrium is plotted in the Edgeworth box."
   ]
  },
  {
   "cell_type": "code",
   "execution_count": null,
   "metadata": {},
   "outputs": [],
   "source": [
    "equlibriums = []\n",
    "\n",
    "for i in range(len(w1A)):\n",
    "    w1A_val = w1A[i]\n",
    "    w2A_val = w2A[i]\n",
    "    print(f'Iteration {i+1}: w1A = {w1A_val:.3f}, w2A = {w2A_val:.3f}')\n",
    "    model.par.w1A = w1A_val\n",
    "    model.par.w2A = w2A_val\n",
    "    model.solve(type='market')\n",
    "    \n",
    "    equlibriums.append((model.sol.x1, model.sol.x2))\n",
    "    \n",
    "    print(f'Iteration {i+1}: w1A = {w1A_val:.3f}, w2A = {w2A_val:.3f}')\n",
    "\n",
    "# Unpack the equilibrium results\n",
    "x1A_w, x2A_w = zip(*equlibriums)\n",
    "\n",
    "# Reset model parameters to orignial:\n",
    "model.par.w1A = 0.8\n",
    "model.par.w2A = 0.3"
   ]
  },
  {
   "cell_type": "code",
   "execution_count": null,
   "metadata": {},
   "outputs": [],
   "source": [
    "w1bar = 1.0\n",
    "w2bar = 1.0\n",
    "fig = plt.figure(frameon=False,figsize=(6,6), dpi=100)\n",
    "ax_A = fig.add_subplot(1, 1, 1)\n",
    "\n",
    "ax_A.set_xlabel(\"$x_1^A$\")\n",
    "ax_A.set_ylabel(\"$x_2^A$\")\n",
    "\n",
    "temp = ax_A.twinx()\n",
    "temp.set_ylabel(\"$x_2^B$\")\n",
    "ax_B = temp.twiny()\n",
    "ax_B.set_xlabel(\"$x_1^B$\")\n",
    "ax_B.invert_xaxis()\n",
    "ax_B.invert_yaxis()\n",
    "\n",
    "# A\n",
    "ax_A.scatter(w1A,w2A,marker='.',color='red',label='Endowments')\n",
    "ax_A.scatter(x1A_w,x2A_w, marker='D', s=10, label=f'Equilibriums')\n",
    "\n",
    "\n",
    "# Limits\n",
    "ax_A.plot([0,w1bar],[0,0],lw=2,color='black')\n",
    "ax_A.plot([0,w1bar],[w2bar,w2bar],lw=2,color='black')\n",
    "ax_A.plot([0,0],[0,w2bar],lw=2,color='black')\n",
    "ax_A.plot([w1bar,w1bar],[0,w2bar],lw=2,color='black')\n",
    "\n",
    "ax_A.set_xlim([-0.1, w1bar + 0.1])\n",
    "ax_A.set_ylim([-0.1, w2bar + 0.1])\n",
    "ax_B.set_xlim([w1bar + 0.1, -0.1])\n",
    "ax_B.set_ylim([w2bar + 0.1, -0.1])\n",
    "\n",
    "ax_A.legend(frameon=True, loc='lower right', bbox_to_anchor=(1.6,1.0));"
   ]
  },
  {
   "cell_type": "markdown",
   "metadata": {},
   "source": [
    "The Walras-equilibria is observed in the Edgeworth Box, displaying endowments and equilibria. It takes the shape a curve which corresponds to a contract curve which has within it the inner solutions and allocations after trade. Furthermore, in this allocation both players are both players are well off."
   ]
  }
 ],
 "metadata": {
  "kernelspec": {
   "display_name": "Python 3 (ipykernel)",
   "language": "python",
   "name": "python3"
  },
  "language_info": {
   "codemirror_mode": {
    "name": "ipython",
    "version": 3
   },
   "file_extension": ".py",
   "mimetype": "text/x-python",
   "name": "python",
   "nbconvert_exporter": "python",
   "pygments_lexer": "ipython3",
   "version": "3.11.7"
  },
  "vscode": {
   "interpreter": {
    "hash": "47ef90cdf3004d3f859f1fb202523c65c07ba7c22eefd261b181f4744e2d0403"
   }
  }
 },
 "nbformat": 4,
 "nbformat_minor": 4
}
